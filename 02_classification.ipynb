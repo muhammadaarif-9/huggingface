{
  "nbformat": 4,
  "nbformat_minor": 0,
  "metadata": {
    "colab": {
      "name": "02_classification.ipynb",
      "provenance": [],
      "collapsed_sections": [
        "t-fyJPnzlmUu",
        "W6k6K3-ylwfW",
        "tS4s1NPWoK5Y"
      ],
      "authorship_tag": "ABX9TyNnVVtZdxN8nEvNlpuzFy7z",
      "include_colab_link": true
    },
    "kernelspec": {
      "name": "python3",
      "display_name": "Python 3"
    },
    "language_info": {
      "name": "python"
    },
    "widgets": {
      "application/vnd.jupyter.widget-state+json": {
        "41703262bf77485b9a0f54b06213ae81": {
          "model_module": "@jupyter-widgets/controls",
          "model_name": "HBoxModel",
          "model_module_version": "1.5.0",
          "state": {
            "_dom_classes": [],
            "_model_module": "@jupyter-widgets/controls",
            "_model_module_version": "1.5.0",
            "_model_name": "HBoxModel",
            "_view_count": null,
            "_view_module": "@jupyter-widgets/controls",
            "_view_module_version": "1.5.0",
            "_view_name": "HBoxView",
            "box_style": "",
            "children": [
              "IPY_MODEL_9b25586393214855810db1ac54a858f7",
              "IPY_MODEL_5b127816ec9146a0a772e5d92d87565b",
              "IPY_MODEL_1abda54c613e468096932fab8886f153"
            ],
            "layout": "IPY_MODEL_da0ce3667e63401c8bc0e96624728020"
          }
        },
        "9b25586393214855810db1ac54a858f7": {
          "model_module": "@jupyter-widgets/controls",
          "model_name": "HTMLModel",
          "model_module_version": "1.5.0",
          "state": {
            "_dom_classes": [],
            "_model_module": "@jupyter-widgets/controls",
            "_model_module_version": "1.5.0",
            "_model_name": "HTMLModel",
            "_view_count": null,
            "_view_module": "@jupyter-widgets/controls",
            "_view_module_version": "1.5.0",
            "_view_name": "HTMLView",
            "description": "",
            "description_tooltip": null,
            "layout": "IPY_MODEL_924c33a50c61472fa178a5484d85b7c2",
            "placeholder": "​",
            "style": "IPY_MODEL_4f6870b20fd2473d9534f29d1b8eeeca",
            "value": "Downloading data files: 100%"
          }
        },
        "5b127816ec9146a0a772e5d92d87565b": {
          "model_module": "@jupyter-widgets/controls",
          "model_name": "FloatProgressModel",
          "model_module_version": "1.5.0",
          "state": {
            "_dom_classes": [],
            "_model_module": "@jupyter-widgets/controls",
            "_model_module_version": "1.5.0",
            "_model_name": "FloatProgressModel",
            "_view_count": null,
            "_view_module": "@jupyter-widgets/controls",
            "_view_module_version": "1.5.0",
            "_view_name": "ProgressView",
            "bar_style": "success",
            "description": "",
            "description_tooltip": null,
            "layout": "IPY_MODEL_e37058f2c6f5493d8f2156dc15e7a243",
            "max": 1,
            "min": 0,
            "orientation": "horizontal",
            "style": "IPY_MODEL_74fd044af8d749b69ded56dc257f6f46",
            "value": 1
          }
        },
        "1abda54c613e468096932fab8886f153": {
          "model_module": "@jupyter-widgets/controls",
          "model_name": "HTMLModel",
          "model_module_version": "1.5.0",
          "state": {
            "_dom_classes": [],
            "_model_module": "@jupyter-widgets/controls",
            "_model_module_version": "1.5.0",
            "_model_name": "HTMLModel",
            "_view_count": null,
            "_view_module": "@jupyter-widgets/controls",
            "_view_module_version": "1.5.0",
            "_view_name": "HTMLView",
            "description": "",
            "description_tooltip": null,
            "layout": "IPY_MODEL_6665c67f50dc451cbc412d9ddd035803",
            "placeholder": "​",
            "style": "IPY_MODEL_b4038896e6da402e9d976b7166147562",
            "value": " 1/1 [00:00&lt;00:00, 17.06it/s]"
          }
        },
        "da0ce3667e63401c8bc0e96624728020": {
          "model_module": "@jupyter-widgets/base",
          "model_name": "LayoutModel",
          "model_module_version": "1.2.0",
          "state": {
            "_model_module": "@jupyter-widgets/base",
            "_model_module_version": "1.2.0",
            "_model_name": "LayoutModel",
            "_view_count": null,
            "_view_module": "@jupyter-widgets/base",
            "_view_module_version": "1.2.0",
            "_view_name": "LayoutView",
            "align_content": null,
            "align_items": null,
            "align_self": null,
            "border": null,
            "bottom": null,
            "display": null,
            "flex": null,
            "flex_flow": null,
            "grid_area": null,
            "grid_auto_columns": null,
            "grid_auto_flow": null,
            "grid_auto_rows": null,
            "grid_column": null,
            "grid_gap": null,
            "grid_row": null,
            "grid_template_areas": null,
            "grid_template_columns": null,
            "grid_template_rows": null,
            "height": null,
            "justify_content": null,
            "justify_items": null,
            "left": null,
            "margin": null,
            "max_height": null,
            "max_width": null,
            "min_height": null,
            "min_width": null,
            "object_fit": null,
            "object_position": null,
            "order": null,
            "overflow": null,
            "overflow_x": null,
            "overflow_y": null,
            "padding": null,
            "right": null,
            "top": null,
            "visibility": null,
            "width": null
          }
        },
        "924c33a50c61472fa178a5484d85b7c2": {
          "model_module": "@jupyter-widgets/base",
          "model_name": "LayoutModel",
          "model_module_version": "1.2.0",
          "state": {
            "_model_module": "@jupyter-widgets/base",
            "_model_module_version": "1.2.0",
            "_model_name": "LayoutModel",
            "_view_count": null,
            "_view_module": "@jupyter-widgets/base",
            "_view_module_version": "1.2.0",
            "_view_name": "LayoutView",
            "align_content": null,
            "align_items": null,
            "align_self": null,
            "border": null,
            "bottom": null,
            "display": null,
            "flex": null,
            "flex_flow": null,
            "grid_area": null,
            "grid_auto_columns": null,
            "grid_auto_flow": null,
            "grid_auto_rows": null,
            "grid_column": null,
            "grid_gap": null,
            "grid_row": null,
            "grid_template_areas": null,
            "grid_template_columns": null,
            "grid_template_rows": null,
            "height": null,
            "justify_content": null,
            "justify_items": null,
            "left": null,
            "margin": null,
            "max_height": null,
            "max_width": null,
            "min_height": null,
            "min_width": null,
            "object_fit": null,
            "object_position": null,
            "order": null,
            "overflow": null,
            "overflow_x": null,
            "overflow_y": null,
            "padding": null,
            "right": null,
            "top": null,
            "visibility": null,
            "width": null
          }
        },
        "4f6870b20fd2473d9534f29d1b8eeeca": {
          "model_module": "@jupyter-widgets/controls",
          "model_name": "DescriptionStyleModel",
          "model_module_version": "1.5.0",
          "state": {
            "_model_module": "@jupyter-widgets/controls",
            "_model_module_version": "1.5.0",
            "_model_name": "DescriptionStyleModel",
            "_view_count": null,
            "_view_module": "@jupyter-widgets/base",
            "_view_module_version": "1.2.0",
            "_view_name": "StyleView",
            "description_width": ""
          }
        },
        "e37058f2c6f5493d8f2156dc15e7a243": {
          "model_module": "@jupyter-widgets/base",
          "model_name": "LayoutModel",
          "model_module_version": "1.2.0",
          "state": {
            "_model_module": "@jupyter-widgets/base",
            "_model_module_version": "1.2.0",
            "_model_name": "LayoutModel",
            "_view_count": null,
            "_view_module": "@jupyter-widgets/base",
            "_view_module_version": "1.2.0",
            "_view_name": "LayoutView",
            "align_content": null,
            "align_items": null,
            "align_self": null,
            "border": null,
            "bottom": null,
            "display": null,
            "flex": null,
            "flex_flow": null,
            "grid_area": null,
            "grid_auto_columns": null,
            "grid_auto_flow": null,
            "grid_auto_rows": null,
            "grid_column": null,
            "grid_gap": null,
            "grid_row": null,
            "grid_template_areas": null,
            "grid_template_columns": null,
            "grid_template_rows": null,
            "height": null,
            "justify_content": null,
            "justify_items": null,
            "left": null,
            "margin": null,
            "max_height": null,
            "max_width": null,
            "min_height": null,
            "min_width": null,
            "object_fit": null,
            "object_position": null,
            "order": null,
            "overflow": null,
            "overflow_x": null,
            "overflow_y": null,
            "padding": null,
            "right": null,
            "top": null,
            "visibility": null,
            "width": null
          }
        },
        "74fd044af8d749b69ded56dc257f6f46": {
          "model_module": "@jupyter-widgets/controls",
          "model_name": "ProgressStyleModel",
          "model_module_version": "1.5.0",
          "state": {
            "_model_module": "@jupyter-widgets/controls",
            "_model_module_version": "1.5.0",
            "_model_name": "ProgressStyleModel",
            "_view_count": null,
            "_view_module": "@jupyter-widgets/base",
            "_view_module_version": "1.2.0",
            "_view_name": "StyleView",
            "bar_color": null,
            "description_width": ""
          }
        },
        "6665c67f50dc451cbc412d9ddd035803": {
          "model_module": "@jupyter-widgets/base",
          "model_name": "LayoutModel",
          "model_module_version": "1.2.0",
          "state": {
            "_model_module": "@jupyter-widgets/base",
            "_model_module_version": "1.2.0",
            "_model_name": "LayoutModel",
            "_view_count": null,
            "_view_module": "@jupyter-widgets/base",
            "_view_module_version": "1.2.0",
            "_view_name": "LayoutView",
            "align_content": null,
            "align_items": null,
            "align_self": null,
            "border": null,
            "bottom": null,
            "display": null,
            "flex": null,
            "flex_flow": null,
            "grid_area": null,
            "grid_auto_columns": null,
            "grid_auto_flow": null,
            "grid_auto_rows": null,
            "grid_column": null,
            "grid_gap": null,
            "grid_row": null,
            "grid_template_areas": null,
            "grid_template_columns": null,
            "grid_template_rows": null,
            "height": null,
            "justify_content": null,
            "justify_items": null,
            "left": null,
            "margin": null,
            "max_height": null,
            "max_width": null,
            "min_height": null,
            "min_width": null,
            "object_fit": null,
            "object_position": null,
            "order": null,
            "overflow": null,
            "overflow_x": null,
            "overflow_y": null,
            "padding": null,
            "right": null,
            "top": null,
            "visibility": null,
            "width": null
          }
        },
        "b4038896e6da402e9d976b7166147562": {
          "model_module": "@jupyter-widgets/controls",
          "model_name": "DescriptionStyleModel",
          "model_module_version": "1.5.0",
          "state": {
            "_model_module": "@jupyter-widgets/controls",
            "_model_module_version": "1.5.0",
            "_model_name": "DescriptionStyleModel",
            "_view_count": null,
            "_view_module": "@jupyter-widgets/base",
            "_view_module_version": "1.2.0",
            "_view_name": "StyleView",
            "description_width": ""
          }
        },
        "f5a220f9ba174ad880023260c531882b": {
          "model_module": "@jupyter-widgets/controls",
          "model_name": "HBoxModel",
          "model_module_version": "1.5.0",
          "state": {
            "_dom_classes": [],
            "_model_module": "@jupyter-widgets/controls",
            "_model_module_version": "1.5.0",
            "_model_name": "HBoxModel",
            "_view_count": null,
            "_view_module": "@jupyter-widgets/controls",
            "_view_module_version": "1.5.0",
            "_view_name": "HBoxView",
            "box_style": "",
            "children": [
              "IPY_MODEL_68ed1a34bf4442a59a326a6d035e4106",
              "IPY_MODEL_36fbae267320447da4c424bf765dad8d",
              "IPY_MODEL_ef6a875e731d40558de20143c7bdb69f"
            ],
            "layout": "IPY_MODEL_9d05e53ee3de4394a96a2bab82681909"
          }
        },
        "68ed1a34bf4442a59a326a6d035e4106": {
          "model_module": "@jupyter-widgets/controls",
          "model_name": "HTMLModel",
          "model_module_version": "1.5.0",
          "state": {
            "_dom_classes": [],
            "_model_module": "@jupyter-widgets/controls",
            "_model_module_version": "1.5.0",
            "_model_name": "HTMLModel",
            "_view_count": null,
            "_view_module": "@jupyter-widgets/controls",
            "_view_module_version": "1.5.0",
            "_view_name": "HTMLView",
            "description": "",
            "description_tooltip": null,
            "layout": "IPY_MODEL_07935d706646441faea3a01c584bdd92",
            "placeholder": "​",
            "style": "IPY_MODEL_6ec214abe4d640418ed9ce57da4c1b66",
            "value": "Extracting data files: 100%"
          }
        },
        "36fbae267320447da4c424bf765dad8d": {
          "model_module": "@jupyter-widgets/controls",
          "model_name": "FloatProgressModel",
          "model_module_version": "1.5.0",
          "state": {
            "_dom_classes": [],
            "_model_module": "@jupyter-widgets/controls",
            "_model_module_version": "1.5.0",
            "_model_name": "FloatProgressModel",
            "_view_count": null,
            "_view_module": "@jupyter-widgets/controls",
            "_view_module_version": "1.5.0",
            "_view_name": "ProgressView",
            "bar_style": "success",
            "description": "",
            "description_tooltip": null,
            "layout": "IPY_MODEL_ac6507479ecd4544b9e293771acef5cb",
            "max": 1,
            "min": 0,
            "orientation": "horizontal",
            "style": "IPY_MODEL_47b1475153ad4fd5a438d03adeee37b7",
            "value": 1
          }
        },
        "ef6a875e731d40558de20143c7bdb69f": {
          "model_module": "@jupyter-widgets/controls",
          "model_name": "HTMLModel",
          "model_module_version": "1.5.0",
          "state": {
            "_dom_classes": [],
            "_model_module": "@jupyter-widgets/controls",
            "_model_module_version": "1.5.0",
            "_model_name": "HTMLModel",
            "_view_count": null,
            "_view_module": "@jupyter-widgets/controls",
            "_view_module_version": "1.5.0",
            "_view_name": "HTMLView",
            "description": "",
            "description_tooltip": null,
            "layout": "IPY_MODEL_d3430a7157bd403c908dc42243cfca64",
            "placeholder": "​",
            "style": "IPY_MODEL_84e8dc8edb3d40e498438fdfd5ac576e",
            "value": " 1/1 [00:00&lt;00:00, 16.92it/s]"
          }
        },
        "9d05e53ee3de4394a96a2bab82681909": {
          "model_module": "@jupyter-widgets/base",
          "model_name": "LayoutModel",
          "model_module_version": "1.2.0",
          "state": {
            "_model_module": "@jupyter-widgets/base",
            "_model_module_version": "1.2.0",
            "_model_name": "LayoutModel",
            "_view_count": null,
            "_view_module": "@jupyter-widgets/base",
            "_view_module_version": "1.2.0",
            "_view_name": "LayoutView",
            "align_content": null,
            "align_items": null,
            "align_self": null,
            "border": null,
            "bottom": null,
            "display": null,
            "flex": null,
            "flex_flow": null,
            "grid_area": null,
            "grid_auto_columns": null,
            "grid_auto_flow": null,
            "grid_auto_rows": null,
            "grid_column": null,
            "grid_gap": null,
            "grid_row": null,
            "grid_template_areas": null,
            "grid_template_columns": null,
            "grid_template_rows": null,
            "height": null,
            "justify_content": null,
            "justify_items": null,
            "left": null,
            "margin": null,
            "max_height": null,
            "max_width": null,
            "min_height": null,
            "min_width": null,
            "object_fit": null,
            "object_position": null,
            "order": null,
            "overflow": null,
            "overflow_x": null,
            "overflow_y": null,
            "padding": null,
            "right": null,
            "top": null,
            "visibility": null,
            "width": null
          }
        },
        "07935d706646441faea3a01c584bdd92": {
          "model_module": "@jupyter-widgets/base",
          "model_name": "LayoutModel",
          "model_module_version": "1.2.0",
          "state": {
            "_model_module": "@jupyter-widgets/base",
            "_model_module_version": "1.2.0",
            "_model_name": "LayoutModel",
            "_view_count": null,
            "_view_module": "@jupyter-widgets/base",
            "_view_module_version": "1.2.0",
            "_view_name": "LayoutView",
            "align_content": null,
            "align_items": null,
            "align_self": null,
            "border": null,
            "bottom": null,
            "display": null,
            "flex": null,
            "flex_flow": null,
            "grid_area": null,
            "grid_auto_columns": null,
            "grid_auto_flow": null,
            "grid_auto_rows": null,
            "grid_column": null,
            "grid_gap": null,
            "grid_row": null,
            "grid_template_areas": null,
            "grid_template_columns": null,
            "grid_template_rows": null,
            "height": null,
            "justify_content": null,
            "justify_items": null,
            "left": null,
            "margin": null,
            "max_height": null,
            "max_width": null,
            "min_height": null,
            "min_width": null,
            "object_fit": null,
            "object_position": null,
            "order": null,
            "overflow": null,
            "overflow_x": null,
            "overflow_y": null,
            "padding": null,
            "right": null,
            "top": null,
            "visibility": null,
            "width": null
          }
        },
        "6ec214abe4d640418ed9ce57da4c1b66": {
          "model_module": "@jupyter-widgets/controls",
          "model_name": "DescriptionStyleModel",
          "model_module_version": "1.5.0",
          "state": {
            "_model_module": "@jupyter-widgets/controls",
            "_model_module_version": "1.5.0",
            "_model_name": "DescriptionStyleModel",
            "_view_count": null,
            "_view_module": "@jupyter-widgets/base",
            "_view_module_version": "1.2.0",
            "_view_name": "StyleView",
            "description_width": ""
          }
        },
        "ac6507479ecd4544b9e293771acef5cb": {
          "model_module": "@jupyter-widgets/base",
          "model_name": "LayoutModel",
          "model_module_version": "1.2.0",
          "state": {
            "_model_module": "@jupyter-widgets/base",
            "_model_module_version": "1.2.0",
            "_model_name": "LayoutModel",
            "_view_count": null,
            "_view_module": "@jupyter-widgets/base",
            "_view_module_version": "1.2.0",
            "_view_name": "LayoutView",
            "align_content": null,
            "align_items": null,
            "align_self": null,
            "border": null,
            "bottom": null,
            "display": null,
            "flex": null,
            "flex_flow": null,
            "grid_area": null,
            "grid_auto_columns": null,
            "grid_auto_flow": null,
            "grid_auto_rows": null,
            "grid_column": null,
            "grid_gap": null,
            "grid_row": null,
            "grid_template_areas": null,
            "grid_template_columns": null,
            "grid_template_rows": null,
            "height": null,
            "justify_content": null,
            "justify_items": null,
            "left": null,
            "margin": null,
            "max_height": null,
            "max_width": null,
            "min_height": null,
            "min_width": null,
            "object_fit": null,
            "object_position": null,
            "order": null,
            "overflow": null,
            "overflow_x": null,
            "overflow_y": null,
            "padding": null,
            "right": null,
            "top": null,
            "visibility": null,
            "width": null
          }
        },
        "47b1475153ad4fd5a438d03adeee37b7": {
          "model_module": "@jupyter-widgets/controls",
          "model_name": "ProgressStyleModel",
          "model_module_version": "1.5.0",
          "state": {
            "_model_module": "@jupyter-widgets/controls",
            "_model_module_version": "1.5.0",
            "_model_name": "ProgressStyleModel",
            "_view_count": null,
            "_view_module": "@jupyter-widgets/base",
            "_view_module_version": "1.2.0",
            "_view_name": "StyleView",
            "bar_color": null,
            "description_width": ""
          }
        },
        "d3430a7157bd403c908dc42243cfca64": {
          "model_module": "@jupyter-widgets/base",
          "model_name": "LayoutModel",
          "model_module_version": "1.2.0",
          "state": {
            "_model_module": "@jupyter-widgets/base",
            "_model_module_version": "1.2.0",
            "_model_name": "LayoutModel",
            "_view_count": null,
            "_view_module": "@jupyter-widgets/base",
            "_view_module_version": "1.2.0",
            "_view_name": "LayoutView",
            "align_content": null,
            "align_items": null,
            "align_self": null,
            "border": null,
            "bottom": null,
            "display": null,
            "flex": null,
            "flex_flow": null,
            "grid_area": null,
            "grid_auto_columns": null,
            "grid_auto_flow": null,
            "grid_auto_rows": null,
            "grid_column": null,
            "grid_gap": null,
            "grid_row": null,
            "grid_template_areas": null,
            "grid_template_columns": null,
            "grid_template_rows": null,
            "height": null,
            "justify_content": null,
            "justify_items": null,
            "left": null,
            "margin": null,
            "max_height": null,
            "max_width": null,
            "min_height": null,
            "min_width": null,
            "object_fit": null,
            "object_position": null,
            "order": null,
            "overflow": null,
            "overflow_x": null,
            "overflow_y": null,
            "padding": null,
            "right": null,
            "top": null,
            "visibility": null,
            "width": null
          }
        },
        "84e8dc8edb3d40e498438fdfd5ac576e": {
          "model_module": "@jupyter-widgets/controls",
          "model_name": "DescriptionStyleModel",
          "model_module_version": "1.5.0",
          "state": {
            "_model_module": "@jupyter-widgets/controls",
            "_model_module_version": "1.5.0",
            "_model_name": "DescriptionStyleModel",
            "_view_count": null,
            "_view_module": "@jupyter-widgets/base",
            "_view_module_version": "1.2.0",
            "_view_name": "StyleView",
            "description_width": ""
          }
        },
        "6769d1baca334ca5a13d3d88eb5ceff8": {
          "model_module": "@jupyter-widgets/controls",
          "model_name": "HBoxModel",
          "model_module_version": "1.5.0",
          "state": {
            "_dom_classes": [],
            "_model_module": "@jupyter-widgets/controls",
            "_model_module_version": "1.5.0",
            "_model_name": "HBoxModel",
            "_view_count": null,
            "_view_module": "@jupyter-widgets/controls",
            "_view_module_version": "1.5.0",
            "_view_name": "HBoxView",
            "box_style": "",
            "children": [
              "IPY_MODEL_11933f2406d14114ab14ebfe0d429972",
              "IPY_MODEL_d46715ffcb3348b69fd0c093509f6645",
              "IPY_MODEL_3ddf998e233f45a094b925cf3d8c07bc"
            ],
            "layout": "IPY_MODEL_1a81505dd4b54640a8a07d6baf0776a5"
          }
        },
        "11933f2406d14114ab14ebfe0d429972": {
          "model_module": "@jupyter-widgets/controls",
          "model_name": "HTMLModel",
          "model_module_version": "1.5.0",
          "state": {
            "_dom_classes": [],
            "_model_module": "@jupyter-widgets/controls",
            "_model_module_version": "1.5.0",
            "_model_name": "HTMLModel",
            "_view_count": null,
            "_view_module": "@jupyter-widgets/controls",
            "_view_module_version": "1.5.0",
            "_view_name": "HTMLView",
            "description": "",
            "description_tooltip": null,
            "layout": "IPY_MODEL_0606d47a663447db859dc1282a01fce3",
            "placeholder": "​",
            "style": "IPY_MODEL_1fd5a56a3c9249c0993873966a6d6107",
            "value": ""
          }
        },
        "d46715ffcb3348b69fd0c093509f6645": {
          "model_module": "@jupyter-widgets/controls",
          "model_name": "FloatProgressModel",
          "model_module_version": "1.5.0",
          "state": {
            "_dom_classes": [],
            "_model_module": "@jupyter-widgets/controls",
            "_model_module_version": "1.5.0",
            "_model_name": "FloatProgressModel",
            "_view_count": null,
            "_view_module": "@jupyter-widgets/controls",
            "_view_module_version": "1.5.0",
            "_view_name": "ProgressView",
            "bar_style": "info",
            "description": "",
            "description_tooltip": null,
            "layout": "IPY_MODEL_bcc149f9a061450c9409dbe676ff1cdd",
            "max": 1,
            "min": 0,
            "orientation": "horizontal",
            "style": "IPY_MODEL_109b2fa6a76f4806a0ce0c5fd6b3020f",
            "value": 1
          }
        },
        "3ddf998e233f45a094b925cf3d8c07bc": {
          "model_module": "@jupyter-widgets/controls",
          "model_name": "HTMLModel",
          "model_module_version": "1.5.0",
          "state": {
            "_dom_classes": [],
            "_model_module": "@jupyter-widgets/controls",
            "_model_module_version": "1.5.0",
            "_model_name": "HTMLModel",
            "_view_count": null,
            "_view_module": "@jupyter-widgets/controls",
            "_view_module_version": "1.5.0",
            "_view_name": "HTMLView",
            "description": "",
            "description_tooltip": null,
            "layout": "IPY_MODEL_70068f5aabdd4d5a8a1b0c6202bb08bc",
            "placeholder": "​",
            "style": "IPY_MODEL_d2583eded780484a970ff8ce3ee7bee0",
            "value": " 2/? [00:00&lt;00:00, 17.74 tables/s]"
          }
        },
        "1a81505dd4b54640a8a07d6baf0776a5": {
          "model_module": "@jupyter-widgets/base",
          "model_name": "LayoutModel",
          "model_module_version": "1.2.0",
          "state": {
            "_model_module": "@jupyter-widgets/base",
            "_model_module_version": "1.2.0",
            "_model_name": "LayoutModel",
            "_view_count": null,
            "_view_module": "@jupyter-widgets/base",
            "_view_module_version": "1.2.0",
            "_view_name": "LayoutView",
            "align_content": null,
            "align_items": null,
            "align_self": null,
            "border": null,
            "bottom": null,
            "display": null,
            "flex": null,
            "flex_flow": null,
            "grid_area": null,
            "grid_auto_columns": null,
            "grid_auto_flow": null,
            "grid_auto_rows": null,
            "grid_column": null,
            "grid_gap": null,
            "grid_row": null,
            "grid_template_areas": null,
            "grid_template_columns": null,
            "grid_template_rows": null,
            "height": null,
            "justify_content": null,
            "justify_items": null,
            "left": null,
            "margin": null,
            "max_height": null,
            "max_width": null,
            "min_height": null,
            "min_width": null,
            "object_fit": null,
            "object_position": null,
            "order": null,
            "overflow": null,
            "overflow_x": null,
            "overflow_y": null,
            "padding": null,
            "right": null,
            "top": null,
            "visibility": null,
            "width": null
          }
        },
        "0606d47a663447db859dc1282a01fce3": {
          "model_module": "@jupyter-widgets/base",
          "model_name": "LayoutModel",
          "model_module_version": "1.2.0",
          "state": {
            "_model_module": "@jupyter-widgets/base",
            "_model_module_version": "1.2.0",
            "_model_name": "LayoutModel",
            "_view_count": null,
            "_view_module": "@jupyter-widgets/base",
            "_view_module_version": "1.2.0",
            "_view_name": "LayoutView",
            "align_content": null,
            "align_items": null,
            "align_self": null,
            "border": null,
            "bottom": null,
            "display": null,
            "flex": null,
            "flex_flow": null,
            "grid_area": null,
            "grid_auto_columns": null,
            "grid_auto_flow": null,
            "grid_auto_rows": null,
            "grid_column": null,
            "grid_gap": null,
            "grid_row": null,
            "grid_template_areas": null,
            "grid_template_columns": null,
            "grid_template_rows": null,
            "height": null,
            "justify_content": null,
            "justify_items": null,
            "left": null,
            "margin": null,
            "max_height": null,
            "max_width": null,
            "min_height": null,
            "min_width": null,
            "object_fit": null,
            "object_position": null,
            "order": null,
            "overflow": null,
            "overflow_x": null,
            "overflow_y": null,
            "padding": null,
            "right": null,
            "top": null,
            "visibility": null,
            "width": null
          }
        },
        "1fd5a56a3c9249c0993873966a6d6107": {
          "model_module": "@jupyter-widgets/controls",
          "model_name": "DescriptionStyleModel",
          "model_module_version": "1.5.0",
          "state": {
            "_model_module": "@jupyter-widgets/controls",
            "_model_module_version": "1.5.0",
            "_model_name": "DescriptionStyleModel",
            "_view_count": null,
            "_view_module": "@jupyter-widgets/base",
            "_view_module_version": "1.2.0",
            "_view_name": "StyleView",
            "description_width": ""
          }
        },
        "bcc149f9a061450c9409dbe676ff1cdd": {
          "model_module": "@jupyter-widgets/base",
          "model_name": "LayoutModel",
          "model_module_version": "1.2.0",
          "state": {
            "_model_module": "@jupyter-widgets/base",
            "_model_module_version": "1.2.0",
            "_model_name": "LayoutModel",
            "_view_count": null,
            "_view_module": "@jupyter-widgets/base",
            "_view_module_version": "1.2.0",
            "_view_name": "LayoutView",
            "align_content": null,
            "align_items": null,
            "align_self": null,
            "border": null,
            "bottom": null,
            "display": null,
            "flex": null,
            "flex_flow": null,
            "grid_area": null,
            "grid_auto_columns": null,
            "grid_auto_flow": null,
            "grid_auto_rows": null,
            "grid_column": null,
            "grid_gap": null,
            "grid_row": null,
            "grid_template_areas": null,
            "grid_template_columns": null,
            "grid_template_rows": null,
            "height": null,
            "justify_content": null,
            "justify_items": null,
            "left": null,
            "margin": null,
            "max_height": null,
            "max_width": null,
            "min_height": null,
            "min_width": null,
            "object_fit": null,
            "object_position": null,
            "order": null,
            "overflow": null,
            "overflow_x": null,
            "overflow_y": null,
            "padding": null,
            "right": null,
            "top": null,
            "visibility": null,
            "width": "20px"
          }
        },
        "109b2fa6a76f4806a0ce0c5fd6b3020f": {
          "model_module": "@jupyter-widgets/controls",
          "model_name": "ProgressStyleModel",
          "model_module_version": "1.5.0",
          "state": {
            "_model_module": "@jupyter-widgets/controls",
            "_model_module_version": "1.5.0",
            "_model_name": "ProgressStyleModel",
            "_view_count": null,
            "_view_module": "@jupyter-widgets/base",
            "_view_module_version": "1.2.0",
            "_view_name": "StyleView",
            "bar_color": null,
            "description_width": ""
          }
        },
        "70068f5aabdd4d5a8a1b0c6202bb08bc": {
          "model_module": "@jupyter-widgets/base",
          "model_name": "LayoutModel",
          "model_module_version": "1.2.0",
          "state": {
            "_model_module": "@jupyter-widgets/base",
            "_model_module_version": "1.2.0",
            "_model_name": "LayoutModel",
            "_view_count": null,
            "_view_module": "@jupyter-widgets/base",
            "_view_module_version": "1.2.0",
            "_view_name": "LayoutView",
            "align_content": null,
            "align_items": null,
            "align_self": null,
            "border": null,
            "bottom": null,
            "display": null,
            "flex": null,
            "flex_flow": null,
            "grid_area": null,
            "grid_auto_columns": null,
            "grid_auto_flow": null,
            "grid_auto_rows": null,
            "grid_column": null,
            "grid_gap": null,
            "grid_row": null,
            "grid_template_areas": null,
            "grid_template_columns": null,
            "grid_template_rows": null,
            "height": null,
            "justify_content": null,
            "justify_items": null,
            "left": null,
            "margin": null,
            "max_height": null,
            "max_width": null,
            "min_height": null,
            "min_width": null,
            "object_fit": null,
            "object_position": null,
            "order": null,
            "overflow": null,
            "overflow_x": null,
            "overflow_y": null,
            "padding": null,
            "right": null,
            "top": null,
            "visibility": null,
            "width": null
          }
        },
        "d2583eded780484a970ff8ce3ee7bee0": {
          "model_module": "@jupyter-widgets/controls",
          "model_name": "DescriptionStyleModel",
          "model_module_version": "1.5.0",
          "state": {
            "_model_module": "@jupyter-widgets/controls",
            "_model_module_version": "1.5.0",
            "_model_name": "DescriptionStyleModel",
            "_view_count": null,
            "_view_module": "@jupyter-widgets/base",
            "_view_module_version": "1.2.0",
            "_view_name": "StyleView",
            "description_width": ""
          }
        },
        "6bcdc1108b55417da53b6ca362118c0a": {
          "model_module": "@jupyter-widgets/controls",
          "model_name": "HBoxModel",
          "model_module_version": "1.5.0",
          "state": {
            "_dom_classes": [],
            "_model_module": "@jupyter-widgets/controls",
            "_model_module_version": "1.5.0",
            "_model_name": "HBoxModel",
            "_view_count": null,
            "_view_module": "@jupyter-widgets/controls",
            "_view_module_version": "1.5.0",
            "_view_name": "HBoxView",
            "box_style": "",
            "children": [
              "IPY_MODEL_e51ce84ee32c44939427031d16bd3445",
              "IPY_MODEL_8b75770936bc4776850eea692e6da22d",
              "IPY_MODEL_b9845727dafe4db588e94028f447cda4"
            ],
            "layout": "IPY_MODEL_1bdd10751d0649a88a8ce5795923a33f"
          }
        },
        "e51ce84ee32c44939427031d16bd3445": {
          "model_module": "@jupyter-widgets/controls",
          "model_name": "HTMLModel",
          "model_module_version": "1.5.0",
          "state": {
            "_dom_classes": [],
            "_model_module": "@jupyter-widgets/controls",
            "_model_module_version": "1.5.0",
            "_model_name": "HTMLModel",
            "_view_count": null,
            "_view_module": "@jupyter-widgets/controls",
            "_view_module_version": "1.5.0",
            "_view_name": "HTMLView",
            "description": "",
            "description_tooltip": null,
            "layout": "IPY_MODEL_036700b30b1040788ac6157416262a7d",
            "placeholder": "​",
            "style": "IPY_MODEL_5e39e83033fd4e3882653105c6ab0c48",
            "value": "100%"
          }
        },
        "8b75770936bc4776850eea692e6da22d": {
          "model_module": "@jupyter-widgets/controls",
          "model_name": "FloatProgressModel",
          "model_module_version": "1.5.0",
          "state": {
            "_dom_classes": [],
            "_model_module": "@jupyter-widgets/controls",
            "_model_module_version": "1.5.0",
            "_model_name": "FloatProgressModel",
            "_view_count": null,
            "_view_module": "@jupyter-widgets/controls",
            "_view_module_version": "1.5.0",
            "_view_name": "ProgressView",
            "bar_style": "success",
            "description": "",
            "description_tooltip": null,
            "layout": "IPY_MODEL_de2fd84276254041b925672bf61e6d83",
            "max": 1,
            "min": 0,
            "orientation": "horizontal",
            "style": "IPY_MODEL_12518df2029244e096bf4dcfdc04dde4",
            "value": 1
          }
        },
        "b9845727dafe4db588e94028f447cda4": {
          "model_module": "@jupyter-widgets/controls",
          "model_name": "HTMLModel",
          "model_module_version": "1.5.0",
          "state": {
            "_dom_classes": [],
            "_model_module": "@jupyter-widgets/controls",
            "_model_module_version": "1.5.0",
            "_model_name": "HTMLModel",
            "_view_count": null,
            "_view_module": "@jupyter-widgets/controls",
            "_view_module_version": "1.5.0",
            "_view_name": "HTMLView",
            "description": "",
            "description_tooltip": null,
            "layout": "IPY_MODEL_22fc40bb1a19426ba24f8b71976e3000",
            "placeholder": "​",
            "style": "IPY_MODEL_efe5c5fb1ae74f4e8e33463941abf1c0",
            "value": " 1/1 [00:00&lt;00:00, 17.34it/s]"
          }
        },
        "1bdd10751d0649a88a8ce5795923a33f": {
          "model_module": "@jupyter-widgets/base",
          "model_name": "LayoutModel",
          "model_module_version": "1.2.0",
          "state": {
            "_model_module": "@jupyter-widgets/base",
            "_model_module_version": "1.2.0",
            "_model_name": "LayoutModel",
            "_view_count": null,
            "_view_module": "@jupyter-widgets/base",
            "_view_module_version": "1.2.0",
            "_view_name": "LayoutView",
            "align_content": null,
            "align_items": null,
            "align_self": null,
            "border": null,
            "bottom": null,
            "display": null,
            "flex": null,
            "flex_flow": null,
            "grid_area": null,
            "grid_auto_columns": null,
            "grid_auto_flow": null,
            "grid_auto_rows": null,
            "grid_column": null,
            "grid_gap": null,
            "grid_row": null,
            "grid_template_areas": null,
            "grid_template_columns": null,
            "grid_template_rows": null,
            "height": null,
            "justify_content": null,
            "justify_items": null,
            "left": null,
            "margin": null,
            "max_height": null,
            "max_width": null,
            "min_height": null,
            "min_width": null,
            "object_fit": null,
            "object_position": null,
            "order": null,
            "overflow": null,
            "overflow_x": null,
            "overflow_y": null,
            "padding": null,
            "right": null,
            "top": null,
            "visibility": null,
            "width": null
          }
        },
        "036700b30b1040788ac6157416262a7d": {
          "model_module": "@jupyter-widgets/base",
          "model_name": "LayoutModel",
          "model_module_version": "1.2.0",
          "state": {
            "_model_module": "@jupyter-widgets/base",
            "_model_module_version": "1.2.0",
            "_model_name": "LayoutModel",
            "_view_count": null,
            "_view_module": "@jupyter-widgets/base",
            "_view_module_version": "1.2.0",
            "_view_name": "LayoutView",
            "align_content": null,
            "align_items": null,
            "align_self": null,
            "border": null,
            "bottom": null,
            "display": null,
            "flex": null,
            "flex_flow": null,
            "grid_area": null,
            "grid_auto_columns": null,
            "grid_auto_flow": null,
            "grid_auto_rows": null,
            "grid_column": null,
            "grid_gap": null,
            "grid_row": null,
            "grid_template_areas": null,
            "grid_template_columns": null,
            "grid_template_rows": null,
            "height": null,
            "justify_content": null,
            "justify_items": null,
            "left": null,
            "margin": null,
            "max_height": null,
            "max_width": null,
            "min_height": null,
            "min_width": null,
            "object_fit": null,
            "object_position": null,
            "order": null,
            "overflow": null,
            "overflow_x": null,
            "overflow_y": null,
            "padding": null,
            "right": null,
            "top": null,
            "visibility": null,
            "width": null
          }
        },
        "5e39e83033fd4e3882653105c6ab0c48": {
          "model_module": "@jupyter-widgets/controls",
          "model_name": "DescriptionStyleModel",
          "model_module_version": "1.5.0",
          "state": {
            "_model_module": "@jupyter-widgets/controls",
            "_model_module_version": "1.5.0",
            "_model_name": "DescriptionStyleModel",
            "_view_count": null,
            "_view_module": "@jupyter-widgets/base",
            "_view_module_version": "1.2.0",
            "_view_name": "StyleView",
            "description_width": ""
          }
        },
        "de2fd84276254041b925672bf61e6d83": {
          "model_module": "@jupyter-widgets/base",
          "model_name": "LayoutModel",
          "model_module_version": "1.2.0",
          "state": {
            "_model_module": "@jupyter-widgets/base",
            "_model_module_version": "1.2.0",
            "_model_name": "LayoutModel",
            "_view_count": null,
            "_view_module": "@jupyter-widgets/base",
            "_view_module_version": "1.2.0",
            "_view_name": "LayoutView",
            "align_content": null,
            "align_items": null,
            "align_self": null,
            "border": null,
            "bottom": null,
            "display": null,
            "flex": null,
            "flex_flow": null,
            "grid_area": null,
            "grid_auto_columns": null,
            "grid_auto_flow": null,
            "grid_auto_rows": null,
            "grid_column": null,
            "grid_gap": null,
            "grid_row": null,
            "grid_template_areas": null,
            "grid_template_columns": null,
            "grid_template_rows": null,
            "height": null,
            "justify_content": null,
            "justify_items": null,
            "left": null,
            "margin": null,
            "max_height": null,
            "max_width": null,
            "min_height": null,
            "min_width": null,
            "object_fit": null,
            "object_position": null,
            "order": null,
            "overflow": null,
            "overflow_x": null,
            "overflow_y": null,
            "padding": null,
            "right": null,
            "top": null,
            "visibility": null,
            "width": null
          }
        },
        "12518df2029244e096bf4dcfdc04dde4": {
          "model_module": "@jupyter-widgets/controls",
          "model_name": "ProgressStyleModel",
          "model_module_version": "1.5.0",
          "state": {
            "_model_module": "@jupyter-widgets/controls",
            "_model_module_version": "1.5.0",
            "_model_name": "ProgressStyleModel",
            "_view_count": null,
            "_view_module": "@jupyter-widgets/base",
            "_view_module_version": "1.2.0",
            "_view_name": "StyleView",
            "bar_color": null,
            "description_width": ""
          }
        },
        "22fc40bb1a19426ba24f8b71976e3000": {
          "model_module": "@jupyter-widgets/base",
          "model_name": "LayoutModel",
          "model_module_version": "1.2.0",
          "state": {
            "_model_module": "@jupyter-widgets/base",
            "_model_module_version": "1.2.0",
            "_model_name": "LayoutModel",
            "_view_count": null,
            "_view_module": "@jupyter-widgets/base",
            "_view_module_version": "1.2.0",
            "_view_name": "LayoutView",
            "align_content": null,
            "align_items": null,
            "align_self": null,
            "border": null,
            "bottom": null,
            "display": null,
            "flex": null,
            "flex_flow": null,
            "grid_area": null,
            "grid_auto_columns": null,
            "grid_auto_flow": null,
            "grid_auto_rows": null,
            "grid_column": null,
            "grid_gap": null,
            "grid_row": null,
            "grid_template_areas": null,
            "grid_template_columns": null,
            "grid_template_rows": null,
            "height": null,
            "justify_content": null,
            "justify_items": null,
            "left": null,
            "margin": null,
            "max_height": null,
            "max_width": null,
            "min_height": null,
            "min_width": null,
            "object_fit": null,
            "object_position": null,
            "order": null,
            "overflow": null,
            "overflow_x": null,
            "overflow_y": null,
            "padding": null,
            "right": null,
            "top": null,
            "visibility": null,
            "width": null
          }
        },
        "efe5c5fb1ae74f4e8e33463941abf1c0": {
          "model_module": "@jupyter-widgets/controls",
          "model_name": "DescriptionStyleModel",
          "model_module_version": "1.5.0",
          "state": {
            "_model_module": "@jupyter-widgets/controls",
            "_model_module_version": "1.5.0",
            "_model_name": "DescriptionStyleModel",
            "_view_count": null,
            "_view_module": "@jupyter-widgets/base",
            "_view_module_version": "1.2.0",
            "_view_name": "StyleView",
            "description_width": ""
          }
        },
        "521244a8300944e4a587ac8d341e6c13": {
          "model_module": "@jupyter-widgets/controls",
          "model_name": "HBoxModel",
          "model_module_version": "1.5.0",
          "state": {
            "_dom_classes": [],
            "_model_module": "@jupyter-widgets/controls",
            "_model_module_version": "1.5.0",
            "_model_name": "HBoxModel",
            "_view_count": null,
            "_view_module": "@jupyter-widgets/controls",
            "_view_module_version": "1.5.0",
            "_view_name": "HBoxView",
            "box_style": "",
            "children": [
              "IPY_MODEL_2029736ad099489b87f5cfb33f6c4f07",
              "IPY_MODEL_51021352440f4619b6cc764c14e78cd3",
              "IPY_MODEL_1e9f4d77f4d743c09fe25635ff8af16b"
            ],
            "layout": "IPY_MODEL_3881b81bfd75492a99f632d58bd5d008"
          }
        },
        "2029736ad099489b87f5cfb33f6c4f07": {
          "model_module": "@jupyter-widgets/controls",
          "model_name": "HTMLModel",
          "model_module_version": "1.5.0",
          "state": {
            "_dom_classes": [],
            "_model_module": "@jupyter-widgets/controls",
            "_model_module_version": "1.5.0",
            "_model_name": "HTMLModel",
            "_view_count": null,
            "_view_module": "@jupyter-widgets/controls",
            "_view_module_version": "1.5.0",
            "_view_name": "HTMLView",
            "description": "",
            "description_tooltip": null,
            "layout": "IPY_MODEL_ace5fdfb5a2548c5b20f74f844ac7b57",
            "placeholder": "​",
            "style": "IPY_MODEL_1443c2978e4c40ffa8c2fa7b25c896fb",
            "value": "Downloading: 100%"
          }
        },
        "51021352440f4619b6cc764c14e78cd3": {
          "model_module": "@jupyter-widgets/controls",
          "model_name": "FloatProgressModel",
          "model_module_version": "1.5.0",
          "state": {
            "_dom_classes": [],
            "_model_module": "@jupyter-widgets/controls",
            "_model_module_version": "1.5.0",
            "_model_name": "FloatProgressModel",
            "_view_count": null,
            "_view_module": "@jupyter-widgets/controls",
            "_view_module_version": "1.5.0",
            "_view_name": "ProgressView",
            "bar_style": "success",
            "description": "",
            "description_tooltip": null,
            "layout": "IPY_MODEL_509f5e8de1d14fd283baf2db4121ed80",
            "max": 28,
            "min": 0,
            "orientation": "horizontal",
            "style": "IPY_MODEL_46571fe032684e22ba4c715359d20efa",
            "value": 28
          }
        },
        "1e9f4d77f4d743c09fe25635ff8af16b": {
          "model_module": "@jupyter-widgets/controls",
          "model_name": "HTMLModel",
          "model_module_version": "1.5.0",
          "state": {
            "_dom_classes": [],
            "_model_module": "@jupyter-widgets/controls",
            "_model_module_version": "1.5.0",
            "_model_name": "HTMLModel",
            "_view_count": null,
            "_view_module": "@jupyter-widgets/controls",
            "_view_module_version": "1.5.0",
            "_view_name": "HTMLView",
            "description": "",
            "description_tooltip": null,
            "layout": "IPY_MODEL_d8d05ec8ab4240b69f9dbaac8b98bd9a",
            "placeholder": "​",
            "style": "IPY_MODEL_8d1cfbb9fd004f21b7239735b056c750",
            "value": " 28.0/28.0 [00:00&lt;00:00, 187B/s]"
          }
        },
        "3881b81bfd75492a99f632d58bd5d008": {
          "model_module": "@jupyter-widgets/base",
          "model_name": "LayoutModel",
          "model_module_version": "1.2.0",
          "state": {
            "_model_module": "@jupyter-widgets/base",
            "_model_module_version": "1.2.0",
            "_model_name": "LayoutModel",
            "_view_count": null,
            "_view_module": "@jupyter-widgets/base",
            "_view_module_version": "1.2.0",
            "_view_name": "LayoutView",
            "align_content": null,
            "align_items": null,
            "align_self": null,
            "border": null,
            "bottom": null,
            "display": null,
            "flex": null,
            "flex_flow": null,
            "grid_area": null,
            "grid_auto_columns": null,
            "grid_auto_flow": null,
            "grid_auto_rows": null,
            "grid_column": null,
            "grid_gap": null,
            "grid_row": null,
            "grid_template_areas": null,
            "grid_template_columns": null,
            "grid_template_rows": null,
            "height": null,
            "justify_content": null,
            "justify_items": null,
            "left": null,
            "margin": null,
            "max_height": null,
            "max_width": null,
            "min_height": null,
            "min_width": null,
            "object_fit": null,
            "object_position": null,
            "order": null,
            "overflow": null,
            "overflow_x": null,
            "overflow_y": null,
            "padding": null,
            "right": null,
            "top": null,
            "visibility": null,
            "width": null
          }
        },
        "ace5fdfb5a2548c5b20f74f844ac7b57": {
          "model_module": "@jupyter-widgets/base",
          "model_name": "LayoutModel",
          "model_module_version": "1.2.0",
          "state": {
            "_model_module": "@jupyter-widgets/base",
            "_model_module_version": "1.2.0",
            "_model_name": "LayoutModel",
            "_view_count": null,
            "_view_module": "@jupyter-widgets/base",
            "_view_module_version": "1.2.0",
            "_view_name": "LayoutView",
            "align_content": null,
            "align_items": null,
            "align_self": null,
            "border": null,
            "bottom": null,
            "display": null,
            "flex": null,
            "flex_flow": null,
            "grid_area": null,
            "grid_auto_columns": null,
            "grid_auto_flow": null,
            "grid_auto_rows": null,
            "grid_column": null,
            "grid_gap": null,
            "grid_row": null,
            "grid_template_areas": null,
            "grid_template_columns": null,
            "grid_template_rows": null,
            "height": null,
            "justify_content": null,
            "justify_items": null,
            "left": null,
            "margin": null,
            "max_height": null,
            "max_width": null,
            "min_height": null,
            "min_width": null,
            "object_fit": null,
            "object_position": null,
            "order": null,
            "overflow": null,
            "overflow_x": null,
            "overflow_y": null,
            "padding": null,
            "right": null,
            "top": null,
            "visibility": null,
            "width": null
          }
        },
        "1443c2978e4c40ffa8c2fa7b25c896fb": {
          "model_module": "@jupyter-widgets/controls",
          "model_name": "DescriptionStyleModel",
          "model_module_version": "1.5.0",
          "state": {
            "_model_module": "@jupyter-widgets/controls",
            "_model_module_version": "1.5.0",
            "_model_name": "DescriptionStyleModel",
            "_view_count": null,
            "_view_module": "@jupyter-widgets/base",
            "_view_module_version": "1.2.0",
            "_view_name": "StyleView",
            "description_width": ""
          }
        },
        "509f5e8de1d14fd283baf2db4121ed80": {
          "model_module": "@jupyter-widgets/base",
          "model_name": "LayoutModel",
          "model_module_version": "1.2.0",
          "state": {
            "_model_module": "@jupyter-widgets/base",
            "_model_module_version": "1.2.0",
            "_model_name": "LayoutModel",
            "_view_count": null,
            "_view_module": "@jupyter-widgets/base",
            "_view_module_version": "1.2.0",
            "_view_name": "LayoutView",
            "align_content": null,
            "align_items": null,
            "align_self": null,
            "border": null,
            "bottom": null,
            "display": null,
            "flex": null,
            "flex_flow": null,
            "grid_area": null,
            "grid_auto_columns": null,
            "grid_auto_flow": null,
            "grid_auto_rows": null,
            "grid_column": null,
            "grid_gap": null,
            "grid_row": null,
            "grid_template_areas": null,
            "grid_template_columns": null,
            "grid_template_rows": null,
            "height": null,
            "justify_content": null,
            "justify_items": null,
            "left": null,
            "margin": null,
            "max_height": null,
            "max_width": null,
            "min_height": null,
            "min_width": null,
            "object_fit": null,
            "object_position": null,
            "order": null,
            "overflow": null,
            "overflow_x": null,
            "overflow_y": null,
            "padding": null,
            "right": null,
            "top": null,
            "visibility": null,
            "width": null
          }
        },
        "46571fe032684e22ba4c715359d20efa": {
          "model_module": "@jupyter-widgets/controls",
          "model_name": "ProgressStyleModel",
          "model_module_version": "1.5.0",
          "state": {
            "_model_module": "@jupyter-widgets/controls",
            "_model_module_version": "1.5.0",
            "_model_name": "ProgressStyleModel",
            "_view_count": null,
            "_view_module": "@jupyter-widgets/base",
            "_view_module_version": "1.2.0",
            "_view_name": "StyleView",
            "bar_color": null,
            "description_width": ""
          }
        },
        "d8d05ec8ab4240b69f9dbaac8b98bd9a": {
          "model_module": "@jupyter-widgets/base",
          "model_name": "LayoutModel",
          "model_module_version": "1.2.0",
          "state": {
            "_model_module": "@jupyter-widgets/base",
            "_model_module_version": "1.2.0",
            "_model_name": "LayoutModel",
            "_view_count": null,
            "_view_module": "@jupyter-widgets/base",
            "_view_module_version": "1.2.0",
            "_view_name": "LayoutView",
            "align_content": null,
            "align_items": null,
            "align_self": null,
            "border": null,
            "bottom": null,
            "display": null,
            "flex": null,
            "flex_flow": null,
            "grid_area": null,
            "grid_auto_columns": null,
            "grid_auto_flow": null,
            "grid_auto_rows": null,
            "grid_column": null,
            "grid_gap": null,
            "grid_row": null,
            "grid_template_areas": null,
            "grid_template_columns": null,
            "grid_template_rows": null,
            "height": null,
            "justify_content": null,
            "justify_items": null,
            "left": null,
            "margin": null,
            "max_height": null,
            "max_width": null,
            "min_height": null,
            "min_width": null,
            "object_fit": null,
            "object_position": null,
            "order": null,
            "overflow": null,
            "overflow_x": null,
            "overflow_y": null,
            "padding": null,
            "right": null,
            "top": null,
            "visibility": null,
            "width": null
          }
        },
        "8d1cfbb9fd004f21b7239735b056c750": {
          "model_module": "@jupyter-widgets/controls",
          "model_name": "DescriptionStyleModel",
          "model_module_version": "1.5.0",
          "state": {
            "_model_module": "@jupyter-widgets/controls",
            "_model_module_version": "1.5.0",
            "_model_name": "DescriptionStyleModel",
            "_view_count": null,
            "_view_module": "@jupyter-widgets/base",
            "_view_module_version": "1.2.0",
            "_view_name": "StyleView",
            "description_width": ""
          }
        },
        "4a8d437a8b59438ca578812a35a50308": {
          "model_module": "@jupyter-widgets/controls",
          "model_name": "HBoxModel",
          "model_module_version": "1.5.0",
          "state": {
            "_dom_classes": [],
            "_model_module": "@jupyter-widgets/controls",
            "_model_module_version": "1.5.0",
            "_model_name": "HBoxModel",
            "_view_count": null,
            "_view_module": "@jupyter-widgets/controls",
            "_view_module_version": "1.5.0",
            "_view_name": "HBoxView",
            "box_style": "",
            "children": [
              "IPY_MODEL_b9c3c9323bda4cbcac6e08247abd900b",
              "IPY_MODEL_f4e8fe7540594b2f92d2414e96e3ecc4",
              "IPY_MODEL_074bd16b2c2c47b8bfd2366e52615788"
            ],
            "layout": "IPY_MODEL_770dd90e6fb04c558e78b5307d90ffdb"
          }
        },
        "b9c3c9323bda4cbcac6e08247abd900b": {
          "model_module": "@jupyter-widgets/controls",
          "model_name": "HTMLModel",
          "model_module_version": "1.5.0",
          "state": {
            "_dom_classes": [],
            "_model_module": "@jupyter-widgets/controls",
            "_model_module_version": "1.5.0",
            "_model_name": "HTMLModel",
            "_view_count": null,
            "_view_module": "@jupyter-widgets/controls",
            "_view_module_version": "1.5.0",
            "_view_name": "HTMLView",
            "description": "",
            "description_tooltip": null,
            "layout": "IPY_MODEL_126cce6c0c20475e8bf630a45bd91251",
            "placeholder": "​",
            "style": "IPY_MODEL_cfba1480710846b9b546766c778dc38e",
            "value": "Downloading: 100%"
          }
        },
        "f4e8fe7540594b2f92d2414e96e3ecc4": {
          "model_module": "@jupyter-widgets/controls",
          "model_name": "FloatProgressModel",
          "model_module_version": "1.5.0",
          "state": {
            "_dom_classes": [],
            "_model_module": "@jupyter-widgets/controls",
            "_model_module_version": "1.5.0",
            "_model_name": "FloatProgressModel",
            "_view_count": null,
            "_view_module": "@jupyter-widgets/controls",
            "_view_module_version": "1.5.0",
            "_view_name": "ProgressView",
            "bar_style": "success",
            "description": "",
            "description_tooltip": null,
            "layout": "IPY_MODEL_786d7382ebf44754b2015c6f1108b8d3",
            "max": 483,
            "min": 0,
            "orientation": "horizontal",
            "style": "IPY_MODEL_364ad76dd9e849e4acdd33e9496b7907",
            "value": 483
          }
        },
        "074bd16b2c2c47b8bfd2366e52615788": {
          "model_module": "@jupyter-widgets/controls",
          "model_name": "HTMLModel",
          "model_module_version": "1.5.0",
          "state": {
            "_dom_classes": [],
            "_model_module": "@jupyter-widgets/controls",
            "_model_module_version": "1.5.0",
            "_model_name": "HTMLModel",
            "_view_count": null,
            "_view_module": "@jupyter-widgets/controls",
            "_view_module_version": "1.5.0",
            "_view_name": "HTMLView",
            "description": "",
            "description_tooltip": null,
            "layout": "IPY_MODEL_1ae868df0f2c49dda0f9cfad62c65af3",
            "placeholder": "​",
            "style": "IPY_MODEL_7ad67fb242ce458ca8bd1ba489bc187b",
            "value": " 483/483 [00:00&lt;00:00, 3.87kB/s]"
          }
        },
        "770dd90e6fb04c558e78b5307d90ffdb": {
          "model_module": "@jupyter-widgets/base",
          "model_name": "LayoutModel",
          "model_module_version": "1.2.0",
          "state": {
            "_model_module": "@jupyter-widgets/base",
            "_model_module_version": "1.2.0",
            "_model_name": "LayoutModel",
            "_view_count": null,
            "_view_module": "@jupyter-widgets/base",
            "_view_module_version": "1.2.0",
            "_view_name": "LayoutView",
            "align_content": null,
            "align_items": null,
            "align_self": null,
            "border": null,
            "bottom": null,
            "display": null,
            "flex": null,
            "flex_flow": null,
            "grid_area": null,
            "grid_auto_columns": null,
            "grid_auto_flow": null,
            "grid_auto_rows": null,
            "grid_column": null,
            "grid_gap": null,
            "grid_row": null,
            "grid_template_areas": null,
            "grid_template_columns": null,
            "grid_template_rows": null,
            "height": null,
            "justify_content": null,
            "justify_items": null,
            "left": null,
            "margin": null,
            "max_height": null,
            "max_width": null,
            "min_height": null,
            "min_width": null,
            "object_fit": null,
            "object_position": null,
            "order": null,
            "overflow": null,
            "overflow_x": null,
            "overflow_y": null,
            "padding": null,
            "right": null,
            "top": null,
            "visibility": null,
            "width": null
          }
        },
        "126cce6c0c20475e8bf630a45bd91251": {
          "model_module": "@jupyter-widgets/base",
          "model_name": "LayoutModel",
          "model_module_version": "1.2.0",
          "state": {
            "_model_module": "@jupyter-widgets/base",
            "_model_module_version": "1.2.0",
            "_model_name": "LayoutModel",
            "_view_count": null,
            "_view_module": "@jupyter-widgets/base",
            "_view_module_version": "1.2.0",
            "_view_name": "LayoutView",
            "align_content": null,
            "align_items": null,
            "align_self": null,
            "border": null,
            "bottom": null,
            "display": null,
            "flex": null,
            "flex_flow": null,
            "grid_area": null,
            "grid_auto_columns": null,
            "grid_auto_flow": null,
            "grid_auto_rows": null,
            "grid_column": null,
            "grid_gap": null,
            "grid_row": null,
            "grid_template_areas": null,
            "grid_template_columns": null,
            "grid_template_rows": null,
            "height": null,
            "justify_content": null,
            "justify_items": null,
            "left": null,
            "margin": null,
            "max_height": null,
            "max_width": null,
            "min_height": null,
            "min_width": null,
            "object_fit": null,
            "object_position": null,
            "order": null,
            "overflow": null,
            "overflow_x": null,
            "overflow_y": null,
            "padding": null,
            "right": null,
            "top": null,
            "visibility": null,
            "width": null
          }
        },
        "cfba1480710846b9b546766c778dc38e": {
          "model_module": "@jupyter-widgets/controls",
          "model_name": "DescriptionStyleModel",
          "model_module_version": "1.5.0",
          "state": {
            "_model_module": "@jupyter-widgets/controls",
            "_model_module_version": "1.5.0",
            "_model_name": "DescriptionStyleModel",
            "_view_count": null,
            "_view_module": "@jupyter-widgets/base",
            "_view_module_version": "1.2.0",
            "_view_name": "StyleView",
            "description_width": ""
          }
        },
        "786d7382ebf44754b2015c6f1108b8d3": {
          "model_module": "@jupyter-widgets/base",
          "model_name": "LayoutModel",
          "model_module_version": "1.2.0",
          "state": {
            "_model_module": "@jupyter-widgets/base",
            "_model_module_version": "1.2.0",
            "_model_name": "LayoutModel",
            "_view_count": null,
            "_view_module": "@jupyter-widgets/base",
            "_view_module_version": "1.2.0",
            "_view_name": "LayoutView",
            "align_content": null,
            "align_items": null,
            "align_self": null,
            "border": null,
            "bottom": null,
            "display": null,
            "flex": null,
            "flex_flow": null,
            "grid_area": null,
            "grid_auto_columns": null,
            "grid_auto_flow": null,
            "grid_auto_rows": null,
            "grid_column": null,
            "grid_gap": null,
            "grid_row": null,
            "grid_template_areas": null,
            "grid_template_columns": null,
            "grid_template_rows": null,
            "height": null,
            "justify_content": null,
            "justify_items": null,
            "left": null,
            "margin": null,
            "max_height": null,
            "max_width": null,
            "min_height": null,
            "min_width": null,
            "object_fit": null,
            "object_position": null,
            "order": null,
            "overflow": null,
            "overflow_x": null,
            "overflow_y": null,
            "padding": null,
            "right": null,
            "top": null,
            "visibility": null,
            "width": null
          }
        },
        "364ad76dd9e849e4acdd33e9496b7907": {
          "model_module": "@jupyter-widgets/controls",
          "model_name": "ProgressStyleModel",
          "model_module_version": "1.5.0",
          "state": {
            "_model_module": "@jupyter-widgets/controls",
            "_model_module_version": "1.5.0",
            "_model_name": "ProgressStyleModel",
            "_view_count": null,
            "_view_module": "@jupyter-widgets/base",
            "_view_module_version": "1.2.0",
            "_view_name": "StyleView",
            "bar_color": null,
            "description_width": ""
          }
        },
        "1ae868df0f2c49dda0f9cfad62c65af3": {
          "model_module": "@jupyter-widgets/base",
          "model_name": "LayoutModel",
          "model_module_version": "1.2.0",
          "state": {
            "_model_module": "@jupyter-widgets/base",
            "_model_module_version": "1.2.0",
            "_model_name": "LayoutModel",
            "_view_count": null,
            "_view_module": "@jupyter-widgets/base",
            "_view_module_version": "1.2.0",
            "_view_name": "LayoutView",
            "align_content": null,
            "align_items": null,
            "align_self": null,
            "border": null,
            "bottom": null,
            "display": null,
            "flex": null,
            "flex_flow": null,
            "grid_area": null,
            "grid_auto_columns": null,
            "grid_auto_flow": null,
            "grid_auto_rows": null,
            "grid_column": null,
            "grid_gap": null,
            "grid_row": null,
            "grid_template_areas": null,
            "grid_template_columns": null,
            "grid_template_rows": null,
            "height": null,
            "justify_content": null,
            "justify_items": null,
            "left": null,
            "margin": null,
            "max_height": null,
            "max_width": null,
            "min_height": null,
            "min_width": null,
            "object_fit": null,
            "object_position": null,
            "order": null,
            "overflow": null,
            "overflow_x": null,
            "overflow_y": null,
            "padding": null,
            "right": null,
            "top": null,
            "visibility": null,
            "width": null
          }
        },
        "7ad67fb242ce458ca8bd1ba489bc187b": {
          "model_module": "@jupyter-widgets/controls",
          "model_name": "DescriptionStyleModel",
          "model_module_version": "1.5.0",
          "state": {
            "_model_module": "@jupyter-widgets/controls",
            "_model_module_version": "1.5.0",
            "_model_name": "DescriptionStyleModel",
            "_view_count": null,
            "_view_module": "@jupyter-widgets/base",
            "_view_module_version": "1.2.0",
            "_view_name": "StyleView",
            "description_width": ""
          }
        },
        "f756b5a393ad42c58a22462acfb8fc7e": {
          "model_module": "@jupyter-widgets/controls",
          "model_name": "HBoxModel",
          "model_module_version": "1.5.0",
          "state": {
            "_dom_classes": [],
            "_model_module": "@jupyter-widgets/controls",
            "_model_module_version": "1.5.0",
            "_model_name": "HBoxModel",
            "_view_count": null,
            "_view_module": "@jupyter-widgets/controls",
            "_view_module_version": "1.5.0",
            "_view_name": "HBoxView",
            "box_style": "",
            "children": [
              "IPY_MODEL_4eb388e9c81f443d8902664252ea0011",
              "IPY_MODEL_4bb0c3767ca940779c5c29a5fcf03669",
              "IPY_MODEL_94b2510de3d0486c8722f3b204fa7f65"
            ],
            "layout": "IPY_MODEL_d257d1ac1f9f45ada6ce7b62fc79f9da"
          }
        },
        "4eb388e9c81f443d8902664252ea0011": {
          "model_module": "@jupyter-widgets/controls",
          "model_name": "HTMLModel",
          "model_module_version": "1.5.0",
          "state": {
            "_dom_classes": [],
            "_model_module": "@jupyter-widgets/controls",
            "_model_module_version": "1.5.0",
            "_model_name": "HTMLModel",
            "_view_count": null,
            "_view_module": "@jupyter-widgets/controls",
            "_view_module_version": "1.5.0",
            "_view_name": "HTMLView",
            "description": "",
            "description_tooltip": null,
            "layout": "IPY_MODEL_53ea64b49a584eccacbba12c2fbe3af8",
            "placeholder": "​",
            "style": "IPY_MODEL_f2ce196364c848a68a90292b9eac0101",
            "value": "Downloading: 100%"
          }
        },
        "4bb0c3767ca940779c5c29a5fcf03669": {
          "model_module": "@jupyter-widgets/controls",
          "model_name": "FloatProgressModel",
          "model_module_version": "1.5.0",
          "state": {
            "_dom_classes": [],
            "_model_module": "@jupyter-widgets/controls",
            "_model_module_version": "1.5.0",
            "_model_name": "FloatProgressModel",
            "_view_count": null,
            "_view_module": "@jupyter-widgets/controls",
            "_view_module_version": "1.5.0",
            "_view_name": "ProgressView",
            "bar_style": "success",
            "description": "",
            "description_tooltip": null,
            "layout": "IPY_MODEL_f013d78252684736922b30e51e9fe189",
            "max": 231508,
            "min": 0,
            "orientation": "horizontal",
            "style": "IPY_MODEL_9deeaeb0b9d848c3974984193e82ee11",
            "value": 231508
          }
        },
        "94b2510de3d0486c8722f3b204fa7f65": {
          "model_module": "@jupyter-widgets/controls",
          "model_name": "HTMLModel",
          "model_module_version": "1.5.0",
          "state": {
            "_dom_classes": [],
            "_model_module": "@jupyter-widgets/controls",
            "_model_module_version": "1.5.0",
            "_model_name": "HTMLModel",
            "_view_count": null,
            "_view_module": "@jupyter-widgets/controls",
            "_view_module_version": "1.5.0",
            "_view_name": "HTMLView",
            "description": "",
            "description_tooltip": null,
            "layout": "IPY_MODEL_73eb94c538084b3c928b63dd61f52b13",
            "placeholder": "​",
            "style": "IPY_MODEL_86957e92f6b74f0b97167e64148de663",
            "value": " 226k/226k [00:00&lt;00:00, 573kB/s]"
          }
        },
        "d257d1ac1f9f45ada6ce7b62fc79f9da": {
          "model_module": "@jupyter-widgets/base",
          "model_name": "LayoutModel",
          "model_module_version": "1.2.0",
          "state": {
            "_model_module": "@jupyter-widgets/base",
            "_model_module_version": "1.2.0",
            "_model_name": "LayoutModel",
            "_view_count": null,
            "_view_module": "@jupyter-widgets/base",
            "_view_module_version": "1.2.0",
            "_view_name": "LayoutView",
            "align_content": null,
            "align_items": null,
            "align_self": null,
            "border": null,
            "bottom": null,
            "display": null,
            "flex": null,
            "flex_flow": null,
            "grid_area": null,
            "grid_auto_columns": null,
            "grid_auto_flow": null,
            "grid_auto_rows": null,
            "grid_column": null,
            "grid_gap": null,
            "grid_row": null,
            "grid_template_areas": null,
            "grid_template_columns": null,
            "grid_template_rows": null,
            "height": null,
            "justify_content": null,
            "justify_items": null,
            "left": null,
            "margin": null,
            "max_height": null,
            "max_width": null,
            "min_height": null,
            "min_width": null,
            "object_fit": null,
            "object_position": null,
            "order": null,
            "overflow": null,
            "overflow_x": null,
            "overflow_y": null,
            "padding": null,
            "right": null,
            "top": null,
            "visibility": null,
            "width": null
          }
        },
        "53ea64b49a584eccacbba12c2fbe3af8": {
          "model_module": "@jupyter-widgets/base",
          "model_name": "LayoutModel",
          "model_module_version": "1.2.0",
          "state": {
            "_model_module": "@jupyter-widgets/base",
            "_model_module_version": "1.2.0",
            "_model_name": "LayoutModel",
            "_view_count": null,
            "_view_module": "@jupyter-widgets/base",
            "_view_module_version": "1.2.0",
            "_view_name": "LayoutView",
            "align_content": null,
            "align_items": null,
            "align_self": null,
            "border": null,
            "bottom": null,
            "display": null,
            "flex": null,
            "flex_flow": null,
            "grid_area": null,
            "grid_auto_columns": null,
            "grid_auto_flow": null,
            "grid_auto_rows": null,
            "grid_column": null,
            "grid_gap": null,
            "grid_row": null,
            "grid_template_areas": null,
            "grid_template_columns": null,
            "grid_template_rows": null,
            "height": null,
            "justify_content": null,
            "justify_items": null,
            "left": null,
            "margin": null,
            "max_height": null,
            "max_width": null,
            "min_height": null,
            "min_width": null,
            "object_fit": null,
            "object_position": null,
            "order": null,
            "overflow": null,
            "overflow_x": null,
            "overflow_y": null,
            "padding": null,
            "right": null,
            "top": null,
            "visibility": null,
            "width": null
          }
        },
        "f2ce196364c848a68a90292b9eac0101": {
          "model_module": "@jupyter-widgets/controls",
          "model_name": "DescriptionStyleModel",
          "model_module_version": "1.5.0",
          "state": {
            "_model_module": "@jupyter-widgets/controls",
            "_model_module_version": "1.5.0",
            "_model_name": "DescriptionStyleModel",
            "_view_count": null,
            "_view_module": "@jupyter-widgets/base",
            "_view_module_version": "1.2.0",
            "_view_name": "StyleView",
            "description_width": ""
          }
        },
        "f013d78252684736922b30e51e9fe189": {
          "model_module": "@jupyter-widgets/base",
          "model_name": "LayoutModel",
          "model_module_version": "1.2.0",
          "state": {
            "_model_module": "@jupyter-widgets/base",
            "_model_module_version": "1.2.0",
            "_model_name": "LayoutModel",
            "_view_count": null,
            "_view_module": "@jupyter-widgets/base",
            "_view_module_version": "1.2.0",
            "_view_name": "LayoutView",
            "align_content": null,
            "align_items": null,
            "align_self": null,
            "border": null,
            "bottom": null,
            "display": null,
            "flex": null,
            "flex_flow": null,
            "grid_area": null,
            "grid_auto_columns": null,
            "grid_auto_flow": null,
            "grid_auto_rows": null,
            "grid_column": null,
            "grid_gap": null,
            "grid_row": null,
            "grid_template_areas": null,
            "grid_template_columns": null,
            "grid_template_rows": null,
            "height": null,
            "justify_content": null,
            "justify_items": null,
            "left": null,
            "margin": null,
            "max_height": null,
            "max_width": null,
            "min_height": null,
            "min_width": null,
            "object_fit": null,
            "object_position": null,
            "order": null,
            "overflow": null,
            "overflow_x": null,
            "overflow_y": null,
            "padding": null,
            "right": null,
            "top": null,
            "visibility": null,
            "width": null
          }
        },
        "9deeaeb0b9d848c3974984193e82ee11": {
          "model_module": "@jupyter-widgets/controls",
          "model_name": "ProgressStyleModel",
          "model_module_version": "1.5.0",
          "state": {
            "_model_module": "@jupyter-widgets/controls",
            "_model_module_version": "1.5.0",
            "_model_name": "ProgressStyleModel",
            "_view_count": null,
            "_view_module": "@jupyter-widgets/base",
            "_view_module_version": "1.2.0",
            "_view_name": "StyleView",
            "bar_color": null,
            "description_width": ""
          }
        },
        "73eb94c538084b3c928b63dd61f52b13": {
          "model_module": "@jupyter-widgets/base",
          "model_name": "LayoutModel",
          "model_module_version": "1.2.0",
          "state": {
            "_model_module": "@jupyter-widgets/base",
            "_model_module_version": "1.2.0",
            "_model_name": "LayoutModel",
            "_view_count": null,
            "_view_module": "@jupyter-widgets/base",
            "_view_module_version": "1.2.0",
            "_view_name": "LayoutView",
            "align_content": null,
            "align_items": null,
            "align_self": null,
            "border": null,
            "bottom": null,
            "display": null,
            "flex": null,
            "flex_flow": null,
            "grid_area": null,
            "grid_auto_columns": null,
            "grid_auto_flow": null,
            "grid_auto_rows": null,
            "grid_column": null,
            "grid_gap": null,
            "grid_row": null,
            "grid_template_areas": null,
            "grid_template_columns": null,
            "grid_template_rows": null,
            "height": null,
            "justify_content": null,
            "justify_items": null,
            "left": null,
            "margin": null,
            "max_height": null,
            "max_width": null,
            "min_height": null,
            "min_width": null,
            "object_fit": null,
            "object_position": null,
            "order": null,
            "overflow": null,
            "overflow_x": null,
            "overflow_y": null,
            "padding": null,
            "right": null,
            "top": null,
            "visibility": null,
            "width": null
          }
        },
        "86957e92f6b74f0b97167e64148de663": {
          "model_module": "@jupyter-widgets/controls",
          "model_name": "DescriptionStyleModel",
          "model_module_version": "1.5.0",
          "state": {
            "_model_module": "@jupyter-widgets/controls",
            "_model_module_version": "1.5.0",
            "_model_name": "DescriptionStyleModel",
            "_view_count": null,
            "_view_module": "@jupyter-widgets/base",
            "_view_module_version": "1.2.0",
            "_view_name": "StyleView",
            "description_width": ""
          }
        },
        "72c2c6853901456e8583a7a1a8e21dc7": {
          "model_module": "@jupyter-widgets/controls",
          "model_name": "HBoxModel",
          "model_module_version": "1.5.0",
          "state": {
            "_dom_classes": [],
            "_model_module": "@jupyter-widgets/controls",
            "_model_module_version": "1.5.0",
            "_model_name": "HBoxModel",
            "_view_count": null,
            "_view_module": "@jupyter-widgets/controls",
            "_view_module_version": "1.5.0",
            "_view_name": "HBoxView",
            "box_style": "",
            "children": [
              "IPY_MODEL_abdb3910f86f4f33b4ea0195ed2b618a",
              "IPY_MODEL_801fe4aef8a94d19beb223d761133445",
              "IPY_MODEL_f2845e26e5264274acde017190c475d7"
            ],
            "layout": "IPY_MODEL_2c60ccaa995543af96a465b8c6eb3d1d"
          }
        },
        "abdb3910f86f4f33b4ea0195ed2b618a": {
          "model_module": "@jupyter-widgets/controls",
          "model_name": "HTMLModel",
          "model_module_version": "1.5.0",
          "state": {
            "_dom_classes": [],
            "_model_module": "@jupyter-widgets/controls",
            "_model_module_version": "1.5.0",
            "_model_name": "HTMLModel",
            "_view_count": null,
            "_view_module": "@jupyter-widgets/controls",
            "_view_module_version": "1.5.0",
            "_view_name": "HTMLView",
            "description": "",
            "description_tooltip": null,
            "layout": "IPY_MODEL_6e0903d56bb34f4ca696f01d30b99abe",
            "placeholder": "​",
            "style": "IPY_MODEL_9b0800bd91d84e8fb0b120ed55137ed0",
            "value": "Downloading: 100%"
          }
        },
        "801fe4aef8a94d19beb223d761133445": {
          "model_module": "@jupyter-widgets/controls",
          "model_name": "FloatProgressModel",
          "model_module_version": "1.5.0",
          "state": {
            "_dom_classes": [],
            "_model_module": "@jupyter-widgets/controls",
            "_model_module_version": "1.5.0",
            "_model_name": "FloatProgressModel",
            "_view_count": null,
            "_view_module": "@jupyter-widgets/controls",
            "_view_module_version": "1.5.0",
            "_view_name": "ProgressView",
            "bar_style": "success",
            "description": "",
            "description_tooltip": null,
            "layout": "IPY_MODEL_aa929bcd1d264b86a78fbe5833909de3",
            "max": 466062,
            "min": 0,
            "orientation": "horizontal",
            "style": "IPY_MODEL_63643081255d48aaa5d1cbb330e1ea92",
            "value": 466062
          }
        },
        "f2845e26e5264274acde017190c475d7": {
          "model_module": "@jupyter-widgets/controls",
          "model_name": "HTMLModel",
          "model_module_version": "1.5.0",
          "state": {
            "_dom_classes": [],
            "_model_module": "@jupyter-widgets/controls",
            "_model_module_version": "1.5.0",
            "_model_name": "HTMLModel",
            "_view_count": null,
            "_view_module": "@jupyter-widgets/controls",
            "_view_module_version": "1.5.0",
            "_view_name": "HTMLView",
            "description": "",
            "description_tooltip": null,
            "layout": "IPY_MODEL_cefe27ee5742434183d7d02a15d55cb2",
            "placeholder": "​",
            "style": "IPY_MODEL_3f0076d62106436ba202d18428591906",
            "value": " 455k/455k [00:00&lt;00:00, 928kB/s]"
          }
        },
        "2c60ccaa995543af96a465b8c6eb3d1d": {
          "model_module": "@jupyter-widgets/base",
          "model_name": "LayoutModel",
          "model_module_version": "1.2.0",
          "state": {
            "_model_module": "@jupyter-widgets/base",
            "_model_module_version": "1.2.0",
            "_model_name": "LayoutModel",
            "_view_count": null,
            "_view_module": "@jupyter-widgets/base",
            "_view_module_version": "1.2.0",
            "_view_name": "LayoutView",
            "align_content": null,
            "align_items": null,
            "align_self": null,
            "border": null,
            "bottom": null,
            "display": null,
            "flex": null,
            "flex_flow": null,
            "grid_area": null,
            "grid_auto_columns": null,
            "grid_auto_flow": null,
            "grid_auto_rows": null,
            "grid_column": null,
            "grid_gap": null,
            "grid_row": null,
            "grid_template_areas": null,
            "grid_template_columns": null,
            "grid_template_rows": null,
            "height": null,
            "justify_content": null,
            "justify_items": null,
            "left": null,
            "margin": null,
            "max_height": null,
            "max_width": null,
            "min_height": null,
            "min_width": null,
            "object_fit": null,
            "object_position": null,
            "order": null,
            "overflow": null,
            "overflow_x": null,
            "overflow_y": null,
            "padding": null,
            "right": null,
            "top": null,
            "visibility": null,
            "width": null
          }
        },
        "6e0903d56bb34f4ca696f01d30b99abe": {
          "model_module": "@jupyter-widgets/base",
          "model_name": "LayoutModel",
          "model_module_version": "1.2.0",
          "state": {
            "_model_module": "@jupyter-widgets/base",
            "_model_module_version": "1.2.0",
            "_model_name": "LayoutModel",
            "_view_count": null,
            "_view_module": "@jupyter-widgets/base",
            "_view_module_version": "1.2.0",
            "_view_name": "LayoutView",
            "align_content": null,
            "align_items": null,
            "align_self": null,
            "border": null,
            "bottom": null,
            "display": null,
            "flex": null,
            "flex_flow": null,
            "grid_area": null,
            "grid_auto_columns": null,
            "grid_auto_flow": null,
            "grid_auto_rows": null,
            "grid_column": null,
            "grid_gap": null,
            "grid_row": null,
            "grid_template_areas": null,
            "grid_template_columns": null,
            "grid_template_rows": null,
            "height": null,
            "justify_content": null,
            "justify_items": null,
            "left": null,
            "margin": null,
            "max_height": null,
            "max_width": null,
            "min_height": null,
            "min_width": null,
            "object_fit": null,
            "object_position": null,
            "order": null,
            "overflow": null,
            "overflow_x": null,
            "overflow_y": null,
            "padding": null,
            "right": null,
            "top": null,
            "visibility": null,
            "width": null
          }
        },
        "9b0800bd91d84e8fb0b120ed55137ed0": {
          "model_module": "@jupyter-widgets/controls",
          "model_name": "DescriptionStyleModel",
          "model_module_version": "1.5.0",
          "state": {
            "_model_module": "@jupyter-widgets/controls",
            "_model_module_version": "1.5.0",
            "_model_name": "DescriptionStyleModel",
            "_view_count": null,
            "_view_module": "@jupyter-widgets/base",
            "_view_module_version": "1.2.0",
            "_view_name": "StyleView",
            "description_width": ""
          }
        },
        "aa929bcd1d264b86a78fbe5833909de3": {
          "model_module": "@jupyter-widgets/base",
          "model_name": "LayoutModel",
          "model_module_version": "1.2.0",
          "state": {
            "_model_module": "@jupyter-widgets/base",
            "_model_module_version": "1.2.0",
            "_model_name": "LayoutModel",
            "_view_count": null,
            "_view_module": "@jupyter-widgets/base",
            "_view_module_version": "1.2.0",
            "_view_name": "LayoutView",
            "align_content": null,
            "align_items": null,
            "align_self": null,
            "border": null,
            "bottom": null,
            "display": null,
            "flex": null,
            "flex_flow": null,
            "grid_area": null,
            "grid_auto_columns": null,
            "grid_auto_flow": null,
            "grid_auto_rows": null,
            "grid_column": null,
            "grid_gap": null,
            "grid_row": null,
            "grid_template_areas": null,
            "grid_template_columns": null,
            "grid_template_rows": null,
            "height": null,
            "justify_content": null,
            "justify_items": null,
            "left": null,
            "margin": null,
            "max_height": null,
            "max_width": null,
            "min_height": null,
            "min_width": null,
            "object_fit": null,
            "object_position": null,
            "order": null,
            "overflow": null,
            "overflow_x": null,
            "overflow_y": null,
            "padding": null,
            "right": null,
            "top": null,
            "visibility": null,
            "width": null
          }
        },
        "63643081255d48aaa5d1cbb330e1ea92": {
          "model_module": "@jupyter-widgets/controls",
          "model_name": "ProgressStyleModel",
          "model_module_version": "1.5.0",
          "state": {
            "_model_module": "@jupyter-widgets/controls",
            "_model_module_version": "1.5.0",
            "_model_name": "ProgressStyleModel",
            "_view_count": null,
            "_view_module": "@jupyter-widgets/base",
            "_view_module_version": "1.2.0",
            "_view_name": "StyleView",
            "bar_color": null,
            "description_width": ""
          }
        },
        "cefe27ee5742434183d7d02a15d55cb2": {
          "model_module": "@jupyter-widgets/base",
          "model_name": "LayoutModel",
          "model_module_version": "1.2.0",
          "state": {
            "_model_module": "@jupyter-widgets/base",
            "_model_module_version": "1.2.0",
            "_model_name": "LayoutModel",
            "_view_count": null,
            "_view_module": "@jupyter-widgets/base",
            "_view_module_version": "1.2.0",
            "_view_name": "LayoutView",
            "align_content": null,
            "align_items": null,
            "align_self": null,
            "border": null,
            "bottom": null,
            "display": null,
            "flex": null,
            "flex_flow": null,
            "grid_area": null,
            "grid_auto_columns": null,
            "grid_auto_flow": null,
            "grid_auto_rows": null,
            "grid_column": null,
            "grid_gap": null,
            "grid_row": null,
            "grid_template_areas": null,
            "grid_template_columns": null,
            "grid_template_rows": null,
            "height": null,
            "justify_content": null,
            "justify_items": null,
            "left": null,
            "margin": null,
            "max_height": null,
            "max_width": null,
            "min_height": null,
            "min_width": null,
            "object_fit": null,
            "object_position": null,
            "order": null,
            "overflow": null,
            "overflow_x": null,
            "overflow_y": null,
            "padding": null,
            "right": null,
            "top": null,
            "visibility": null,
            "width": null
          }
        },
        "3f0076d62106436ba202d18428591906": {
          "model_module": "@jupyter-widgets/controls",
          "model_name": "DescriptionStyleModel",
          "model_module_version": "1.5.0",
          "state": {
            "_model_module": "@jupyter-widgets/controls",
            "_model_module_version": "1.5.0",
            "_model_name": "DescriptionStyleModel",
            "_view_count": null,
            "_view_module": "@jupyter-widgets/base",
            "_view_module_version": "1.2.0",
            "_view_name": "StyleView",
            "description_width": ""
          }
        },
        "164d337014cf4109965fbf8392aae787": {
          "model_module": "@jupyter-widgets/controls",
          "model_name": "HBoxModel",
          "model_module_version": "1.5.0",
          "state": {
            "_dom_classes": [],
            "_model_module": "@jupyter-widgets/controls",
            "_model_module_version": "1.5.0",
            "_model_name": "HBoxModel",
            "_view_count": null,
            "_view_module": "@jupyter-widgets/controls",
            "_view_module_version": "1.5.0",
            "_view_name": "HBoxView",
            "box_style": "",
            "children": [
              "IPY_MODEL_dba79a116793464eb446c99ebaa97f73",
              "IPY_MODEL_c36fd837796b47c380f2c3f624435581",
              "IPY_MODEL_be78fc78e86c42b7815037d5b7e3c915"
            ],
            "layout": "IPY_MODEL_db58bc92ff184f7396a6d34051fa5dcc"
          }
        },
        "dba79a116793464eb446c99ebaa97f73": {
          "model_module": "@jupyter-widgets/controls",
          "model_name": "HTMLModel",
          "model_module_version": "1.5.0",
          "state": {
            "_dom_classes": [],
            "_model_module": "@jupyter-widgets/controls",
            "_model_module_version": "1.5.0",
            "_model_name": "HTMLModel",
            "_view_count": null,
            "_view_module": "@jupyter-widgets/controls",
            "_view_module_version": "1.5.0",
            "_view_name": "HTMLView",
            "description": "",
            "description_tooltip": null,
            "layout": "IPY_MODEL_a630cca5b2964ddabd9625efca090d7c",
            "placeholder": "​",
            "style": "IPY_MODEL_1b245bc155bf4a388207a5cd8d0241a3",
            "value": "100%"
          }
        },
        "c36fd837796b47c380f2c3f624435581": {
          "model_module": "@jupyter-widgets/controls",
          "model_name": "FloatProgressModel",
          "model_module_version": "1.5.0",
          "state": {
            "_dom_classes": [],
            "_model_module": "@jupyter-widgets/controls",
            "_model_module_version": "1.5.0",
            "_model_name": "FloatProgressModel",
            "_view_count": null,
            "_view_module": "@jupyter-widgets/controls",
            "_view_module_version": "1.5.0",
            "_view_name": "ProgressView",
            "bar_style": "success",
            "description": "",
            "description_tooltip": null,
            "layout": "IPY_MODEL_07b54d44b56c49889231fcaed519374a",
            "max": 1,
            "min": 0,
            "orientation": "horizontal",
            "style": "IPY_MODEL_d47682f5f2104dc0993cf738a013f414",
            "value": 1
          }
        },
        "be78fc78e86c42b7815037d5b7e3c915": {
          "model_module": "@jupyter-widgets/controls",
          "model_name": "HTMLModel",
          "model_module_version": "1.5.0",
          "state": {
            "_dom_classes": [],
            "_model_module": "@jupyter-widgets/controls",
            "_model_module_version": "1.5.0",
            "_model_name": "HTMLModel",
            "_view_count": null,
            "_view_module": "@jupyter-widgets/controls",
            "_view_module_version": "1.5.0",
            "_view_name": "HTMLView",
            "description": "",
            "description_tooltip": null,
            "layout": "IPY_MODEL_45b670b1ae5045a9a91fe514c82e82d8",
            "placeholder": "​",
            "style": "IPY_MODEL_d6097f9e6607470ab88dd1d9acd28df2",
            "value": " 1/1 [00:02&lt;00:00,  2.61s/ba]"
          }
        },
        "db58bc92ff184f7396a6d34051fa5dcc": {
          "model_module": "@jupyter-widgets/base",
          "model_name": "LayoutModel",
          "model_module_version": "1.2.0",
          "state": {
            "_model_module": "@jupyter-widgets/base",
            "_model_module_version": "1.2.0",
            "_model_name": "LayoutModel",
            "_view_count": null,
            "_view_module": "@jupyter-widgets/base",
            "_view_module_version": "1.2.0",
            "_view_name": "LayoutView",
            "align_content": null,
            "align_items": null,
            "align_self": null,
            "border": null,
            "bottom": null,
            "display": null,
            "flex": null,
            "flex_flow": null,
            "grid_area": null,
            "grid_auto_columns": null,
            "grid_auto_flow": null,
            "grid_auto_rows": null,
            "grid_column": null,
            "grid_gap": null,
            "grid_row": null,
            "grid_template_areas": null,
            "grid_template_columns": null,
            "grid_template_rows": null,
            "height": null,
            "justify_content": null,
            "justify_items": null,
            "left": null,
            "margin": null,
            "max_height": null,
            "max_width": null,
            "min_height": null,
            "min_width": null,
            "object_fit": null,
            "object_position": null,
            "order": null,
            "overflow": null,
            "overflow_x": null,
            "overflow_y": null,
            "padding": null,
            "right": null,
            "top": null,
            "visibility": null,
            "width": null
          }
        },
        "a630cca5b2964ddabd9625efca090d7c": {
          "model_module": "@jupyter-widgets/base",
          "model_name": "LayoutModel",
          "model_module_version": "1.2.0",
          "state": {
            "_model_module": "@jupyter-widgets/base",
            "_model_module_version": "1.2.0",
            "_model_name": "LayoutModel",
            "_view_count": null,
            "_view_module": "@jupyter-widgets/base",
            "_view_module_version": "1.2.0",
            "_view_name": "LayoutView",
            "align_content": null,
            "align_items": null,
            "align_self": null,
            "border": null,
            "bottom": null,
            "display": null,
            "flex": null,
            "flex_flow": null,
            "grid_area": null,
            "grid_auto_columns": null,
            "grid_auto_flow": null,
            "grid_auto_rows": null,
            "grid_column": null,
            "grid_gap": null,
            "grid_row": null,
            "grid_template_areas": null,
            "grid_template_columns": null,
            "grid_template_rows": null,
            "height": null,
            "justify_content": null,
            "justify_items": null,
            "left": null,
            "margin": null,
            "max_height": null,
            "max_width": null,
            "min_height": null,
            "min_width": null,
            "object_fit": null,
            "object_position": null,
            "order": null,
            "overflow": null,
            "overflow_x": null,
            "overflow_y": null,
            "padding": null,
            "right": null,
            "top": null,
            "visibility": null,
            "width": null
          }
        },
        "1b245bc155bf4a388207a5cd8d0241a3": {
          "model_module": "@jupyter-widgets/controls",
          "model_name": "DescriptionStyleModel",
          "model_module_version": "1.5.0",
          "state": {
            "_model_module": "@jupyter-widgets/controls",
            "_model_module_version": "1.5.0",
            "_model_name": "DescriptionStyleModel",
            "_view_count": null,
            "_view_module": "@jupyter-widgets/base",
            "_view_module_version": "1.2.0",
            "_view_name": "StyleView",
            "description_width": ""
          }
        },
        "07b54d44b56c49889231fcaed519374a": {
          "model_module": "@jupyter-widgets/base",
          "model_name": "LayoutModel",
          "model_module_version": "1.2.0",
          "state": {
            "_model_module": "@jupyter-widgets/base",
            "_model_module_version": "1.2.0",
            "_model_name": "LayoutModel",
            "_view_count": null,
            "_view_module": "@jupyter-widgets/base",
            "_view_module_version": "1.2.0",
            "_view_name": "LayoutView",
            "align_content": null,
            "align_items": null,
            "align_self": null,
            "border": null,
            "bottom": null,
            "display": null,
            "flex": null,
            "flex_flow": null,
            "grid_area": null,
            "grid_auto_columns": null,
            "grid_auto_flow": null,
            "grid_auto_rows": null,
            "grid_column": null,
            "grid_gap": null,
            "grid_row": null,
            "grid_template_areas": null,
            "grid_template_columns": null,
            "grid_template_rows": null,
            "height": null,
            "justify_content": null,
            "justify_items": null,
            "left": null,
            "margin": null,
            "max_height": null,
            "max_width": null,
            "min_height": null,
            "min_width": null,
            "object_fit": null,
            "object_position": null,
            "order": null,
            "overflow": null,
            "overflow_x": null,
            "overflow_y": null,
            "padding": null,
            "right": null,
            "top": null,
            "visibility": null,
            "width": null
          }
        },
        "d47682f5f2104dc0993cf738a013f414": {
          "model_module": "@jupyter-widgets/controls",
          "model_name": "ProgressStyleModel",
          "model_module_version": "1.5.0",
          "state": {
            "_model_module": "@jupyter-widgets/controls",
            "_model_module_version": "1.5.0",
            "_model_name": "ProgressStyleModel",
            "_view_count": null,
            "_view_module": "@jupyter-widgets/base",
            "_view_module_version": "1.2.0",
            "_view_name": "StyleView",
            "bar_color": null,
            "description_width": ""
          }
        },
        "45b670b1ae5045a9a91fe514c82e82d8": {
          "model_module": "@jupyter-widgets/base",
          "model_name": "LayoutModel",
          "model_module_version": "1.2.0",
          "state": {
            "_model_module": "@jupyter-widgets/base",
            "_model_module_version": "1.2.0",
            "_model_name": "LayoutModel",
            "_view_count": null,
            "_view_module": "@jupyter-widgets/base",
            "_view_module_version": "1.2.0",
            "_view_name": "LayoutView",
            "align_content": null,
            "align_items": null,
            "align_self": null,
            "border": null,
            "bottom": null,
            "display": null,
            "flex": null,
            "flex_flow": null,
            "grid_area": null,
            "grid_auto_columns": null,
            "grid_auto_flow": null,
            "grid_auto_rows": null,
            "grid_column": null,
            "grid_gap": null,
            "grid_row": null,
            "grid_template_areas": null,
            "grid_template_columns": null,
            "grid_template_rows": null,
            "height": null,
            "justify_content": null,
            "justify_items": null,
            "left": null,
            "margin": null,
            "max_height": null,
            "max_width": null,
            "min_height": null,
            "min_width": null,
            "object_fit": null,
            "object_position": null,
            "order": null,
            "overflow": null,
            "overflow_x": null,
            "overflow_y": null,
            "padding": null,
            "right": null,
            "top": null,
            "visibility": null,
            "width": null
          }
        },
        "d6097f9e6607470ab88dd1d9acd28df2": {
          "model_module": "@jupyter-widgets/controls",
          "model_name": "DescriptionStyleModel",
          "model_module_version": "1.5.0",
          "state": {
            "_model_module": "@jupyter-widgets/controls",
            "_model_module_version": "1.5.0",
            "_model_name": "DescriptionStyleModel",
            "_view_count": null,
            "_view_module": "@jupyter-widgets/base",
            "_view_module_version": "1.2.0",
            "_view_name": "StyleView",
            "description_width": ""
          }
        },
        "3b540e89f2aa457e83fd51425e3133b9": {
          "model_module": "@jupyter-widgets/controls",
          "model_name": "HBoxModel",
          "model_module_version": "1.5.0",
          "state": {
            "_dom_classes": [],
            "_model_module": "@jupyter-widgets/controls",
            "_model_module_version": "1.5.0",
            "_model_name": "HBoxModel",
            "_view_count": null,
            "_view_module": "@jupyter-widgets/controls",
            "_view_module_version": "1.5.0",
            "_view_name": "HBoxView",
            "box_style": "",
            "children": [
              "IPY_MODEL_c8c66b13f2e341ff8eb848a48f93fa4a",
              "IPY_MODEL_0bce47e4b7ef42379008eb344b93c5f3",
              "IPY_MODEL_5d1db3cbca5f4258862fa6cf21f875f3"
            ],
            "layout": "IPY_MODEL_dd2ef4ba987c496789ca4fae81fc882b"
          }
        },
        "c8c66b13f2e341ff8eb848a48f93fa4a": {
          "model_module": "@jupyter-widgets/controls",
          "model_name": "HTMLModel",
          "model_module_version": "1.5.0",
          "state": {
            "_dom_classes": [],
            "_model_module": "@jupyter-widgets/controls",
            "_model_module_version": "1.5.0",
            "_model_name": "HTMLModel",
            "_view_count": null,
            "_view_module": "@jupyter-widgets/controls",
            "_view_module_version": "1.5.0",
            "_view_name": "HTMLView",
            "description": "",
            "description_tooltip": null,
            "layout": "IPY_MODEL_a47f7b33271c459092b6434000481af7",
            "placeholder": "​",
            "style": "IPY_MODEL_755d7b95aaa5443cbf52674cafb428a6",
            "value": "100%"
          }
        },
        "0bce47e4b7ef42379008eb344b93c5f3": {
          "model_module": "@jupyter-widgets/controls",
          "model_name": "FloatProgressModel",
          "model_module_version": "1.5.0",
          "state": {
            "_dom_classes": [],
            "_model_module": "@jupyter-widgets/controls",
            "_model_module_version": "1.5.0",
            "_model_name": "FloatProgressModel",
            "_view_count": null,
            "_view_module": "@jupyter-widgets/controls",
            "_view_module_version": "1.5.0",
            "_view_name": "ProgressView",
            "bar_style": "success",
            "description": "",
            "description_tooltip": null,
            "layout": "IPY_MODEL_364375d0194442d09e36c5063210cd59",
            "max": 1,
            "min": 0,
            "orientation": "horizontal",
            "style": "IPY_MODEL_776c07a50d3a491a9289a1a3e4e0a3de",
            "value": 1
          }
        },
        "5d1db3cbca5f4258862fa6cf21f875f3": {
          "model_module": "@jupyter-widgets/controls",
          "model_name": "HTMLModel",
          "model_module_version": "1.5.0",
          "state": {
            "_dom_classes": [],
            "_model_module": "@jupyter-widgets/controls",
            "_model_module_version": "1.5.0",
            "_model_name": "HTMLModel",
            "_view_count": null,
            "_view_module": "@jupyter-widgets/controls",
            "_view_module_version": "1.5.0",
            "_view_name": "HTMLView",
            "description": "",
            "description_tooltip": null,
            "layout": "IPY_MODEL_9f2ef1d1ae4f4bc59aa6627c7be4a324",
            "placeholder": "​",
            "style": "IPY_MODEL_f0e2b22838e04ca296ddedcd8cc7a5fa",
            "value": " 1/1 [00:00&lt;00:00,  2.51ba/s]"
          }
        },
        "dd2ef4ba987c496789ca4fae81fc882b": {
          "model_module": "@jupyter-widgets/base",
          "model_name": "LayoutModel",
          "model_module_version": "1.2.0",
          "state": {
            "_model_module": "@jupyter-widgets/base",
            "_model_module_version": "1.2.0",
            "_model_name": "LayoutModel",
            "_view_count": null,
            "_view_module": "@jupyter-widgets/base",
            "_view_module_version": "1.2.0",
            "_view_name": "LayoutView",
            "align_content": null,
            "align_items": null,
            "align_self": null,
            "border": null,
            "bottom": null,
            "display": null,
            "flex": null,
            "flex_flow": null,
            "grid_area": null,
            "grid_auto_columns": null,
            "grid_auto_flow": null,
            "grid_auto_rows": null,
            "grid_column": null,
            "grid_gap": null,
            "grid_row": null,
            "grid_template_areas": null,
            "grid_template_columns": null,
            "grid_template_rows": null,
            "height": null,
            "justify_content": null,
            "justify_items": null,
            "left": null,
            "margin": null,
            "max_height": null,
            "max_width": null,
            "min_height": null,
            "min_width": null,
            "object_fit": null,
            "object_position": null,
            "order": null,
            "overflow": null,
            "overflow_x": null,
            "overflow_y": null,
            "padding": null,
            "right": null,
            "top": null,
            "visibility": null,
            "width": null
          }
        },
        "a47f7b33271c459092b6434000481af7": {
          "model_module": "@jupyter-widgets/base",
          "model_name": "LayoutModel",
          "model_module_version": "1.2.0",
          "state": {
            "_model_module": "@jupyter-widgets/base",
            "_model_module_version": "1.2.0",
            "_model_name": "LayoutModel",
            "_view_count": null,
            "_view_module": "@jupyter-widgets/base",
            "_view_module_version": "1.2.0",
            "_view_name": "LayoutView",
            "align_content": null,
            "align_items": null,
            "align_self": null,
            "border": null,
            "bottom": null,
            "display": null,
            "flex": null,
            "flex_flow": null,
            "grid_area": null,
            "grid_auto_columns": null,
            "grid_auto_flow": null,
            "grid_auto_rows": null,
            "grid_column": null,
            "grid_gap": null,
            "grid_row": null,
            "grid_template_areas": null,
            "grid_template_columns": null,
            "grid_template_rows": null,
            "height": null,
            "justify_content": null,
            "justify_items": null,
            "left": null,
            "margin": null,
            "max_height": null,
            "max_width": null,
            "min_height": null,
            "min_width": null,
            "object_fit": null,
            "object_position": null,
            "order": null,
            "overflow": null,
            "overflow_x": null,
            "overflow_y": null,
            "padding": null,
            "right": null,
            "top": null,
            "visibility": null,
            "width": null
          }
        },
        "755d7b95aaa5443cbf52674cafb428a6": {
          "model_module": "@jupyter-widgets/controls",
          "model_name": "DescriptionStyleModel",
          "model_module_version": "1.5.0",
          "state": {
            "_model_module": "@jupyter-widgets/controls",
            "_model_module_version": "1.5.0",
            "_model_name": "DescriptionStyleModel",
            "_view_count": null,
            "_view_module": "@jupyter-widgets/base",
            "_view_module_version": "1.2.0",
            "_view_name": "StyleView",
            "description_width": ""
          }
        },
        "364375d0194442d09e36c5063210cd59": {
          "model_module": "@jupyter-widgets/base",
          "model_name": "LayoutModel",
          "model_module_version": "1.2.0",
          "state": {
            "_model_module": "@jupyter-widgets/base",
            "_model_module_version": "1.2.0",
            "_model_name": "LayoutModel",
            "_view_count": null,
            "_view_module": "@jupyter-widgets/base",
            "_view_module_version": "1.2.0",
            "_view_name": "LayoutView",
            "align_content": null,
            "align_items": null,
            "align_self": null,
            "border": null,
            "bottom": null,
            "display": null,
            "flex": null,
            "flex_flow": null,
            "grid_area": null,
            "grid_auto_columns": null,
            "grid_auto_flow": null,
            "grid_auto_rows": null,
            "grid_column": null,
            "grid_gap": null,
            "grid_row": null,
            "grid_template_areas": null,
            "grid_template_columns": null,
            "grid_template_rows": null,
            "height": null,
            "justify_content": null,
            "justify_items": null,
            "left": null,
            "margin": null,
            "max_height": null,
            "max_width": null,
            "min_height": null,
            "min_width": null,
            "object_fit": null,
            "object_position": null,
            "order": null,
            "overflow": null,
            "overflow_x": null,
            "overflow_y": null,
            "padding": null,
            "right": null,
            "top": null,
            "visibility": null,
            "width": null
          }
        },
        "776c07a50d3a491a9289a1a3e4e0a3de": {
          "model_module": "@jupyter-widgets/controls",
          "model_name": "ProgressStyleModel",
          "model_module_version": "1.5.0",
          "state": {
            "_model_module": "@jupyter-widgets/controls",
            "_model_module_version": "1.5.0",
            "_model_name": "ProgressStyleModel",
            "_view_count": null,
            "_view_module": "@jupyter-widgets/base",
            "_view_module_version": "1.2.0",
            "_view_name": "StyleView",
            "bar_color": null,
            "description_width": ""
          }
        },
        "9f2ef1d1ae4f4bc59aa6627c7be4a324": {
          "model_module": "@jupyter-widgets/base",
          "model_name": "LayoutModel",
          "model_module_version": "1.2.0",
          "state": {
            "_model_module": "@jupyter-widgets/base",
            "_model_module_version": "1.2.0",
            "_model_name": "LayoutModel",
            "_view_count": null,
            "_view_module": "@jupyter-widgets/base",
            "_view_module_version": "1.2.0",
            "_view_name": "LayoutView",
            "align_content": null,
            "align_items": null,
            "align_self": null,
            "border": null,
            "bottom": null,
            "display": null,
            "flex": null,
            "flex_flow": null,
            "grid_area": null,
            "grid_auto_columns": null,
            "grid_auto_flow": null,
            "grid_auto_rows": null,
            "grid_column": null,
            "grid_gap": null,
            "grid_row": null,
            "grid_template_areas": null,
            "grid_template_columns": null,
            "grid_template_rows": null,
            "height": null,
            "justify_content": null,
            "justify_items": null,
            "left": null,
            "margin": null,
            "max_height": null,
            "max_width": null,
            "min_height": null,
            "min_width": null,
            "object_fit": null,
            "object_position": null,
            "order": null,
            "overflow": null,
            "overflow_x": null,
            "overflow_y": null,
            "padding": null,
            "right": null,
            "top": null,
            "visibility": null,
            "width": null
          }
        },
        "f0e2b22838e04ca296ddedcd8cc7a5fa": {
          "model_module": "@jupyter-widgets/controls",
          "model_name": "DescriptionStyleModel",
          "model_module_version": "1.5.0",
          "state": {
            "_model_module": "@jupyter-widgets/controls",
            "_model_module_version": "1.5.0",
            "_model_name": "DescriptionStyleModel",
            "_view_count": null,
            "_view_module": "@jupyter-widgets/base",
            "_view_module_version": "1.2.0",
            "_view_name": "StyleView",
            "description_width": ""
          }
        },
        "efe6cdcbc38b4a7dbd5e82cc9bbb21ee": {
          "model_module": "@jupyter-widgets/controls",
          "model_name": "HBoxModel",
          "model_module_version": "1.5.0",
          "state": {
            "_dom_classes": [],
            "_model_module": "@jupyter-widgets/controls",
            "_model_module_version": "1.5.0",
            "_model_name": "HBoxModel",
            "_view_count": null,
            "_view_module": "@jupyter-widgets/controls",
            "_view_module_version": "1.5.0",
            "_view_name": "HBoxView",
            "box_style": "",
            "children": [
              "IPY_MODEL_317aa7f11ae74885b648ec39a3ee3227",
              "IPY_MODEL_946d4cb6ddd8412faa57796c2d6353c4",
              "IPY_MODEL_de83bc20baf04027a588bdb2dc742bb4"
            ],
            "layout": "IPY_MODEL_b50272e242e24ed2990dd5ac219ed7a6"
          }
        },
        "317aa7f11ae74885b648ec39a3ee3227": {
          "model_module": "@jupyter-widgets/controls",
          "model_name": "HTMLModel",
          "model_module_version": "1.5.0",
          "state": {
            "_dom_classes": [],
            "_model_module": "@jupyter-widgets/controls",
            "_model_module_version": "1.5.0",
            "_model_name": "HTMLModel",
            "_view_count": null,
            "_view_module": "@jupyter-widgets/controls",
            "_view_module_version": "1.5.0",
            "_view_name": "HTMLView",
            "description": "",
            "description_tooltip": null,
            "layout": "IPY_MODEL_739db3a8d7d44710b99ada629c8d1867",
            "placeholder": "​",
            "style": "IPY_MODEL_571c9e48515843f3ade621214ce1c940",
            "value": "100%"
          }
        },
        "946d4cb6ddd8412faa57796c2d6353c4": {
          "model_module": "@jupyter-widgets/controls",
          "model_name": "FloatProgressModel",
          "model_module_version": "1.5.0",
          "state": {
            "_dom_classes": [],
            "_model_module": "@jupyter-widgets/controls",
            "_model_module_version": "1.5.0",
            "_model_name": "FloatProgressModel",
            "_view_count": null,
            "_view_module": "@jupyter-widgets/controls",
            "_view_module_version": "1.5.0",
            "_view_name": "ProgressView",
            "bar_style": "success",
            "description": "",
            "description_tooltip": null,
            "layout": "IPY_MODEL_e10d903fa41d47ec9d2e8997e373be37",
            "max": 1,
            "min": 0,
            "orientation": "horizontal",
            "style": "IPY_MODEL_90bf06a9c58d4f68b51f99dc0ab771c5",
            "value": 1
          }
        },
        "de83bc20baf04027a588bdb2dc742bb4": {
          "model_module": "@jupyter-widgets/controls",
          "model_name": "HTMLModel",
          "model_module_version": "1.5.0",
          "state": {
            "_dom_classes": [],
            "_model_module": "@jupyter-widgets/controls",
            "_model_module_version": "1.5.0",
            "_model_name": "HTMLModel",
            "_view_count": null,
            "_view_module": "@jupyter-widgets/controls",
            "_view_module_version": "1.5.0",
            "_view_name": "HTMLView",
            "description": "",
            "description_tooltip": null,
            "layout": "IPY_MODEL_c8ff749c25184ba4b1547870fc0a0e92",
            "placeholder": "​",
            "style": "IPY_MODEL_2379c638f1fa4f3f9787bf3a640ea9a4",
            "value": " 1/1 [00:00&lt;00:00,  1.56ba/s]"
          }
        },
        "b50272e242e24ed2990dd5ac219ed7a6": {
          "model_module": "@jupyter-widgets/base",
          "model_name": "LayoutModel",
          "model_module_version": "1.2.0",
          "state": {
            "_model_module": "@jupyter-widgets/base",
            "_model_module_version": "1.2.0",
            "_model_name": "LayoutModel",
            "_view_count": null,
            "_view_module": "@jupyter-widgets/base",
            "_view_module_version": "1.2.0",
            "_view_name": "LayoutView",
            "align_content": null,
            "align_items": null,
            "align_self": null,
            "border": null,
            "bottom": null,
            "display": null,
            "flex": null,
            "flex_flow": null,
            "grid_area": null,
            "grid_auto_columns": null,
            "grid_auto_flow": null,
            "grid_auto_rows": null,
            "grid_column": null,
            "grid_gap": null,
            "grid_row": null,
            "grid_template_areas": null,
            "grid_template_columns": null,
            "grid_template_rows": null,
            "height": null,
            "justify_content": null,
            "justify_items": null,
            "left": null,
            "margin": null,
            "max_height": null,
            "max_width": null,
            "min_height": null,
            "min_width": null,
            "object_fit": null,
            "object_position": null,
            "order": null,
            "overflow": null,
            "overflow_x": null,
            "overflow_y": null,
            "padding": null,
            "right": null,
            "top": null,
            "visibility": null,
            "width": null
          }
        },
        "739db3a8d7d44710b99ada629c8d1867": {
          "model_module": "@jupyter-widgets/base",
          "model_name": "LayoutModel",
          "model_module_version": "1.2.0",
          "state": {
            "_model_module": "@jupyter-widgets/base",
            "_model_module_version": "1.2.0",
            "_model_name": "LayoutModel",
            "_view_count": null,
            "_view_module": "@jupyter-widgets/base",
            "_view_module_version": "1.2.0",
            "_view_name": "LayoutView",
            "align_content": null,
            "align_items": null,
            "align_self": null,
            "border": null,
            "bottom": null,
            "display": null,
            "flex": null,
            "flex_flow": null,
            "grid_area": null,
            "grid_auto_columns": null,
            "grid_auto_flow": null,
            "grid_auto_rows": null,
            "grid_column": null,
            "grid_gap": null,
            "grid_row": null,
            "grid_template_areas": null,
            "grid_template_columns": null,
            "grid_template_rows": null,
            "height": null,
            "justify_content": null,
            "justify_items": null,
            "left": null,
            "margin": null,
            "max_height": null,
            "max_width": null,
            "min_height": null,
            "min_width": null,
            "object_fit": null,
            "object_position": null,
            "order": null,
            "overflow": null,
            "overflow_x": null,
            "overflow_y": null,
            "padding": null,
            "right": null,
            "top": null,
            "visibility": null,
            "width": null
          }
        },
        "571c9e48515843f3ade621214ce1c940": {
          "model_module": "@jupyter-widgets/controls",
          "model_name": "DescriptionStyleModel",
          "model_module_version": "1.5.0",
          "state": {
            "_model_module": "@jupyter-widgets/controls",
            "_model_module_version": "1.5.0",
            "_model_name": "DescriptionStyleModel",
            "_view_count": null,
            "_view_module": "@jupyter-widgets/base",
            "_view_module_version": "1.2.0",
            "_view_name": "StyleView",
            "description_width": ""
          }
        },
        "e10d903fa41d47ec9d2e8997e373be37": {
          "model_module": "@jupyter-widgets/base",
          "model_name": "LayoutModel",
          "model_module_version": "1.2.0",
          "state": {
            "_model_module": "@jupyter-widgets/base",
            "_model_module_version": "1.2.0",
            "_model_name": "LayoutModel",
            "_view_count": null,
            "_view_module": "@jupyter-widgets/base",
            "_view_module_version": "1.2.0",
            "_view_name": "LayoutView",
            "align_content": null,
            "align_items": null,
            "align_self": null,
            "border": null,
            "bottom": null,
            "display": null,
            "flex": null,
            "flex_flow": null,
            "grid_area": null,
            "grid_auto_columns": null,
            "grid_auto_flow": null,
            "grid_auto_rows": null,
            "grid_column": null,
            "grid_gap": null,
            "grid_row": null,
            "grid_template_areas": null,
            "grid_template_columns": null,
            "grid_template_rows": null,
            "height": null,
            "justify_content": null,
            "justify_items": null,
            "left": null,
            "margin": null,
            "max_height": null,
            "max_width": null,
            "min_height": null,
            "min_width": null,
            "object_fit": null,
            "object_position": null,
            "order": null,
            "overflow": null,
            "overflow_x": null,
            "overflow_y": null,
            "padding": null,
            "right": null,
            "top": null,
            "visibility": null,
            "width": null
          }
        },
        "90bf06a9c58d4f68b51f99dc0ab771c5": {
          "model_module": "@jupyter-widgets/controls",
          "model_name": "ProgressStyleModel",
          "model_module_version": "1.5.0",
          "state": {
            "_model_module": "@jupyter-widgets/controls",
            "_model_module_version": "1.5.0",
            "_model_name": "ProgressStyleModel",
            "_view_count": null,
            "_view_module": "@jupyter-widgets/base",
            "_view_module_version": "1.2.0",
            "_view_name": "StyleView",
            "bar_color": null,
            "description_width": ""
          }
        },
        "c8ff749c25184ba4b1547870fc0a0e92": {
          "model_module": "@jupyter-widgets/base",
          "model_name": "LayoutModel",
          "model_module_version": "1.2.0",
          "state": {
            "_model_module": "@jupyter-widgets/base",
            "_model_module_version": "1.2.0",
            "_model_name": "LayoutModel",
            "_view_count": null,
            "_view_module": "@jupyter-widgets/base",
            "_view_module_version": "1.2.0",
            "_view_name": "LayoutView",
            "align_content": null,
            "align_items": null,
            "align_self": null,
            "border": null,
            "bottom": null,
            "display": null,
            "flex": null,
            "flex_flow": null,
            "grid_area": null,
            "grid_auto_columns": null,
            "grid_auto_flow": null,
            "grid_auto_rows": null,
            "grid_column": null,
            "grid_gap": null,
            "grid_row": null,
            "grid_template_areas": null,
            "grid_template_columns": null,
            "grid_template_rows": null,
            "height": null,
            "justify_content": null,
            "justify_items": null,
            "left": null,
            "margin": null,
            "max_height": null,
            "max_width": null,
            "min_height": null,
            "min_width": null,
            "object_fit": null,
            "object_position": null,
            "order": null,
            "overflow": null,
            "overflow_x": null,
            "overflow_y": null,
            "padding": null,
            "right": null,
            "top": null,
            "visibility": null,
            "width": null
          }
        },
        "2379c638f1fa4f3f9787bf3a640ea9a4": {
          "model_module": "@jupyter-widgets/controls",
          "model_name": "DescriptionStyleModel",
          "model_module_version": "1.5.0",
          "state": {
            "_model_module": "@jupyter-widgets/controls",
            "_model_module_version": "1.5.0",
            "_model_name": "DescriptionStyleModel",
            "_view_count": null,
            "_view_module": "@jupyter-widgets/base",
            "_view_module_version": "1.2.0",
            "_view_name": "StyleView",
            "description_width": ""
          }
        },
        "0aab28915d2e4b0c8da3380e2f23b001": {
          "model_module": "@jupyter-widgets/controls",
          "model_name": "HBoxModel",
          "model_module_version": "1.5.0",
          "state": {
            "_dom_classes": [],
            "_model_module": "@jupyter-widgets/controls",
            "_model_module_version": "1.5.0",
            "_model_name": "HBoxModel",
            "_view_count": null,
            "_view_module": "@jupyter-widgets/controls",
            "_view_module_version": "1.5.0",
            "_view_name": "HBoxView",
            "box_style": "",
            "children": [
              "IPY_MODEL_34f93914c8f547dd93b33f8113cccad7",
              "IPY_MODEL_5a440b033ad449fbbbc22e8028c5b7c0",
              "IPY_MODEL_b8755258b6b9474bb4082265e3643d4c"
            ],
            "layout": "IPY_MODEL_9c46c47da93d4bd0bcb85e5216cf9f05"
          }
        },
        "34f93914c8f547dd93b33f8113cccad7": {
          "model_module": "@jupyter-widgets/controls",
          "model_name": "HTMLModel",
          "model_module_version": "1.5.0",
          "state": {
            "_dom_classes": [],
            "_model_module": "@jupyter-widgets/controls",
            "_model_module_version": "1.5.0",
            "_model_name": "HTMLModel",
            "_view_count": null,
            "_view_module": "@jupyter-widgets/controls",
            "_view_module_version": "1.5.0",
            "_view_name": "HTMLView",
            "description": "",
            "description_tooltip": null,
            "layout": "IPY_MODEL_bca539cf9ff34d769c3a8724ea811d47",
            "placeholder": "​",
            "style": "IPY_MODEL_f4f9c76f020c4893ace343606cb89848",
            "value": "Downloading: 100%"
          }
        },
        "5a440b033ad449fbbbc22e8028c5b7c0": {
          "model_module": "@jupyter-widgets/controls",
          "model_name": "FloatProgressModel",
          "model_module_version": "1.5.0",
          "state": {
            "_dom_classes": [],
            "_model_module": "@jupyter-widgets/controls",
            "_model_module_version": "1.5.0",
            "_model_name": "FloatProgressModel",
            "_view_count": null,
            "_view_module": "@jupyter-widgets/controls",
            "_view_module_version": "1.5.0",
            "_view_name": "ProgressView",
            "bar_style": "success",
            "description": "",
            "description_tooltip": null,
            "layout": "IPY_MODEL_4e14abe820894d688f16a66715e7db6d",
            "max": 267967963,
            "min": 0,
            "orientation": "horizontal",
            "style": "IPY_MODEL_aea1b845684d4c41b734830c62013233",
            "value": 267967963
          }
        },
        "b8755258b6b9474bb4082265e3643d4c": {
          "model_module": "@jupyter-widgets/controls",
          "model_name": "HTMLModel",
          "model_module_version": "1.5.0",
          "state": {
            "_dom_classes": [],
            "_model_module": "@jupyter-widgets/controls",
            "_model_module_version": "1.5.0",
            "_model_name": "HTMLModel",
            "_view_count": null,
            "_view_module": "@jupyter-widgets/controls",
            "_view_module_version": "1.5.0",
            "_view_name": "HTMLView",
            "description": "",
            "description_tooltip": null,
            "layout": "IPY_MODEL_f3eb7eb084f3440ab100224c4d3e26e8",
            "placeholder": "​",
            "style": "IPY_MODEL_1bd2360f72e04a9297053a0e110b4c6c",
            "value": " 256M/256M [00:09&lt;00:00, 20.8MB/s]"
          }
        },
        "9c46c47da93d4bd0bcb85e5216cf9f05": {
          "model_module": "@jupyter-widgets/base",
          "model_name": "LayoutModel",
          "model_module_version": "1.2.0",
          "state": {
            "_model_module": "@jupyter-widgets/base",
            "_model_module_version": "1.2.0",
            "_model_name": "LayoutModel",
            "_view_count": null,
            "_view_module": "@jupyter-widgets/base",
            "_view_module_version": "1.2.0",
            "_view_name": "LayoutView",
            "align_content": null,
            "align_items": null,
            "align_self": null,
            "border": null,
            "bottom": null,
            "display": null,
            "flex": null,
            "flex_flow": null,
            "grid_area": null,
            "grid_auto_columns": null,
            "grid_auto_flow": null,
            "grid_auto_rows": null,
            "grid_column": null,
            "grid_gap": null,
            "grid_row": null,
            "grid_template_areas": null,
            "grid_template_columns": null,
            "grid_template_rows": null,
            "height": null,
            "justify_content": null,
            "justify_items": null,
            "left": null,
            "margin": null,
            "max_height": null,
            "max_width": null,
            "min_height": null,
            "min_width": null,
            "object_fit": null,
            "object_position": null,
            "order": null,
            "overflow": null,
            "overflow_x": null,
            "overflow_y": null,
            "padding": null,
            "right": null,
            "top": null,
            "visibility": null,
            "width": null
          }
        },
        "bca539cf9ff34d769c3a8724ea811d47": {
          "model_module": "@jupyter-widgets/base",
          "model_name": "LayoutModel",
          "model_module_version": "1.2.0",
          "state": {
            "_model_module": "@jupyter-widgets/base",
            "_model_module_version": "1.2.0",
            "_model_name": "LayoutModel",
            "_view_count": null,
            "_view_module": "@jupyter-widgets/base",
            "_view_module_version": "1.2.0",
            "_view_name": "LayoutView",
            "align_content": null,
            "align_items": null,
            "align_self": null,
            "border": null,
            "bottom": null,
            "display": null,
            "flex": null,
            "flex_flow": null,
            "grid_area": null,
            "grid_auto_columns": null,
            "grid_auto_flow": null,
            "grid_auto_rows": null,
            "grid_column": null,
            "grid_gap": null,
            "grid_row": null,
            "grid_template_areas": null,
            "grid_template_columns": null,
            "grid_template_rows": null,
            "height": null,
            "justify_content": null,
            "justify_items": null,
            "left": null,
            "margin": null,
            "max_height": null,
            "max_width": null,
            "min_height": null,
            "min_width": null,
            "object_fit": null,
            "object_position": null,
            "order": null,
            "overflow": null,
            "overflow_x": null,
            "overflow_y": null,
            "padding": null,
            "right": null,
            "top": null,
            "visibility": null,
            "width": null
          }
        },
        "f4f9c76f020c4893ace343606cb89848": {
          "model_module": "@jupyter-widgets/controls",
          "model_name": "DescriptionStyleModel",
          "model_module_version": "1.5.0",
          "state": {
            "_model_module": "@jupyter-widgets/controls",
            "_model_module_version": "1.5.0",
            "_model_name": "DescriptionStyleModel",
            "_view_count": null,
            "_view_module": "@jupyter-widgets/base",
            "_view_module_version": "1.2.0",
            "_view_name": "StyleView",
            "description_width": ""
          }
        },
        "4e14abe820894d688f16a66715e7db6d": {
          "model_module": "@jupyter-widgets/base",
          "model_name": "LayoutModel",
          "model_module_version": "1.2.0",
          "state": {
            "_model_module": "@jupyter-widgets/base",
            "_model_module_version": "1.2.0",
            "_model_name": "LayoutModel",
            "_view_count": null,
            "_view_module": "@jupyter-widgets/base",
            "_view_module_version": "1.2.0",
            "_view_name": "LayoutView",
            "align_content": null,
            "align_items": null,
            "align_self": null,
            "border": null,
            "bottom": null,
            "display": null,
            "flex": null,
            "flex_flow": null,
            "grid_area": null,
            "grid_auto_columns": null,
            "grid_auto_flow": null,
            "grid_auto_rows": null,
            "grid_column": null,
            "grid_gap": null,
            "grid_row": null,
            "grid_template_areas": null,
            "grid_template_columns": null,
            "grid_template_rows": null,
            "height": null,
            "justify_content": null,
            "justify_items": null,
            "left": null,
            "margin": null,
            "max_height": null,
            "max_width": null,
            "min_height": null,
            "min_width": null,
            "object_fit": null,
            "object_position": null,
            "order": null,
            "overflow": null,
            "overflow_x": null,
            "overflow_y": null,
            "padding": null,
            "right": null,
            "top": null,
            "visibility": null,
            "width": null
          }
        },
        "aea1b845684d4c41b734830c62013233": {
          "model_module": "@jupyter-widgets/controls",
          "model_name": "ProgressStyleModel",
          "model_module_version": "1.5.0",
          "state": {
            "_model_module": "@jupyter-widgets/controls",
            "_model_module_version": "1.5.0",
            "_model_name": "ProgressStyleModel",
            "_view_count": null,
            "_view_module": "@jupyter-widgets/base",
            "_view_module_version": "1.2.0",
            "_view_name": "StyleView",
            "bar_color": null,
            "description_width": ""
          }
        },
        "f3eb7eb084f3440ab100224c4d3e26e8": {
          "model_module": "@jupyter-widgets/base",
          "model_name": "LayoutModel",
          "model_module_version": "1.2.0",
          "state": {
            "_model_module": "@jupyter-widgets/base",
            "_model_module_version": "1.2.0",
            "_model_name": "LayoutModel",
            "_view_count": null,
            "_view_module": "@jupyter-widgets/base",
            "_view_module_version": "1.2.0",
            "_view_name": "LayoutView",
            "align_content": null,
            "align_items": null,
            "align_self": null,
            "border": null,
            "bottom": null,
            "display": null,
            "flex": null,
            "flex_flow": null,
            "grid_area": null,
            "grid_auto_columns": null,
            "grid_auto_flow": null,
            "grid_auto_rows": null,
            "grid_column": null,
            "grid_gap": null,
            "grid_row": null,
            "grid_template_areas": null,
            "grid_template_columns": null,
            "grid_template_rows": null,
            "height": null,
            "justify_content": null,
            "justify_items": null,
            "left": null,
            "margin": null,
            "max_height": null,
            "max_width": null,
            "min_height": null,
            "min_width": null,
            "object_fit": null,
            "object_position": null,
            "order": null,
            "overflow": null,
            "overflow_x": null,
            "overflow_y": null,
            "padding": null,
            "right": null,
            "top": null,
            "visibility": null,
            "width": null
          }
        },
        "1bd2360f72e04a9297053a0e110b4c6c": {
          "model_module": "@jupyter-widgets/controls",
          "model_name": "DescriptionStyleModel",
          "model_module_version": "1.5.0",
          "state": {
            "_model_module": "@jupyter-widgets/controls",
            "_model_module_version": "1.5.0",
            "_model_name": "DescriptionStyleModel",
            "_view_count": null,
            "_view_module": "@jupyter-widgets/base",
            "_view_module_version": "1.2.0",
            "_view_name": "StyleView",
            "description_width": ""
          }
        },
        "1144c724379a49f2b228a8adbf45d719": {
          "model_module": "@jupyter-widgets/controls",
          "model_name": "HBoxModel",
          "model_module_version": "1.5.0",
          "state": {
            "_dom_classes": [],
            "_model_module": "@jupyter-widgets/controls",
            "_model_module_version": "1.5.0",
            "_model_name": "HBoxModel",
            "_view_count": null,
            "_view_module": "@jupyter-widgets/controls",
            "_view_module_version": "1.5.0",
            "_view_name": "HBoxView",
            "box_style": "",
            "children": [
              "IPY_MODEL_a64b08d3028d4f708a7fe59543b3b9b3",
              "IPY_MODEL_96107e8b7873420e9e0fc0c9eee73c59",
              "IPY_MODEL_7f0f5d1c660e43d1ae00b0e830f2e607"
            ],
            "layout": "IPY_MODEL_04b7851c01b7478b8cb89264ab884d7d"
          }
        },
        "a64b08d3028d4f708a7fe59543b3b9b3": {
          "model_module": "@jupyter-widgets/controls",
          "model_name": "HTMLModel",
          "model_module_version": "1.5.0",
          "state": {
            "_dom_classes": [],
            "_model_module": "@jupyter-widgets/controls",
            "_model_module_version": "1.5.0",
            "_model_name": "HTMLModel",
            "_view_count": null,
            "_view_module": "@jupyter-widgets/controls",
            "_view_module_version": "1.5.0",
            "_view_name": "HTMLView",
            "description": "",
            "description_tooltip": null,
            "layout": "IPY_MODEL_c5f2d740b0ec430095f99382e48641af",
            "placeholder": "​",
            "style": "IPY_MODEL_c42154ff8a2f404eb08875ac1452bf48",
            "value": "100%"
          }
        },
        "96107e8b7873420e9e0fc0c9eee73c59": {
          "model_module": "@jupyter-widgets/controls",
          "model_name": "FloatProgressModel",
          "model_module_version": "1.5.0",
          "state": {
            "_dom_classes": [],
            "_model_module": "@jupyter-widgets/controls",
            "_model_module_version": "1.5.0",
            "_model_name": "FloatProgressModel",
            "_view_count": null,
            "_view_module": "@jupyter-widgets/controls",
            "_view_module_version": "1.5.0",
            "_view_name": "ProgressView",
            "bar_style": "success",
            "description": "",
            "description_tooltip": null,
            "layout": "IPY_MODEL_289b9c04e986484480f6246927355048",
            "max": 3,
            "min": 0,
            "orientation": "horizontal",
            "style": "IPY_MODEL_7650226dfb1a421da4ba179c053e6dff",
            "value": 3
          }
        },
        "7f0f5d1c660e43d1ae00b0e830f2e607": {
          "model_module": "@jupyter-widgets/controls",
          "model_name": "HTMLModel",
          "model_module_version": "1.5.0",
          "state": {
            "_dom_classes": [],
            "_model_module": "@jupyter-widgets/controls",
            "_model_module_version": "1.5.0",
            "_model_name": "HTMLModel",
            "_view_count": null,
            "_view_module": "@jupyter-widgets/controls",
            "_view_module_version": "1.5.0",
            "_view_name": "HTMLView",
            "description": "",
            "description_tooltip": null,
            "layout": "IPY_MODEL_2ef2952d670d41549747f7a1bf20331a",
            "placeholder": "​",
            "style": "IPY_MODEL_9141b2bb649c44e4b61184e7c658fefa",
            "value": " 3/3 [00:00&lt;00:00, 131.64it/s]"
          }
        },
        "04b7851c01b7478b8cb89264ab884d7d": {
          "model_module": "@jupyter-widgets/base",
          "model_name": "LayoutModel",
          "model_module_version": "1.2.0",
          "state": {
            "_model_module": "@jupyter-widgets/base",
            "_model_module_version": "1.2.0",
            "_model_name": "LayoutModel",
            "_view_count": null,
            "_view_module": "@jupyter-widgets/base",
            "_view_module_version": "1.2.0",
            "_view_name": "LayoutView",
            "align_content": null,
            "align_items": null,
            "align_self": null,
            "border": null,
            "bottom": null,
            "display": null,
            "flex": null,
            "flex_flow": null,
            "grid_area": null,
            "grid_auto_columns": null,
            "grid_auto_flow": null,
            "grid_auto_rows": null,
            "grid_column": null,
            "grid_gap": null,
            "grid_row": null,
            "grid_template_areas": null,
            "grid_template_columns": null,
            "grid_template_rows": null,
            "height": null,
            "justify_content": null,
            "justify_items": null,
            "left": null,
            "margin": null,
            "max_height": null,
            "max_width": null,
            "min_height": null,
            "min_width": null,
            "object_fit": null,
            "object_position": null,
            "order": null,
            "overflow": null,
            "overflow_x": null,
            "overflow_y": null,
            "padding": null,
            "right": null,
            "top": null,
            "visibility": null,
            "width": null
          }
        },
        "c5f2d740b0ec430095f99382e48641af": {
          "model_module": "@jupyter-widgets/base",
          "model_name": "LayoutModel",
          "model_module_version": "1.2.0",
          "state": {
            "_model_module": "@jupyter-widgets/base",
            "_model_module_version": "1.2.0",
            "_model_name": "LayoutModel",
            "_view_count": null,
            "_view_module": "@jupyter-widgets/base",
            "_view_module_version": "1.2.0",
            "_view_name": "LayoutView",
            "align_content": null,
            "align_items": null,
            "align_self": null,
            "border": null,
            "bottom": null,
            "display": null,
            "flex": null,
            "flex_flow": null,
            "grid_area": null,
            "grid_auto_columns": null,
            "grid_auto_flow": null,
            "grid_auto_rows": null,
            "grid_column": null,
            "grid_gap": null,
            "grid_row": null,
            "grid_template_areas": null,
            "grid_template_columns": null,
            "grid_template_rows": null,
            "height": null,
            "justify_content": null,
            "justify_items": null,
            "left": null,
            "margin": null,
            "max_height": null,
            "max_width": null,
            "min_height": null,
            "min_width": null,
            "object_fit": null,
            "object_position": null,
            "order": null,
            "overflow": null,
            "overflow_x": null,
            "overflow_y": null,
            "padding": null,
            "right": null,
            "top": null,
            "visibility": null,
            "width": null
          }
        },
        "c42154ff8a2f404eb08875ac1452bf48": {
          "model_module": "@jupyter-widgets/controls",
          "model_name": "DescriptionStyleModel",
          "model_module_version": "1.5.0",
          "state": {
            "_model_module": "@jupyter-widgets/controls",
            "_model_module_version": "1.5.0",
            "_model_name": "DescriptionStyleModel",
            "_view_count": null,
            "_view_module": "@jupyter-widgets/base",
            "_view_module_version": "1.2.0",
            "_view_name": "StyleView",
            "description_width": ""
          }
        },
        "289b9c04e986484480f6246927355048": {
          "model_module": "@jupyter-widgets/base",
          "model_name": "LayoutModel",
          "model_module_version": "1.2.0",
          "state": {
            "_model_module": "@jupyter-widgets/base",
            "_model_module_version": "1.2.0",
            "_model_name": "LayoutModel",
            "_view_count": null,
            "_view_module": "@jupyter-widgets/base",
            "_view_module_version": "1.2.0",
            "_view_name": "LayoutView",
            "align_content": null,
            "align_items": null,
            "align_self": null,
            "border": null,
            "bottom": null,
            "display": null,
            "flex": null,
            "flex_flow": null,
            "grid_area": null,
            "grid_auto_columns": null,
            "grid_auto_flow": null,
            "grid_auto_rows": null,
            "grid_column": null,
            "grid_gap": null,
            "grid_row": null,
            "grid_template_areas": null,
            "grid_template_columns": null,
            "grid_template_rows": null,
            "height": null,
            "justify_content": null,
            "justify_items": null,
            "left": null,
            "margin": null,
            "max_height": null,
            "max_width": null,
            "min_height": null,
            "min_width": null,
            "object_fit": null,
            "object_position": null,
            "order": null,
            "overflow": null,
            "overflow_x": null,
            "overflow_y": null,
            "padding": null,
            "right": null,
            "top": null,
            "visibility": null,
            "width": null
          }
        },
        "7650226dfb1a421da4ba179c053e6dff": {
          "model_module": "@jupyter-widgets/controls",
          "model_name": "ProgressStyleModel",
          "model_module_version": "1.5.0",
          "state": {
            "_model_module": "@jupyter-widgets/controls",
            "_model_module_version": "1.5.0",
            "_model_name": "ProgressStyleModel",
            "_view_count": null,
            "_view_module": "@jupyter-widgets/base",
            "_view_module_version": "1.2.0",
            "_view_name": "StyleView",
            "bar_color": null,
            "description_width": ""
          }
        },
        "2ef2952d670d41549747f7a1bf20331a": {
          "model_module": "@jupyter-widgets/base",
          "model_name": "LayoutModel",
          "model_module_version": "1.2.0",
          "state": {
            "_model_module": "@jupyter-widgets/base",
            "_model_module_version": "1.2.0",
            "_model_name": "LayoutModel",
            "_view_count": null,
            "_view_module": "@jupyter-widgets/base",
            "_view_module_version": "1.2.0",
            "_view_name": "LayoutView",
            "align_content": null,
            "align_items": null,
            "align_self": null,
            "border": null,
            "bottom": null,
            "display": null,
            "flex": null,
            "flex_flow": null,
            "grid_area": null,
            "grid_auto_columns": null,
            "grid_auto_flow": null,
            "grid_auto_rows": null,
            "grid_column": null,
            "grid_gap": null,
            "grid_row": null,
            "grid_template_areas": null,
            "grid_template_columns": null,
            "grid_template_rows": null,
            "height": null,
            "justify_content": null,
            "justify_items": null,
            "left": null,
            "margin": null,
            "max_height": null,
            "max_width": null,
            "min_height": null,
            "min_width": null,
            "object_fit": null,
            "object_position": null,
            "order": null,
            "overflow": null,
            "overflow_x": null,
            "overflow_y": null,
            "padding": null,
            "right": null,
            "top": null,
            "visibility": null,
            "width": null
          }
        },
        "9141b2bb649c44e4b61184e7c658fefa": {
          "model_module": "@jupyter-widgets/controls",
          "model_name": "DescriptionStyleModel",
          "model_module_version": "1.5.0",
          "state": {
            "_model_module": "@jupyter-widgets/controls",
            "_model_module_version": "1.5.0",
            "_model_name": "DescriptionStyleModel",
            "_view_count": null,
            "_view_module": "@jupyter-widgets/base",
            "_view_module_version": "1.2.0",
            "_view_name": "StyleView",
            "description_width": ""
          }
        },
        "529d5d44455a4d26b886aff381cf7dd1": {
          "model_module": "@jupyter-widgets/controls",
          "model_name": "HBoxModel",
          "model_module_version": "1.5.0",
          "state": {
            "_dom_classes": [],
            "_model_module": "@jupyter-widgets/controls",
            "_model_module_version": "1.5.0",
            "_model_name": "HBoxModel",
            "_view_count": null,
            "_view_module": "@jupyter-widgets/controls",
            "_view_module_version": "1.5.0",
            "_view_name": "HBoxView",
            "box_style": "",
            "children": [
              "IPY_MODEL_d216f7f52cf24c2a86b0360874f1aacb",
              "IPY_MODEL_f47f1030cd364faa90cfad97df643af1",
              "IPY_MODEL_b9e04301646b434fba5cd133ffaada8a"
            ],
            "layout": "IPY_MODEL_dd442eb073ed403986ecf3a574d1a0f2"
          }
        },
        "d216f7f52cf24c2a86b0360874f1aacb": {
          "model_module": "@jupyter-widgets/controls",
          "model_name": "HTMLModel",
          "model_module_version": "1.5.0",
          "state": {
            "_dom_classes": [],
            "_model_module": "@jupyter-widgets/controls",
            "_model_module_version": "1.5.0",
            "_model_name": "HTMLModel",
            "_view_count": null,
            "_view_module": "@jupyter-widgets/controls",
            "_view_module_version": "1.5.0",
            "_view_name": "HTMLView",
            "description": "",
            "description_tooltip": null,
            "layout": "IPY_MODEL_d15bd312b6ff446bb2d4f74b5d39fa2c",
            "placeholder": "​",
            "style": "IPY_MODEL_461f7863fd6f423da08b4dc57c4a17fb",
            "value": "Downloading data files: 100%"
          }
        },
        "f47f1030cd364faa90cfad97df643af1": {
          "model_module": "@jupyter-widgets/controls",
          "model_name": "FloatProgressModel",
          "model_module_version": "1.5.0",
          "state": {
            "_dom_classes": [],
            "_model_module": "@jupyter-widgets/controls",
            "_model_module_version": "1.5.0",
            "_model_name": "FloatProgressModel",
            "_view_count": null,
            "_view_module": "@jupyter-widgets/controls",
            "_view_module_version": "1.5.0",
            "_view_name": "ProgressView",
            "bar_style": "success",
            "description": "",
            "description_tooltip": null,
            "layout": "IPY_MODEL_aa7ebf691d904a54a1a2e069d22fb8a2",
            "max": 1,
            "min": 0,
            "orientation": "horizontal",
            "style": "IPY_MODEL_9dcca76a79dd4f49a43ba8ede108e103",
            "value": 1
          }
        },
        "b9e04301646b434fba5cd133ffaada8a": {
          "model_module": "@jupyter-widgets/controls",
          "model_name": "HTMLModel",
          "model_module_version": "1.5.0",
          "state": {
            "_dom_classes": [],
            "_model_module": "@jupyter-widgets/controls",
            "_model_module_version": "1.5.0",
            "_model_name": "HTMLModel",
            "_view_count": null,
            "_view_module": "@jupyter-widgets/controls",
            "_view_module_version": "1.5.0",
            "_view_name": "HTMLView",
            "description": "",
            "description_tooltip": null,
            "layout": "IPY_MODEL_6d4c0c4f8c154bfdb61ec228a563033b",
            "placeholder": "​",
            "style": "IPY_MODEL_8766000a878b4e659bd3002bf34788b3",
            "value": " 1/1 [00:00&lt;00:00, 48.28it/s]"
          }
        },
        "dd442eb073ed403986ecf3a574d1a0f2": {
          "model_module": "@jupyter-widgets/base",
          "model_name": "LayoutModel",
          "model_module_version": "1.2.0",
          "state": {
            "_model_module": "@jupyter-widgets/base",
            "_model_module_version": "1.2.0",
            "_model_name": "LayoutModel",
            "_view_count": null,
            "_view_module": "@jupyter-widgets/base",
            "_view_module_version": "1.2.0",
            "_view_name": "LayoutView",
            "align_content": null,
            "align_items": null,
            "align_self": null,
            "border": null,
            "bottom": null,
            "display": null,
            "flex": null,
            "flex_flow": null,
            "grid_area": null,
            "grid_auto_columns": null,
            "grid_auto_flow": null,
            "grid_auto_rows": null,
            "grid_column": null,
            "grid_gap": null,
            "grid_row": null,
            "grid_template_areas": null,
            "grid_template_columns": null,
            "grid_template_rows": null,
            "height": null,
            "justify_content": null,
            "justify_items": null,
            "left": null,
            "margin": null,
            "max_height": null,
            "max_width": null,
            "min_height": null,
            "min_width": null,
            "object_fit": null,
            "object_position": null,
            "order": null,
            "overflow": null,
            "overflow_x": null,
            "overflow_y": null,
            "padding": null,
            "right": null,
            "top": null,
            "visibility": null,
            "width": null
          }
        },
        "d15bd312b6ff446bb2d4f74b5d39fa2c": {
          "model_module": "@jupyter-widgets/base",
          "model_name": "LayoutModel",
          "model_module_version": "1.2.0",
          "state": {
            "_model_module": "@jupyter-widgets/base",
            "_model_module_version": "1.2.0",
            "_model_name": "LayoutModel",
            "_view_count": null,
            "_view_module": "@jupyter-widgets/base",
            "_view_module_version": "1.2.0",
            "_view_name": "LayoutView",
            "align_content": null,
            "align_items": null,
            "align_self": null,
            "border": null,
            "bottom": null,
            "display": null,
            "flex": null,
            "flex_flow": null,
            "grid_area": null,
            "grid_auto_columns": null,
            "grid_auto_flow": null,
            "grid_auto_rows": null,
            "grid_column": null,
            "grid_gap": null,
            "grid_row": null,
            "grid_template_areas": null,
            "grid_template_columns": null,
            "grid_template_rows": null,
            "height": null,
            "justify_content": null,
            "justify_items": null,
            "left": null,
            "margin": null,
            "max_height": null,
            "max_width": null,
            "min_height": null,
            "min_width": null,
            "object_fit": null,
            "object_position": null,
            "order": null,
            "overflow": null,
            "overflow_x": null,
            "overflow_y": null,
            "padding": null,
            "right": null,
            "top": null,
            "visibility": null,
            "width": null
          }
        },
        "461f7863fd6f423da08b4dc57c4a17fb": {
          "model_module": "@jupyter-widgets/controls",
          "model_name": "DescriptionStyleModel",
          "model_module_version": "1.5.0",
          "state": {
            "_model_module": "@jupyter-widgets/controls",
            "_model_module_version": "1.5.0",
            "_model_name": "DescriptionStyleModel",
            "_view_count": null,
            "_view_module": "@jupyter-widgets/base",
            "_view_module_version": "1.2.0",
            "_view_name": "StyleView",
            "description_width": ""
          }
        },
        "aa7ebf691d904a54a1a2e069d22fb8a2": {
          "model_module": "@jupyter-widgets/base",
          "model_name": "LayoutModel",
          "model_module_version": "1.2.0",
          "state": {
            "_model_module": "@jupyter-widgets/base",
            "_model_module_version": "1.2.0",
            "_model_name": "LayoutModel",
            "_view_count": null,
            "_view_module": "@jupyter-widgets/base",
            "_view_module_version": "1.2.0",
            "_view_name": "LayoutView",
            "align_content": null,
            "align_items": null,
            "align_self": null,
            "border": null,
            "bottom": null,
            "display": null,
            "flex": null,
            "flex_flow": null,
            "grid_area": null,
            "grid_auto_columns": null,
            "grid_auto_flow": null,
            "grid_auto_rows": null,
            "grid_column": null,
            "grid_gap": null,
            "grid_row": null,
            "grid_template_areas": null,
            "grid_template_columns": null,
            "grid_template_rows": null,
            "height": null,
            "justify_content": null,
            "justify_items": null,
            "left": null,
            "margin": null,
            "max_height": null,
            "max_width": null,
            "min_height": null,
            "min_width": null,
            "object_fit": null,
            "object_position": null,
            "order": null,
            "overflow": null,
            "overflow_x": null,
            "overflow_y": null,
            "padding": null,
            "right": null,
            "top": null,
            "visibility": null,
            "width": null
          }
        },
        "9dcca76a79dd4f49a43ba8ede108e103": {
          "model_module": "@jupyter-widgets/controls",
          "model_name": "ProgressStyleModel",
          "model_module_version": "1.5.0",
          "state": {
            "_model_module": "@jupyter-widgets/controls",
            "_model_module_version": "1.5.0",
            "_model_name": "ProgressStyleModel",
            "_view_count": null,
            "_view_module": "@jupyter-widgets/base",
            "_view_module_version": "1.2.0",
            "_view_name": "StyleView",
            "bar_color": null,
            "description_width": ""
          }
        },
        "6d4c0c4f8c154bfdb61ec228a563033b": {
          "model_module": "@jupyter-widgets/base",
          "model_name": "LayoutModel",
          "model_module_version": "1.2.0",
          "state": {
            "_model_module": "@jupyter-widgets/base",
            "_model_module_version": "1.2.0",
            "_model_name": "LayoutModel",
            "_view_count": null,
            "_view_module": "@jupyter-widgets/base",
            "_view_module_version": "1.2.0",
            "_view_name": "LayoutView",
            "align_content": null,
            "align_items": null,
            "align_self": null,
            "border": null,
            "bottom": null,
            "display": null,
            "flex": null,
            "flex_flow": null,
            "grid_area": null,
            "grid_auto_columns": null,
            "grid_auto_flow": null,
            "grid_auto_rows": null,
            "grid_column": null,
            "grid_gap": null,
            "grid_row": null,
            "grid_template_areas": null,
            "grid_template_columns": null,
            "grid_template_rows": null,
            "height": null,
            "justify_content": null,
            "justify_items": null,
            "left": null,
            "margin": null,
            "max_height": null,
            "max_width": null,
            "min_height": null,
            "min_width": null,
            "object_fit": null,
            "object_position": null,
            "order": null,
            "overflow": null,
            "overflow_x": null,
            "overflow_y": null,
            "padding": null,
            "right": null,
            "top": null,
            "visibility": null,
            "width": null
          }
        },
        "8766000a878b4e659bd3002bf34788b3": {
          "model_module": "@jupyter-widgets/controls",
          "model_name": "DescriptionStyleModel",
          "model_module_version": "1.5.0",
          "state": {
            "_model_module": "@jupyter-widgets/controls",
            "_model_module_version": "1.5.0",
            "_model_name": "DescriptionStyleModel",
            "_view_count": null,
            "_view_module": "@jupyter-widgets/base",
            "_view_module_version": "1.2.0",
            "_view_name": "StyleView",
            "description_width": ""
          }
        },
        "a86bdf64faf846e1916849504205abfb": {
          "model_module": "@jupyter-widgets/controls",
          "model_name": "HBoxModel",
          "model_module_version": "1.5.0",
          "state": {
            "_dom_classes": [],
            "_model_module": "@jupyter-widgets/controls",
            "_model_module_version": "1.5.0",
            "_model_name": "HBoxModel",
            "_view_count": null,
            "_view_module": "@jupyter-widgets/controls",
            "_view_module_version": "1.5.0",
            "_view_name": "HBoxView",
            "box_style": "",
            "children": [
              "IPY_MODEL_bc8174f3af8e497a8db3cd4873be0f3a",
              "IPY_MODEL_ce42f0c5fc5c4037abc94044d9f5e3b8",
              "IPY_MODEL_2b0f4bcab3c4433a8d32207233068230"
            ],
            "layout": "IPY_MODEL_41a5a9c7d2bd4806a391f05cae5d6142"
          }
        },
        "bc8174f3af8e497a8db3cd4873be0f3a": {
          "model_module": "@jupyter-widgets/controls",
          "model_name": "HTMLModel",
          "model_module_version": "1.5.0",
          "state": {
            "_dom_classes": [],
            "_model_module": "@jupyter-widgets/controls",
            "_model_module_version": "1.5.0",
            "_model_name": "HTMLModel",
            "_view_count": null,
            "_view_module": "@jupyter-widgets/controls",
            "_view_module_version": "1.5.0",
            "_view_name": "HTMLView",
            "description": "",
            "description_tooltip": null,
            "layout": "IPY_MODEL_e256ebf6008a4cf4a99adfdaf6862593",
            "placeholder": "​",
            "style": "IPY_MODEL_4f09f1376cdb42f480a9e0f0b6d16ace",
            "value": "Extracting data files: 100%"
          }
        },
        "ce42f0c5fc5c4037abc94044d9f5e3b8": {
          "model_module": "@jupyter-widgets/controls",
          "model_name": "FloatProgressModel",
          "model_module_version": "1.5.0",
          "state": {
            "_dom_classes": [],
            "_model_module": "@jupyter-widgets/controls",
            "_model_module_version": "1.5.0",
            "_model_name": "FloatProgressModel",
            "_view_count": null,
            "_view_module": "@jupyter-widgets/controls",
            "_view_module_version": "1.5.0",
            "_view_name": "ProgressView",
            "bar_style": "success",
            "description": "",
            "description_tooltip": null,
            "layout": "IPY_MODEL_f361e6794d3a4f23ba235c241aac7a22",
            "max": 1,
            "min": 0,
            "orientation": "horizontal",
            "style": "IPY_MODEL_8c3bf7efff0c4d92982b7c55f1a99852",
            "value": 1
          }
        },
        "2b0f4bcab3c4433a8d32207233068230": {
          "model_module": "@jupyter-widgets/controls",
          "model_name": "HTMLModel",
          "model_module_version": "1.5.0",
          "state": {
            "_dom_classes": [],
            "_model_module": "@jupyter-widgets/controls",
            "_model_module_version": "1.5.0",
            "_model_name": "HTMLModel",
            "_view_count": null,
            "_view_module": "@jupyter-widgets/controls",
            "_view_module_version": "1.5.0",
            "_view_name": "HTMLView",
            "description": "",
            "description_tooltip": null,
            "layout": "IPY_MODEL_2cbf605a2d31433a93bf6e8669b56b2f",
            "placeholder": "​",
            "style": "IPY_MODEL_15cc31b5ccc7453b9707def992c64a64",
            "value": " 1/1 [00:00&lt;00:00, 51.98it/s]"
          }
        },
        "41a5a9c7d2bd4806a391f05cae5d6142": {
          "model_module": "@jupyter-widgets/base",
          "model_name": "LayoutModel",
          "model_module_version": "1.2.0",
          "state": {
            "_model_module": "@jupyter-widgets/base",
            "_model_module_version": "1.2.0",
            "_model_name": "LayoutModel",
            "_view_count": null,
            "_view_module": "@jupyter-widgets/base",
            "_view_module_version": "1.2.0",
            "_view_name": "LayoutView",
            "align_content": null,
            "align_items": null,
            "align_self": null,
            "border": null,
            "bottom": null,
            "display": null,
            "flex": null,
            "flex_flow": null,
            "grid_area": null,
            "grid_auto_columns": null,
            "grid_auto_flow": null,
            "grid_auto_rows": null,
            "grid_column": null,
            "grid_gap": null,
            "grid_row": null,
            "grid_template_areas": null,
            "grid_template_columns": null,
            "grid_template_rows": null,
            "height": null,
            "justify_content": null,
            "justify_items": null,
            "left": null,
            "margin": null,
            "max_height": null,
            "max_width": null,
            "min_height": null,
            "min_width": null,
            "object_fit": null,
            "object_position": null,
            "order": null,
            "overflow": null,
            "overflow_x": null,
            "overflow_y": null,
            "padding": null,
            "right": null,
            "top": null,
            "visibility": null,
            "width": null
          }
        },
        "e256ebf6008a4cf4a99adfdaf6862593": {
          "model_module": "@jupyter-widgets/base",
          "model_name": "LayoutModel",
          "model_module_version": "1.2.0",
          "state": {
            "_model_module": "@jupyter-widgets/base",
            "_model_module_version": "1.2.0",
            "_model_name": "LayoutModel",
            "_view_count": null,
            "_view_module": "@jupyter-widgets/base",
            "_view_module_version": "1.2.0",
            "_view_name": "LayoutView",
            "align_content": null,
            "align_items": null,
            "align_self": null,
            "border": null,
            "bottom": null,
            "display": null,
            "flex": null,
            "flex_flow": null,
            "grid_area": null,
            "grid_auto_columns": null,
            "grid_auto_flow": null,
            "grid_auto_rows": null,
            "grid_column": null,
            "grid_gap": null,
            "grid_row": null,
            "grid_template_areas": null,
            "grid_template_columns": null,
            "grid_template_rows": null,
            "height": null,
            "justify_content": null,
            "justify_items": null,
            "left": null,
            "margin": null,
            "max_height": null,
            "max_width": null,
            "min_height": null,
            "min_width": null,
            "object_fit": null,
            "object_position": null,
            "order": null,
            "overflow": null,
            "overflow_x": null,
            "overflow_y": null,
            "padding": null,
            "right": null,
            "top": null,
            "visibility": null,
            "width": null
          }
        },
        "4f09f1376cdb42f480a9e0f0b6d16ace": {
          "model_module": "@jupyter-widgets/controls",
          "model_name": "DescriptionStyleModel",
          "model_module_version": "1.5.0",
          "state": {
            "_model_module": "@jupyter-widgets/controls",
            "_model_module_version": "1.5.0",
            "_model_name": "DescriptionStyleModel",
            "_view_count": null,
            "_view_module": "@jupyter-widgets/base",
            "_view_module_version": "1.2.0",
            "_view_name": "StyleView",
            "description_width": ""
          }
        },
        "f361e6794d3a4f23ba235c241aac7a22": {
          "model_module": "@jupyter-widgets/base",
          "model_name": "LayoutModel",
          "model_module_version": "1.2.0",
          "state": {
            "_model_module": "@jupyter-widgets/base",
            "_model_module_version": "1.2.0",
            "_model_name": "LayoutModel",
            "_view_count": null,
            "_view_module": "@jupyter-widgets/base",
            "_view_module_version": "1.2.0",
            "_view_name": "LayoutView",
            "align_content": null,
            "align_items": null,
            "align_self": null,
            "border": null,
            "bottom": null,
            "display": null,
            "flex": null,
            "flex_flow": null,
            "grid_area": null,
            "grid_auto_columns": null,
            "grid_auto_flow": null,
            "grid_auto_rows": null,
            "grid_column": null,
            "grid_gap": null,
            "grid_row": null,
            "grid_template_areas": null,
            "grid_template_columns": null,
            "grid_template_rows": null,
            "height": null,
            "justify_content": null,
            "justify_items": null,
            "left": null,
            "margin": null,
            "max_height": null,
            "max_width": null,
            "min_height": null,
            "min_width": null,
            "object_fit": null,
            "object_position": null,
            "order": null,
            "overflow": null,
            "overflow_x": null,
            "overflow_y": null,
            "padding": null,
            "right": null,
            "top": null,
            "visibility": null,
            "width": null
          }
        },
        "8c3bf7efff0c4d92982b7c55f1a99852": {
          "model_module": "@jupyter-widgets/controls",
          "model_name": "ProgressStyleModel",
          "model_module_version": "1.5.0",
          "state": {
            "_model_module": "@jupyter-widgets/controls",
            "_model_module_version": "1.5.0",
            "_model_name": "ProgressStyleModel",
            "_view_count": null,
            "_view_module": "@jupyter-widgets/base",
            "_view_module_version": "1.2.0",
            "_view_name": "StyleView",
            "bar_color": null,
            "description_width": ""
          }
        },
        "2cbf605a2d31433a93bf6e8669b56b2f": {
          "model_module": "@jupyter-widgets/base",
          "model_name": "LayoutModel",
          "model_module_version": "1.2.0",
          "state": {
            "_model_module": "@jupyter-widgets/base",
            "_model_module_version": "1.2.0",
            "_model_name": "LayoutModel",
            "_view_count": null,
            "_view_module": "@jupyter-widgets/base",
            "_view_module_version": "1.2.0",
            "_view_name": "LayoutView",
            "align_content": null,
            "align_items": null,
            "align_self": null,
            "border": null,
            "bottom": null,
            "display": null,
            "flex": null,
            "flex_flow": null,
            "grid_area": null,
            "grid_auto_columns": null,
            "grid_auto_flow": null,
            "grid_auto_rows": null,
            "grid_column": null,
            "grid_gap": null,
            "grid_row": null,
            "grid_template_areas": null,
            "grid_template_columns": null,
            "grid_template_rows": null,
            "height": null,
            "justify_content": null,
            "justify_items": null,
            "left": null,
            "margin": null,
            "max_height": null,
            "max_width": null,
            "min_height": null,
            "min_width": null,
            "object_fit": null,
            "object_position": null,
            "order": null,
            "overflow": null,
            "overflow_x": null,
            "overflow_y": null,
            "padding": null,
            "right": null,
            "top": null,
            "visibility": null,
            "width": null
          }
        },
        "15cc31b5ccc7453b9707def992c64a64": {
          "model_module": "@jupyter-widgets/controls",
          "model_name": "DescriptionStyleModel",
          "model_module_version": "1.5.0",
          "state": {
            "_model_module": "@jupyter-widgets/controls",
            "_model_module_version": "1.5.0",
            "_model_name": "DescriptionStyleModel",
            "_view_count": null,
            "_view_module": "@jupyter-widgets/base",
            "_view_module_version": "1.2.0",
            "_view_name": "StyleView",
            "description_width": ""
          }
        },
        "4895cc7095684e0c80bc6df00fb0aebe": {
          "model_module": "@jupyter-widgets/controls",
          "model_name": "HBoxModel",
          "model_module_version": "1.5.0",
          "state": {
            "_dom_classes": [],
            "_model_module": "@jupyter-widgets/controls",
            "_model_module_version": "1.5.0",
            "_model_name": "HBoxModel",
            "_view_count": null,
            "_view_module": "@jupyter-widgets/controls",
            "_view_module_version": "1.5.0",
            "_view_name": "HBoxView",
            "box_style": "",
            "children": [
              "IPY_MODEL_57875584af1b4b819046f115d86fc52e",
              "IPY_MODEL_b0ff2659728447ce935bd0a0b2c7d251",
              "IPY_MODEL_a078019ca7104a1193366033131f15e8"
            ],
            "layout": "IPY_MODEL_705346c827064e939deff339edd90de5"
          }
        },
        "57875584af1b4b819046f115d86fc52e": {
          "model_module": "@jupyter-widgets/controls",
          "model_name": "HTMLModel",
          "model_module_version": "1.5.0",
          "state": {
            "_dom_classes": [],
            "_model_module": "@jupyter-widgets/controls",
            "_model_module_version": "1.5.0",
            "_model_name": "HTMLModel",
            "_view_count": null,
            "_view_module": "@jupyter-widgets/controls",
            "_view_module_version": "1.5.0",
            "_view_name": "HTMLView",
            "description": "",
            "description_tooltip": null,
            "layout": "IPY_MODEL_678f9ec589b64d6db0e9399cc9746077",
            "placeholder": "​",
            "style": "IPY_MODEL_be188769778747f4bfe9ac224463076c",
            "value": ""
          }
        },
        "b0ff2659728447ce935bd0a0b2c7d251": {
          "model_module": "@jupyter-widgets/controls",
          "model_name": "FloatProgressModel",
          "model_module_version": "1.5.0",
          "state": {
            "_dom_classes": [],
            "_model_module": "@jupyter-widgets/controls",
            "_model_module_version": "1.5.0",
            "_model_name": "FloatProgressModel",
            "_view_count": null,
            "_view_module": "@jupyter-widgets/controls",
            "_view_module_version": "1.5.0",
            "_view_name": "ProgressView",
            "bar_style": "info",
            "description": "",
            "description_tooltip": null,
            "layout": "IPY_MODEL_618b429764e84a2c948006e8053fdc44",
            "max": 1,
            "min": 0,
            "orientation": "horizontal",
            "style": "IPY_MODEL_399922fa48ef459aab8b048098e56cc9",
            "value": 1
          }
        },
        "a078019ca7104a1193366033131f15e8": {
          "model_module": "@jupyter-widgets/controls",
          "model_name": "HTMLModel",
          "model_module_version": "1.5.0",
          "state": {
            "_dom_classes": [],
            "_model_module": "@jupyter-widgets/controls",
            "_model_module_version": "1.5.0",
            "_model_name": "HTMLModel",
            "_view_count": null,
            "_view_module": "@jupyter-widgets/controls",
            "_view_module_version": "1.5.0",
            "_view_name": "HTMLView",
            "description": "",
            "description_tooltip": null,
            "layout": "IPY_MODEL_f56ff577e38d45b885201fe868cb95e5",
            "placeholder": "​",
            "style": "IPY_MODEL_9d825dc383fc405e85518b3346ca34fa",
            "value": " 0/? [00:00&lt;?, ? tables/s]"
          }
        },
        "705346c827064e939deff339edd90de5": {
          "model_module": "@jupyter-widgets/base",
          "model_name": "LayoutModel",
          "model_module_version": "1.2.0",
          "state": {
            "_model_module": "@jupyter-widgets/base",
            "_model_module_version": "1.2.0",
            "_model_name": "LayoutModel",
            "_view_count": null,
            "_view_module": "@jupyter-widgets/base",
            "_view_module_version": "1.2.0",
            "_view_name": "LayoutView",
            "align_content": null,
            "align_items": null,
            "align_self": null,
            "border": null,
            "bottom": null,
            "display": null,
            "flex": null,
            "flex_flow": null,
            "grid_area": null,
            "grid_auto_columns": null,
            "grid_auto_flow": null,
            "grid_auto_rows": null,
            "grid_column": null,
            "grid_gap": null,
            "grid_row": null,
            "grid_template_areas": null,
            "grid_template_columns": null,
            "grid_template_rows": null,
            "height": null,
            "justify_content": null,
            "justify_items": null,
            "left": null,
            "margin": null,
            "max_height": null,
            "max_width": null,
            "min_height": null,
            "min_width": null,
            "object_fit": null,
            "object_position": null,
            "order": null,
            "overflow": null,
            "overflow_x": null,
            "overflow_y": null,
            "padding": null,
            "right": null,
            "top": null,
            "visibility": null,
            "width": null
          }
        },
        "678f9ec589b64d6db0e9399cc9746077": {
          "model_module": "@jupyter-widgets/base",
          "model_name": "LayoutModel",
          "model_module_version": "1.2.0",
          "state": {
            "_model_module": "@jupyter-widgets/base",
            "_model_module_version": "1.2.0",
            "_model_name": "LayoutModel",
            "_view_count": null,
            "_view_module": "@jupyter-widgets/base",
            "_view_module_version": "1.2.0",
            "_view_name": "LayoutView",
            "align_content": null,
            "align_items": null,
            "align_self": null,
            "border": null,
            "bottom": null,
            "display": null,
            "flex": null,
            "flex_flow": null,
            "grid_area": null,
            "grid_auto_columns": null,
            "grid_auto_flow": null,
            "grid_auto_rows": null,
            "grid_column": null,
            "grid_gap": null,
            "grid_row": null,
            "grid_template_areas": null,
            "grid_template_columns": null,
            "grid_template_rows": null,
            "height": null,
            "justify_content": null,
            "justify_items": null,
            "left": null,
            "margin": null,
            "max_height": null,
            "max_width": null,
            "min_height": null,
            "min_width": null,
            "object_fit": null,
            "object_position": null,
            "order": null,
            "overflow": null,
            "overflow_x": null,
            "overflow_y": null,
            "padding": null,
            "right": null,
            "top": null,
            "visibility": null,
            "width": null
          }
        },
        "be188769778747f4bfe9ac224463076c": {
          "model_module": "@jupyter-widgets/controls",
          "model_name": "DescriptionStyleModel",
          "model_module_version": "1.5.0",
          "state": {
            "_model_module": "@jupyter-widgets/controls",
            "_model_module_version": "1.5.0",
            "_model_name": "DescriptionStyleModel",
            "_view_count": null,
            "_view_module": "@jupyter-widgets/base",
            "_view_module_version": "1.2.0",
            "_view_name": "StyleView",
            "description_width": ""
          }
        },
        "618b429764e84a2c948006e8053fdc44": {
          "model_module": "@jupyter-widgets/base",
          "model_name": "LayoutModel",
          "model_module_version": "1.2.0",
          "state": {
            "_model_module": "@jupyter-widgets/base",
            "_model_module_version": "1.2.0",
            "_model_name": "LayoutModel",
            "_view_count": null,
            "_view_module": "@jupyter-widgets/base",
            "_view_module_version": "1.2.0",
            "_view_name": "LayoutView",
            "align_content": null,
            "align_items": null,
            "align_self": null,
            "border": null,
            "bottom": null,
            "display": null,
            "flex": null,
            "flex_flow": null,
            "grid_area": null,
            "grid_auto_columns": null,
            "grid_auto_flow": null,
            "grid_auto_rows": null,
            "grid_column": null,
            "grid_gap": null,
            "grid_row": null,
            "grid_template_areas": null,
            "grid_template_columns": null,
            "grid_template_rows": null,
            "height": null,
            "justify_content": null,
            "justify_items": null,
            "left": null,
            "margin": null,
            "max_height": null,
            "max_width": null,
            "min_height": null,
            "min_width": null,
            "object_fit": null,
            "object_position": null,
            "order": null,
            "overflow": null,
            "overflow_x": null,
            "overflow_y": null,
            "padding": null,
            "right": null,
            "top": null,
            "visibility": null,
            "width": "20px"
          }
        },
        "399922fa48ef459aab8b048098e56cc9": {
          "model_module": "@jupyter-widgets/controls",
          "model_name": "ProgressStyleModel",
          "model_module_version": "1.5.0",
          "state": {
            "_model_module": "@jupyter-widgets/controls",
            "_model_module_version": "1.5.0",
            "_model_name": "ProgressStyleModel",
            "_view_count": null,
            "_view_module": "@jupyter-widgets/base",
            "_view_module_version": "1.2.0",
            "_view_name": "StyleView",
            "bar_color": null,
            "description_width": ""
          }
        },
        "f56ff577e38d45b885201fe868cb95e5": {
          "model_module": "@jupyter-widgets/base",
          "model_name": "LayoutModel",
          "model_module_version": "1.2.0",
          "state": {
            "_model_module": "@jupyter-widgets/base",
            "_model_module_version": "1.2.0",
            "_model_name": "LayoutModel",
            "_view_count": null,
            "_view_module": "@jupyter-widgets/base",
            "_view_module_version": "1.2.0",
            "_view_name": "LayoutView",
            "align_content": null,
            "align_items": null,
            "align_self": null,
            "border": null,
            "bottom": null,
            "display": null,
            "flex": null,
            "flex_flow": null,
            "grid_area": null,
            "grid_auto_columns": null,
            "grid_auto_flow": null,
            "grid_auto_rows": null,
            "grid_column": null,
            "grid_gap": null,
            "grid_row": null,
            "grid_template_areas": null,
            "grid_template_columns": null,
            "grid_template_rows": null,
            "height": null,
            "justify_content": null,
            "justify_items": null,
            "left": null,
            "margin": null,
            "max_height": null,
            "max_width": null,
            "min_height": null,
            "min_width": null,
            "object_fit": null,
            "object_position": null,
            "order": null,
            "overflow": null,
            "overflow_x": null,
            "overflow_y": null,
            "padding": null,
            "right": null,
            "top": null,
            "visibility": null,
            "width": null
          }
        },
        "9d825dc383fc405e85518b3346ca34fa": {
          "model_module": "@jupyter-widgets/controls",
          "model_name": "DescriptionStyleModel",
          "model_module_version": "1.5.0",
          "state": {
            "_model_module": "@jupyter-widgets/controls",
            "_model_module_version": "1.5.0",
            "_model_name": "DescriptionStyleModel",
            "_view_count": null,
            "_view_module": "@jupyter-widgets/base",
            "_view_module_version": "1.2.0",
            "_view_name": "StyleView",
            "description_width": ""
          }
        },
        "836a48e7fc134a1196553c6a3b1bdcc0": {
          "model_module": "@jupyter-widgets/controls",
          "model_name": "HBoxModel",
          "model_module_version": "1.5.0",
          "state": {
            "_dom_classes": [],
            "_model_module": "@jupyter-widgets/controls",
            "_model_module_version": "1.5.0",
            "_model_name": "HBoxModel",
            "_view_count": null,
            "_view_module": "@jupyter-widgets/controls",
            "_view_module_version": "1.5.0",
            "_view_name": "HBoxView",
            "box_style": "",
            "children": [
              "IPY_MODEL_efb59ebe6aa74d8fb73144e00dc91e2b",
              "IPY_MODEL_d730e7c55f4e48bd98797d35c3cd32ea",
              "IPY_MODEL_1a6a5b7785fe48d4a8f1f234c73aee88"
            ],
            "layout": "IPY_MODEL_87da061d0c7c4524aabbdaaf63faeb0e"
          }
        },
        "efb59ebe6aa74d8fb73144e00dc91e2b": {
          "model_module": "@jupyter-widgets/controls",
          "model_name": "HTMLModel",
          "model_module_version": "1.5.0",
          "state": {
            "_dom_classes": [],
            "_model_module": "@jupyter-widgets/controls",
            "_model_module_version": "1.5.0",
            "_model_name": "HTMLModel",
            "_view_count": null,
            "_view_module": "@jupyter-widgets/controls",
            "_view_module_version": "1.5.0",
            "_view_name": "HTMLView",
            "description": "",
            "description_tooltip": null,
            "layout": "IPY_MODEL_a623e5629afe45f4be19c62437ee284c",
            "placeholder": "​",
            "style": "IPY_MODEL_0fa9e4082c54425c9a2599f82c5e53a3",
            "value": "100%"
          }
        },
        "d730e7c55f4e48bd98797d35c3cd32ea": {
          "model_module": "@jupyter-widgets/controls",
          "model_name": "FloatProgressModel",
          "model_module_version": "1.5.0",
          "state": {
            "_dom_classes": [],
            "_model_module": "@jupyter-widgets/controls",
            "_model_module_version": "1.5.0",
            "_model_name": "FloatProgressModel",
            "_view_count": null,
            "_view_module": "@jupyter-widgets/controls",
            "_view_module_version": "1.5.0",
            "_view_name": "ProgressView",
            "bar_style": "success",
            "description": "",
            "description_tooltip": null,
            "layout": "IPY_MODEL_f3c5678e2d744b078f3600cd5d425288",
            "max": 1,
            "min": 0,
            "orientation": "horizontal",
            "style": "IPY_MODEL_483f84ffba094673a7c11e37c3c4ff2b",
            "value": 1
          }
        },
        "1a6a5b7785fe48d4a8f1f234c73aee88": {
          "model_module": "@jupyter-widgets/controls",
          "model_name": "HTMLModel",
          "model_module_version": "1.5.0",
          "state": {
            "_dom_classes": [],
            "_model_module": "@jupyter-widgets/controls",
            "_model_module_version": "1.5.0",
            "_model_name": "HTMLModel",
            "_view_count": null,
            "_view_module": "@jupyter-widgets/controls",
            "_view_module_version": "1.5.0",
            "_view_name": "HTMLView",
            "description": "",
            "description_tooltip": null,
            "layout": "IPY_MODEL_ad443d93c67f4d8ca621f2d42866fb9b",
            "placeholder": "​",
            "style": "IPY_MODEL_faf8dec618de4ddcbb9d378a8ac6f82d",
            "value": " 1/1 [00:00&lt;00:00, 52.39it/s]"
          }
        },
        "87da061d0c7c4524aabbdaaf63faeb0e": {
          "model_module": "@jupyter-widgets/base",
          "model_name": "LayoutModel",
          "model_module_version": "1.2.0",
          "state": {
            "_model_module": "@jupyter-widgets/base",
            "_model_module_version": "1.2.0",
            "_model_name": "LayoutModel",
            "_view_count": null,
            "_view_module": "@jupyter-widgets/base",
            "_view_module_version": "1.2.0",
            "_view_name": "LayoutView",
            "align_content": null,
            "align_items": null,
            "align_self": null,
            "border": null,
            "bottom": null,
            "display": null,
            "flex": null,
            "flex_flow": null,
            "grid_area": null,
            "grid_auto_columns": null,
            "grid_auto_flow": null,
            "grid_auto_rows": null,
            "grid_column": null,
            "grid_gap": null,
            "grid_row": null,
            "grid_template_areas": null,
            "grid_template_columns": null,
            "grid_template_rows": null,
            "height": null,
            "justify_content": null,
            "justify_items": null,
            "left": null,
            "margin": null,
            "max_height": null,
            "max_width": null,
            "min_height": null,
            "min_width": null,
            "object_fit": null,
            "object_position": null,
            "order": null,
            "overflow": null,
            "overflow_x": null,
            "overflow_y": null,
            "padding": null,
            "right": null,
            "top": null,
            "visibility": null,
            "width": null
          }
        },
        "a623e5629afe45f4be19c62437ee284c": {
          "model_module": "@jupyter-widgets/base",
          "model_name": "LayoutModel",
          "model_module_version": "1.2.0",
          "state": {
            "_model_module": "@jupyter-widgets/base",
            "_model_module_version": "1.2.0",
            "_model_name": "LayoutModel",
            "_view_count": null,
            "_view_module": "@jupyter-widgets/base",
            "_view_module_version": "1.2.0",
            "_view_name": "LayoutView",
            "align_content": null,
            "align_items": null,
            "align_self": null,
            "border": null,
            "bottom": null,
            "display": null,
            "flex": null,
            "flex_flow": null,
            "grid_area": null,
            "grid_auto_columns": null,
            "grid_auto_flow": null,
            "grid_auto_rows": null,
            "grid_column": null,
            "grid_gap": null,
            "grid_row": null,
            "grid_template_areas": null,
            "grid_template_columns": null,
            "grid_template_rows": null,
            "height": null,
            "justify_content": null,
            "justify_items": null,
            "left": null,
            "margin": null,
            "max_height": null,
            "max_width": null,
            "min_height": null,
            "min_width": null,
            "object_fit": null,
            "object_position": null,
            "order": null,
            "overflow": null,
            "overflow_x": null,
            "overflow_y": null,
            "padding": null,
            "right": null,
            "top": null,
            "visibility": null,
            "width": null
          }
        },
        "0fa9e4082c54425c9a2599f82c5e53a3": {
          "model_module": "@jupyter-widgets/controls",
          "model_name": "DescriptionStyleModel",
          "model_module_version": "1.5.0",
          "state": {
            "_model_module": "@jupyter-widgets/controls",
            "_model_module_version": "1.5.0",
            "_model_name": "DescriptionStyleModel",
            "_view_count": null,
            "_view_module": "@jupyter-widgets/base",
            "_view_module_version": "1.2.0",
            "_view_name": "StyleView",
            "description_width": ""
          }
        },
        "f3c5678e2d744b078f3600cd5d425288": {
          "model_module": "@jupyter-widgets/base",
          "model_name": "LayoutModel",
          "model_module_version": "1.2.0",
          "state": {
            "_model_module": "@jupyter-widgets/base",
            "_model_module_version": "1.2.0",
            "_model_name": "LayoutModel",
            "_view_count": null,
            "_view_module": "@jupyter-widgets/base",
            "_view_module_version": "1.2.0",
            "_view_name": "LayoutView",
            "align_content": null,
            "align_items": null,
            "align_self": null,
            "border": null,
            "bottom": null,
            "display": null,
            "flex": null,
            "flex_flow": null,
            "grid_area": null,
            "grid_auto_columns": null,
            "grid_auto_flow": null,
            "grid_auto_rows": null,
            "grid_column": null,
            "grid_gap": null,
            "grid_row": null,
            "grid_template_areas": null,
            "grid_template_columns": null,
            "grid_template_rows": null,
            "height": null,
            "justify_content": null,
            "justify_items": null,
            "left": null,
            "margin": null,
            "max_height": null,
            "max_width": null,
            "min_height": null,
            "min_width": null,
            "object_fit": null,
            "object_position": null,
            "order": null,
            "overflow": null,
            "overflow_x": null,
            "overflow_y": null,
            "padding": null,
            "right": null,
            "top": null,
            "visibility": null,
            "width": null
          }
        },
        "483f84ffba094673a7c11e37c3c4ff2b": {
          "model_module": "@jupyter-widgets/controls",
          "model_name": "ProgressStyleModel",
          "model_module_version": "1.5.0",
          "state": {
            "_model_module": "@jupyter-widgets/controls",
            "_model_module_version": "1.5.0",
            "_model_name": "ProgressStyleModel",
            "_view_count": null,
            "_view_module": "@jupyter-widgets/base",
            "_view_module_version": "1.2.0",
            "_view_name": "StyleView",
            "bar_color": null,
            "description_width": ""
          }
        },
        "ad443d93c67f4d8ca621f2d42866fb9b": {
          "model_module": "@jupyter-widgets/base",
          "model_name": "LayoutModel",
          "model_module_version": "1.2.0",
          "state": {
            "_model_module": "@jupyter-widgets/base",
            "_model_module_version": "1.2.0",
            "_model_name": "LayoutModel",
            "_view_count": null,
            "_view_module": "@jupyter-widgets/base",
            "_view_module_version": "1.2.0",
            "_view_name": "LayoutView",
            "align_content": null,
            "align_items": null,
            "align_self": null,
            "border": null,
            "bottom": null,
            "display": null,
            "flex": null,
            "flex_flow": null,
            "grid_area": null,
            "grid_auto_columns": null,
            "grid_auto_flow": null,
            "grid_auto_rows": null,
            "grid_column": null,
            "grid_gap": null,
            "grid_row": null,
            "grid_template_areas": null,
            "grid_template_columns": null,
            "grid_template_rows": null,
            "height": null,
            "justify_content": null,
            "justify_items": null,
            "left": null,
            "margin": null,
            "max_height": null,
            "max_width": null,
            "min_height": null,
            "min_width": null,
            "object_fit": null,
            "object_position": null,
            "order": null,
            "overflow": null,
            "overflow_x": null,
            "overflow_y": null,
            "padding": null,
            "right": null,
            "top": null,
            "visibility": null,
            "width": null
          }
        },
        "faf8dec618de4ddcbb9d378a8ac6f82d": {
          "model_module": "@jupyter-widgets/controls",
          "model_name": "DescriptionStyleModel",
          "model_module_version": "1.5.0",
          "state": {
            "_model_module": "@jupyter-widgets/controls",
            "_model_module_version": "1.5.0",
            "_model_name": "DescriptionStyleModel",
            "_view_count": null,
            "_view_module": "@jupyter-widgets/base",
            "_view_module_version": "1.2.0",
            "_view_name": "StyleView",
            "description_width": ""
          }
        }
      }
    }
  },
  "cells": [
    {
      "cell_type": "markdown",
      "metadata": {
        "id": "view-in-github",
        "colab_type": "text"
      },
      "source": [
        "<a href=\"https://colab.research.google.com/github/muhammadaarif-9/huggingface/blob/main/02_classification.ipynb\" target=\"_parent\"><img src=\"https://colab.research.google.com/assets/colab-badge.svg\" alt=\"Open In Colab\"/></a>"
      ]
    },
    {
      "cell_type": "code",
      "execution_count": 1,
      "metadata": {
        "id": "_2NzfZEjlDPU"
      },
      "outputs": [],
      "source": [
        "# Uncomment and run this cell if you're on Colab or Kaggle\n",
        "# !git clone https://github.com/nlp-with-transformers/notebooks.git\n",
        "# %cd notebooks\n",
        "# from install import *\n",
        "# install_requirements(is_chapter2=True)"
      ]
    },
    {
      "cell_type": "markdown",
      "source": [
        "# The Dataset"
      ],
      "metadata": {
        "id": "t-fyJPnzlmUu"
      }
    },
    {
      "cell_type": "markdown",
      "source": [
        "To build our emotion detector we'll use a great dataset from an article that explored how emotions are represented in English Twitter messages.footnote:[E. Saravia et al., \"CARER: Contextualized Affect Representations for Emotion Recognition,\" Proceedings of the 2018 Conference on Empirical Methods in Natural Language Processing (Oct–Nov 2018): 3687–3697, http://dx.doi.org/10.18653/v1/D18-1404.] Unlike most sentiment analysis datasets that involve just \"positive\" and \"negative\" polarities, this dataset contains six basic emotions: anger, disgust, fear, joy, sadness, and surprise. Given a tweet, our task will be to train a model that can classify it into one of these emotions."
      ],
      "metadata": {
        "id": "6tuUXxdtlrXd"
      }
    },
    {
      "cell_type": "markdown",
      "source": [
        "# A First Look at Hugging Face Datasets"
      ],
      "metadata": {
        "id": "W6k6K3-ylwfW"
      }
    },
    {
      "cell_type": "code",
      "source": [
        "#!pip install datasets\n",
        "from datasets import list_datasets\n",
        "all_datasets = list_datasets()\n",
        "print(f\"There are {len(all_datasets)} datasets currently available on the Hub\")\n",
        "print(f\"The first 10 are: {all_datasets[:10]}\")"
      ],
      "metadata": {
        "colab": {
          "base_uri": "https://localhost:8080/"
        },
        "id": "hrqfN86JlniH",
        "outputId": "83af990d-5791-4ce5-c38b-e7739a5caebb"
      },
      "execution_count": 2,
      "outputs": [
        {
          "output_type": "stream",
          "name": "stdout",
          "text": [
            "There are 7741 datasets currently available on the Hub\n",
            "The first 10 are: ['acronym_identification', 'ade_corpus_v2', 'adversarial_qa', 'aeslc', 'afrikaans_ner_corpus', 'ag_news', 'ai2_arc', 'air_dialogue', 'ajgt_twitter_ar', 'allegro_reviews']\n"
          ]
        }
      ]
    },
    {
      "cell_type": "code",
      "source": [
        "from datasets import load_dataset\n",
        "\n",
        "emotions = load_dataset(\"emotion\")"
      ],
      "metadata": {
        "colab": {
          "base_uri": "https://localhost:8080/",
          "height": 105,
          "referenced_widgets": [
            "1144c724379a49f2b228a8adbf45d719",
            "a64b08d3028d4f708a7fe59543b3b9b3",
            "96107e8b7873420e9e0fc0c9eee73c59",
            "7f0f5d1c660e43d1ae00b0e830f2e607",
            "04b7851c01b7478b8cb89264ab884d7d",
            "c5f2d740b0ec430095f99382e48641af",
            "c42154ff8a2f404eb08875ac1452bf48",
            "289b9c04e986484480f6246927355048",
            "7650226dfb1a421da4ba179c053e6dff",
            "2ef2952d670d41549747f7a1bf20331a",
            "9141b2bb649c44e4b61184e7c658fefa"
          ]
        },
        "id": "-MUotEx6lq1m",
        "outputId": "fef74f07-02ae-40d1-8dc6-e282f3e9d9ea"
      },
      "execution_count": 3,
      "outputs": [
        {
          "output_type": "stream",
          "name": "stderr",
          "text": [
            "Using custom data configuration default\n",
            "Reusing dataset emotion (/home/mohdarif.p/.cache/huggingface/datasets/emotion/default/0.0.0/348f63ca8e27b3713b6c04d723efe6d824a56fb3d1449794716c0f0296072705)\n"
          ]
        },
        {
          "output_type": "display_data",
          "data": {
            "text/plain": [
              "  0%|          | 0/3 [00:00<?, ?it/s]"
            ],
            "application/vnd.jupyter.widget-view+json": {
              "version_major": 2,
              "version_minor": 0,
              "model_id": "1144c724379a49f2b228a8adbf45d719"
            }
          },
          "metadata": {}
        }
      ]
    },
    {
      "cell_type": "code",
      "source": [
        "emotions"
      ],
      "metadata": {
        "colab": {
          "base_uri": "https://localhost:8080/"
        },
        "id": "2OwZ7VlcmE6K",
        "outputId": "d53930eb-f81a-4ed2-ced1-6d529bac302e"
      },
      "execution_count": 4,
      "outputs": [
        {
          "output_type": "execute_result",
          "data": {
            "text/plain": [
              "DatasetDict({\n",
              "    train: Dataset({\n",
              "        features: ['text', 'label'],\n",
              "        num_rows: 16000\n",
              "    })\n",
              "    validation: Dataset({\n",
              "        features: ['text', 'label'],\n",
              "        num_rows: 2000\n",
              "    })\n",
              "    test: Dataset({\n",
              "        features: ['text', 'label'],\n",
              "        num_rows: 2000\n",
              "    })\n",
              "})"
            ]
          },
          "metadata": {},
          "execution_count": 4
        }
      ]
    },
    {
      "cell_type": "markdown",
      "source": [
        "we see it is similar to a Python dictionary, with each key corresponding to a different split. And we can use the usual dictionary syntax to access an individual split:"
      ],
      "metadata": {
        "id": "ALfVM4HGmoUx"
      }
    },
    {
      "cell_type": "code",
      "source": [
        "train_ds = emotions[\"train\"]\n",
        "train_ds"
      ],
      "metadata": {
        "colab": {
          "base_uri": "https://localhost:8080/"
        },
        "id": "jMHCELK_mLfJ",
        "outputId": "619760f2-23c5-40f3-b445-8792f0728d51"
      },
      "execution_count": 5,
      "outputs": [
        {
          "output_type": "execute_result",
          "data": {
            "text/plain": [
              "Dataset({\n",
              "    features: ['text', 'label'],\n",
              "    num_rows: 16000\n",
              "})"
            ]
          },
          "metadata": {},
          "execution_count": 5
        }
      ]
    },
    {
      "cell_type": "code",
      "source": [
        "len(train_ds)"
      ],
      "metadata": {
        "colab": {
          "base_uri": "https://localhost:8080/"
        },
        "id": "-4RZfedDmqmB",
        "outputId": "5f0a3737-56d8-4eca-9228-9e6d22d32dbc"
      },
      "execution_count": 6,
      "outputs": [
        {
          "output_type": "execute_result",
          "data": {
            "text/plain": [
              "16000"
            ]
          },
          "metadata": {},
          "execution_count": 6
        }
      ]
    },
    {
      "cell_type": "markdown",
      "source": [
        "or access a single example by its index:"
      ],
      "metadata": {
        "id": "K0OcXnawm1Vs"
      }
    },
    {
      "cell_type": "code",
      "source": [
        "train_ds[1]"
      ],
      "metadata": {
        "colab": {
          "base_uri": "https://localhost:8080/"
        },
        "id": "XWxVsjp5mxDm",
        "outputId": "c9961290-a83e-4de3-e0ae-e89d31a6310e"
      },
      "execution_count": 7,
      "outputs": [
        {
          "output_type": "execute_result",
          "data": {
            "text/plain": [
              "{'text': 'i can go from feeling so hopeless to so damned hopeful just from being around someone who cares and is awake',\n",
              " 'label': 0}"
            ]
          },
          "metadata": {},
          "execution_count": 7
        }
      ]
    },
    {
      "cell_type": "markdown",
      "source": [
        "Here we see that a single row is represented as a dictionary, where the keys correspond to the column names:"
      ],
      "metadata": {
        "id": "HeokaOFxnAx3"
      }
    },
    {
      "cell_type": "code",
      "source": [
        "train_ds.column_names"
      ],
      "metadata": {
        "colab": {
          "base_uri": "https://localhost:8080/"
        },
        "id": "ztFBMenjm3-A",
        "outputId": "a399df59-1e3a-4451-ad07-5f04d9bd4f6f"
      },
      "execution_count": 8,
      "outputs": [
        {
          "output_type": "execute_result",
          "data": {
            "text/plain": [
              "['text', 'label']"
            ]
          },
          "metadata": {},
          "execution_count": 8
        }
      ]
    },
    {
      "cell_type": "markdown",
      "source": [
        "and the values are the tweet and the emotion. This reflects the fact that hugging face Datasets is based on Apache Arrow, which defines a typed columnar format that is more memory efficient than native Python. We can see what data types are being used under the hood by accessing the features attribute of a Dataset object:"
      ],
      "metadata": {
        "id": "Ej7JhzsznQRj"
      }
    },
    {
      "cell_type": "code",
      "source": [
        "print(train_ds.features)"
      ],
      "metadata": {
        "colab": {
          "base_uri": "https://localhost:8080/"
        },
        "id": "NKMDkYVHnFuY",
        "outputId": "96631ae1-c34e-4771-b212-6aa2e6a3ff1e"
      },
      "execution_count": 9,
      "outputs": [
        {
          "output_type": "stream",
          "name": "stdout",
          "text": [
            "{'text': Value(dtype='string', id=None), 'label': ClassLabel(num_classes=6, names=['sadness', 'joy', 'love', 'anger', 'fear', 'surprise'], id=None)}\n"
          ]
        }
      ]
    },
    {
      "cell_type": "markdown",
      "source": [
        "In this case, the data type of the text column is string, while the label column is a special ClassLabel object that contains information about the class names and their mapping to integers. We can also access several rows with a slice:"
      ],
      "metadata": {
        "id": "XpCDZ4uQnqnW"
      }
    },
    {
      "cell_type": "code",
      "source": [
        "print(train_ds[:5])"
      ],
      "metadata": {
        "colab": {
          "base_uri": "https://localhost:8080/"
        },
        "id": "8tho1jt0ncyf",
        "outputId": "6bf80993-0059-4558-91a0-0d2a742879e0"
      },
      "execution_count": 10,
      "outputs": [
        {
          "output_type": "stream",
          "name": "stdout",
          "text": [
            "{'text': ['i didnt feel humiliated', 'i can go from feeling so hopeless to so damned hopeful just from being around someone who cares and is awake', 'im grabbing a minute to post i feel greedy wrong', 'i am ever feeling nostalgic about the fireplace i will know that it is still on the property', 'i am feeling grouchy'], 'label': [0, 0, 3, 2, 3]}\n"
          ]
        }
      ]
    },
    {
      "cell_type": "markdown",
      "source": [
        "Note that in this case, the dictionary values are now lists instead of individual elements. We can also get the full column by name:"
      ],
      "metadata": {
        "id": "pxFzUWoKn44L"
      }
    },
    {
      "cell_type": "code",
      "source": [
        "print(train_ds[\"text\"][:5])"
      ],
      "metadata": {
        "colab": {
          "base_uri": "https://localhost:8080/"
        },
        "id": "o80_ucounuYI",
        "outputId": "6d918562-1643-4850-864a-121910b7323f"
      },
      "execution_count": 11,
      "outputs": [
        {
          "output_type": "stream",
          "name": "stdout",
          "text": [
            "['i didnt feel humiliated', 'i can go from feeling so hopeless to so damned hopeful just from being around someone who cares and is awake', 'im grabbing a minute to post i feel greedy wrong', 'i am ever feeling nostalgic about the fireplace i will know that it is still on the property', 'i am feeling grouchy']\n"
          ]
        }
      ]
    },
    {
      "cell_type": "markdown",
      "source": [
        "Now that we've seen how to load and inspect data with huggingface Datasets, let's do a few sanity checks about the content of our tweets."
      ],
      "metadata": {
        "id": "T5VYgNnDn-Ac"
      }
    },
    {
      "cell_type": "markdown",
      "source": [
        "#What If My Dataset Is Not on the Hub?"
      ],
      "metadata": {
        "id": "tS4s1NPWoK5Y"
      }
    },
    {
      "cell_type": "markdown",
      "source": [
        "We'll be using the Hugging Face Hub to download datasets for most of the examples in this book. But in many cases, you'll find yourself working with data that is either stored on your laptop or on a remote server in your organization. huggingface Datasets provides several loading scripts to handle local and remote datasets. Examples for the most common data formats are shown below\n",
        "\n",
        "|======\n",
        "| Data format | Loading script | Example\n",
        "| CSV | `csv` | `load_dataset(\"csv\", data_files=\"my_file.csv\")` \n",
        "| Text | `text` | `load_dataset(\"text\", data_files=\"my_file.txt\")` \n",
        "| JSON | `json` | `load_dataset(\"json\", data_files=\"my_file.jsonl\")` \n",
        "\n",
        "|======\n",
        "\n",
        "As you can see for each data format, we just need to pass the relevant loading script to the load_dataset() function, along with a data_files argument that specifies the path or URL to one or more files. For example, the source files for the emotion dataset are actually hosted on Dropbox, so an alternative way to load the dataset is to first download one of the splits:\n",
        "\n"
      ],
      "metadata": {
        "id": "iKGz-kM8oW6W"
      }
    },
    {
      "cell_type": "code",
      "source": [
        "#hide_output\n",
        "dataset_url = \"https://www.dropbox.com/s/1pzkadrvffbqw6o/train.txt\"\n",
        "!wget {dataset_url}"
      ],
      "metadata": {
        "id": "HwaiT7Srn7LA",
        "colab": {
          "base_uri": "https://localhost:8080/"
        },
        "outputId": "2cf1be60-87f0-471c-aa81-8a197536794c"
      },
      "execution_count": 12,
      "outputs": [
        {
          "output_type": "stream",
          "name": "stdout",
          "text": [
            "--2022-07-26 12:37:06--  https://www.dropbox.com/s/1pzkadrvffbqw6o/train.txt\r\n",
            "Resolving www.dropbox.com (www.dropbox.com)... 162.125.81.18, 2620:100:6031:18::a27d:5112\n",
            "Connecting to www.dropbox.com (www.dropbox.com)|162.125.81.18|:443... connected.\n",
            "HTTP request sent, awaiting response... 301 Moved Permanently\n",
            "Location: /s/raw/1pzkadrvffbqw6o/train.txt [following]\n",
            "--2022-07-26 12:37:07--  https://www.dropbox.com/s/raw/1pzkadrvffbqw6o/train.txt\n",
            "Reusing existing connection to www.dropbox.com:443.\n",
            "HTTP request sent, awaiting response... 302 Found\n",
            "Location: https://uc2983fbfb74b85eb088900f55eb.dl.dropboxusercontent.com/cd/0/inline/Bpx8HNmgjARHYCNO03e8mU7jDD5_7h7GHn5MqFXLic_twmHYYl5b--N0QDFNU0OhCwi-D0kNJufnsRFZ97gAEZR8Z15fHJqQ6livH91koFF6ebpYARlc6z3KYL5uzWl5pVxYZLR3mU9ogxHx-plrs9BNnCJoW42D8MyaPILIA1crUQ/file# [following]\n",
            "--2022-07-26 12:37:07--  https://uc2983fbfb74b85eb088900f55eb.dl.dropboxusercontent.com/cd/0/inline/Bpx8HNmgjARHYCNO03e8mU7jDD5_7h7GHn5MqFXLic_twmHYYl5b--N0QDFNU0OhCwi-D0kNJufnsRFZ97gAEZR8Z15fHJqQ6livH91koFF6ebpYARlc6z3KYL5uzWl5pVxYZLR3mU9ogxHx-plrs9BNnCJoW42D8MyaPILIA1crUQ/file\n",
            "Resolving uc2983fbfb74b85eb088900f55eb.dl.dropboxusercontent.com (uc2983fbfb74b85eb088900f55eb.dl.dropboxusercontent.com)... 162.125.81.15, 2620:100:6031:15::a27d:510f\n",
            "Connecting to uc2983fbfb74b85eb088900f55eb.dl.dropboxusercontent.com (uc2983fbfb74b85eb088900f55eb.dl.dropboxusercontent.com)|162.125.81.15|:443... connected.\n",
            "HTTP request sent, awaiting response... 200 OK\n",
            "Length: 1658616 (1.6M) [text/plain]\n",
            "Saving to: ‘train.txt’\n",
            "\n",
            "train.txt           100%[===================>]   1.58M  1.34MB/s    in 1.2s    \n",
            "\n",
            "2022-07-26 12:37:10 (1.34 MB/s) - ‘train.txt’ saved [1658616/1658616]\n",
            "\n"
          ]
        }
      ]
    },
    {
      "cell_type": "markdown",
      "source": [
        " if we peek at the first row of the train.txt file:"
      ],
      "metadata": {
        "id": "p1ohXzJLo_4J"
      }
    },
    {
      "cell_type": "code",
      "source": [
        "!head -n 1 train.txt"
      ],
      "metadata": {
        "colab": {
          "base_uri": "https://localhost:8080/"
        },
        "id": "bBeZ-v39o5hv",
        "outputId": "f292fe56-a4c4-4deb-e0d9-46454945dc41"
      },
      "execution_count": 13,
      "outputs": [
        {
          "output_type": "stream",
          "name": "stdout",
          "text": [
            "i didnt feel humiliated;sadness\r\n"
          ]
        }
      ]
    },
    {
      "cell_type": "markdown",
      "source": [
        "we can see that here are no column headers and each tweet and emotion are separated by a semicolon. Nevertheless, this is quite similar to a CSV file, so we can load the dataset locally by using the csv script and pointing the data_files argument to the train.txt file:"
      ],
      "metadata": {
        "id": "Yhy93BTVpOjp"
      }
    },
    {
      "cell_type": "code",
      "source": [
        "#hide_output\n",
        "emotions_local = load_dataset(\"csv\", data_files=\"train.txt\", sep=\";\", names=[\"text\", \"label\"])"
      ],
      "metadata": {
        "colab": {
          "base_uri": "https://localhost:8080/",
          "height": 186,
          "referenced_widgets": [
            "529d5d44455a4d26b886aff381cf7dd1",
            "d216f7f52cf24c2a86b0360874f1aacb",
            "f47f1030cd364faa90cfad97df643af1",
            "b9e04301646b434fba5cd133ffaada8a",
            "dd442eb073ed403986ecf3a574d1a0f2",
            "d15bd312b6ff446bb2d4f74b5d39fa2c",
            "461f7863fd6f423da08b4dc57c4a17fb",
            "aa7ebf691d904a54a1a2e069d22fb8a2",
            "9dcca76a79dd4f49a43ba8ede108e103",
            "6d4c0c4f8c154bfdb61ec228a563033b",
            "8766000a878b4e659bd3002bf34788b3",
            "a86bdf64faf846e1916849504205abfb",
            "bc8174f3af8e497a8db3cd4873be0f3a",
            "ce42f0c5fc5c4037abc94044d9f5e3b8",
            "2b0f4bcab3c4433a8d32207233068230",
            "41a5a9c7d2bd4806a391f05cae5d6142",
            "e256ebf6008a4cf4a99adfdaf6862593",
            "4f09f1376cdb42f480a9e0f0b6d16ace",
            "f361e6794d3a4f23ba235c241aac7a22",
            "8c3bf7efff0c4d92982b7c55f1a99852",
            "2cbf605a2d31433a93bf6e8669b56b2f",
            "15cc31b5ccc7453b9707def992c64a64",
            "4895cc7095684e0c80bc6df00fb0aebe",
            "57875584af1b4b819046f115d86fc52e",
            "b0ff2659728447ce935bd0a0b2c7d251",
            "a078019ca7104a1193366033131f15e8",
            "705346c827064e939deff339edd90de5",
            "678f9ec589b64d6db0e9399cc9746077",
            "be188769778747f4bfe9ac224463076c",
            "618b429764e84a2c948006e8053fdc44",
            "399922fa48ef459aab8b048098e56cc9",
            "f56ff577e38d45b885201fe868cb95e5",
            "9d825dc383fc405e85518b3346ca34fa",
            "836a48e7fc134a1196553c6a3b1bdcc0",
            "efb59ebe6aa74d8fb73144e00dc91e2b",
            "d730e7c55f4e48bd98797d35c3cd32ea",
            "1a6a5b7785fe48d4a8f1f234c73aee88",
            "87da061d0c7c4524aabbdaaf63faeb0e",
            "a623e5629afe45f4be19c62437ee284c",
            "0fa9e4082c54425c9a2599f82c5e53a3",
            "f3c5678e2d744b078f3600cd5d425288",
            "483f84ffba094673a7c11e37c3c4ff2b",
            "ad443d93c67f4d8ca621f2d42866fb9b",
            "faf8dec618de4ddcbb9d378a8ac6f82d"
          ]
        },
        "id": "_e6nfRJGpCaG",
        "outputId": "f357aa54-f280-4886-90ae-22cd3ecef95a"
      },
      "execution_count": 14,
      "outputs": [
        {
          "output_type": "stream",
          "name": "stderr",
          "text": [
            "Using custom data configuration default-dcec48cfed59cfee\n"
          ]
        },
        {
          "output_type": "stream",
          "name": "stdout",
          "text": [
            "Downloading and preparing dataset csv/default to /home/mohdarif.p/.cache/huggingface/datasets/csv/default-dcec48cfed59cfee/0.0.0/51cce309a08df9c4d82ffd9363bbe090bf173197fc01a71b034e8594995a1a58...\n"
          ]
        },
        {
          "output_type": "display_data",
          "data": {
            "text/plain": [
              "Downloading data files:   0%|          | 0/1 [00:00<?, ?it/s]"
            ],
            "application/vnd.jupyter.widget-view+json": {
              "version_major": 2,
              "version_minor": 0,
              "model_id": "529d5d44455a4d26b886aff381cf7dd1"
            }
          },
          "metadata": {}
        },
        {
          "output_type": "display_data",
          "data": {
            "text/plain": [
              "Extracting data files:   0%|          | 0/1 [00:00<?, ?it/s]"
            ],
            "application/vnd.jupyter.widget-view+json": {
              "version_major": 2,
              "version_minor": 0,
              "model_id": "a86bdf64faf846e1916849504205abfb"
            }
          },
          "metadata": {}
        },
        {
          "output_type": "display_data",
          "data": {
            "text/plain": [
              "0 tables [00:00, ? tables/s]"
            ],
            "application/vnd.jupyter.widget-view+json": {
              "version_major": 2,
              "version_minor": 0,
              "model_id": "4895cc7095684e0c80bc6df00fb0aebe"
            }
          },
          "metadata": {}
        },
        {
          "output_type": "stream",
          "name": "stdout",
          "text": [
            "Dataset csv downloaded and prepared to /home/mohdarif.p/.cache/huggingface/datasets/csv/default-dcec48cfed59cfee/0.0.0/51cce309a08df9c4d82ffd9363bbe090bf173197fc01a71b034e8594995a1a58. Subsequent calls will reuse this data.\n"
          ]
        },
        {
          "output_type": "display_data",
          "data": {
            "text/plain": [
              "  0%|          | 0/1 [00:00<?, ?it/s]"
            ],
            "application/vnd.jupyter.widget-view+json": {
              "version_major": 2,
              "version_minor": 0,
              "model_id": "836a48e7fc134a1196553c6a3b1bdcc0"
            }
          },
          "metadata": {}
        }
      ]
    },
    {
      "cell_type": "markdown",
      "source": [
        "Here we've also specified the type of delimiter and the names of the columns. An even simpler approach is to just point the data_files argument to the URL itself:"
      ],
      "metadata": {
        "id": "CsRRna6dpdh4"
      }
    },
    {
      "cell_type": "code",
      "source": [
        "#hide_output\n",
        "dataset_url = \"https://www.dropbox.com/s/1pzkadrvffbqw6o/train.txt?dl=1\"\n",
        "emotions_remote = load_dataset(\"csv\", data_files=dataset_url, sep=\";\", names=[\"text\", \"label\"])"
      ],
      "metadata": {
        "colab": {
          "base_uri": "https://localhost:8080/",
          "height": 187,
          "referenced_widgets": [
            "41703262bf77485b9a0f54b06213ae81",
            "9b25586393214855810db1ac54a858f7",
            "5b127816ec9146a0a772e5d92d87565b",
            "1abda54c613e468096932fab8886f153",
            "da0ce3667e63401c8bc0e96624728020",
            "924c33a50c61472fa178a5484d85b7c2",
            "4f6870b20fd2473d9534f29d1b8eeeca",
            "e37058f2c6f5493d8f2156dc15e7a243",
            "74fd044af8d749b69ded56dc257f6f46",
            "6665c67f50dc451cbc412d9ddd035803",
            "b4038896e6da402e9d976b7166147562",
            "f5a220f9ba174ad880023260c531882b",
            "68ed1a34bf4442a59a326a6d035e4106",
            "36fbae267320447da4c424bf765dad8d",
            "ef6a875e731d40558de20143c7bdb69f",
            "9d05e53ee3de4394a96a2bab82681909",
            "07935d706646441faea3a01c584bdd92",
            "6ec214abe4d640418ed9ce57da4c1b66",
            "ac6507479ecd4544b9e293771acef5cb",
            "47b1475153ad4fd5a438d03adeee37b7",
            "d3430a7157bd403c908dc42243cfca64",
            "84e8dc8edb3d40e498438fdfd5ac576e",
            "6769d1baca334ca5a13d3d88eb5ceff8",
            "11933f2406d14114ab14ebfe0d429972",
            "d46715ffcb3348b69fd0c093509f6645",
            "3ddf998e233f45a094b925cf3d8c07bc",
            "1a81505dd4b54640a8a07d6baf0776a5",
            "0606d47a663447db859dc1282a01fce3",
            "1fd5a56a3c9249c0993873966a6d6107",
            "bcc149f9a061450c9409dbe676ff1cdd",
            "109b2fa6a76f4806a0ce0c5fd6b3020f",
            "70068f5aabdd4d5a8a1b0c6202bb08bc",
            "d2583eded780484a970ff8ce3ee7bee0",
            "6bcdc1108b55417da53b6ca362118c0a",
            "e51ce84ee32c44939427031d16bd3445",
            "8b75770936bc4776850eea692e6da22d",
            "b9845727dafe4db588e94028f447cda4",
            "1bdd10751d0649a88a8ce5795923a33f",
            "036700b30b1040788ac6157416262a7d",
            "5e39e83033fd4e3882653105c6ab0c48",
            "de2fd84276254041b925672bf61e6d83",
            "12518df2029244e096bf4dcfdc04dde4",
            "22fc40bb1a19426ba24f8b71976e3000",
            "efe5c5fb1ae74f4e8e33463941abf1c0"
          ]
        },
        "id": "Z3booS4rpXud",
        "outputId": "22b225c4-1448-4909-a400-af4c61b4b2f6"
      },
      "execution_count": null,
      "outputs": [
        {
          "output_type": "stream",
          "name": "stderr",
          "text": [
            "WARNING:datasets.builder:Using custom data configuration default-a70389bc6b0a03f2\n"
          ]
        },
        {
          "output_type": "stream",
          "name": "stdout",
          "text": [
            "Downloading and preparing dataset csv/default to /root/.cache/huggingface/datasets/csv/default-a70389bc6b0a03f2/0.0.0/51cce309a08df9c4d82ffd9363bbe090bf173197fc01a71b034e8594995a1a58...\n"
          ]
        },
        {
          "output_type": "display_data",
          "data": {
            "text/plain": [
              "Downloading data files:   0%|          | 0/1 [00:00<?, ?it/s]"
            ],
            "application/vnd.jupyter.widget-view+json": {
              "version_major": 2,
              "version_minor": 0,
              "model_id": "41703262bf77485b9a0f54b06213ae81"
            }
          },
          "metadata": {}
        },
        {
          "output_type": "display_data",
          "data": {
            "text/plain": [
              "Extracting data files:   0%|          | 0/1 [00:00<?, ?it/s]"
            ],
            "application/vnd.jupyter.widget-view+json": {
              "version_major": 2,
              "version_minor": 0,
              "model_id": "f5a220f9ba174ad880023260c531882b"
            }
          },
          "metadata": {}
        },
        {
          "output_type": "display_data",
          "data": {
            "text/plain": [
              "0 tables [00:00, ? tables/s]"
            ],
            "application/vnd.jupyter.widget-view+json": {
              "version_major": 2,
              "version_minor": 0,
              "model_id": "6769d1baca334ca5a13d3d88eb5ceff8"
            }
          },
          "metadata": {}
        },
        {
          "output_type": "stream",
          "name": "stdout",
          "text": [
            "Dataset csv downloaded and prepared to /root/.cache/huggingface/datasets/csv/default-a70389bc6b0a03f2/0.0.0/51cce309a08df9c4d82ffd9363bbe090bf173197fc01a71b034e8594995a1a58. Subsequent calls will reuse this data.\n"
          ]
        },
        {
          "output_type": "display_data",
          "data": {
            "text/plain": [
              "  0%|          | 0/1 [00:00<?, ?it/s]"
            ],
            "application/vnd.jupyter.widget-view+json": {
              "version_major": 2,
              "version_minor": 0,
              "model_id": "6bcdc1108b55417da53b6ca362118c0a"
            }
          },
          "metadata": {}
        }
      ]
    },
    {
      "cell_type": "markdown",
      "source": [
        "which will automatically download and cache the dataset. As we can see, the load_dataset() function is very versatile. it is recommend to check out the hugging face Datasets documentation to get a complete overview."
      ],
      "metadata": {
        "id": "kWEWoEUhpumA"
      }
    },
    {
      "cell_type": "markdown",
      "source": [
        "# From Datasets to DataFrames"
      ],
      "metadata": {
        "id": "TSfk6yCwqCq4"
      }
    },
    {
      "cell_type": "markdown",
      "source": [
        "Although huggingface Datasets provides a lot of low-level functionality to slice and dice our data, it is often convenient to convert a Dataset object to a Pandas DataFrame so we can access high-level APIs for data visualization. To enable the conversion, hugging face Datasets provides a set_format() method that allows us to change the output format of the Dataset. Note that this does not change the underlying data format (which is an Arrow table), and you can switch to another format later if needed:"
      ],
      "metadata": {
        "id": "aAULXVOwqy-y"
      }
    },
    {
      "cell_type": "code",
      "source": [
        "import pandas as pd\n",
        "\n",
        "emotions.set_format(type=\"pandas\")\n",
        "df = emotions[\"train\"][:]\n",
        "df.head()"
      ],
      "metadata": {
        "colab": {
          "base_uri": "https://localhost:8080/",
          "height": 206
        },
        "id": "OB33MWqZq706",
        "outputId": "504d2d3b-6b5b-4f6e-8b49-4736c636a93c"
      },
      "execution_count": 15,
      "outputs": [
        {
          "output_type": "execute_result",
          "data": {
            "text/plain": [
              "                                                text  label\n",
              "0                            i didnt feel humiliated      0\n",
              "1  i can go from feeling so hopeless to so damned...      0\n",
              "2   im grabbing a minute to post i feel greedy wrong      3\n",
              "3  i am ever feeling nostalgic about the fireplac...      2\n",
              "4                               i am feeling grouchy      3"
            ],
            "text/html": [
              "<div>\n",
              "<style scoped>\n",
              "    .dataframe tbody tr th:only-of-type {\n",
              "        vertical-align: middle;\n",
              "    }\n",
              "\n",
              "    .dataframe tbody tr th {\n",
              "        vertical-align: top;\n",
              "    }\n",
              "\n",
              "    .dataframe thead th {\n",
              "        text-align: right;\n",
              "    }\n",
              "</style>\n",
              "<table border=\"1\" class=\"dataframe\">\n",
              "  <thead>\n",
              "    <tr style=\"text-align: right;\">\n",
              "      <th></th>\n",
              "      <th>text</th>\n",
              "      <th>label</th>\n",
              "    </tr>\n",
              "  </thead>\n",
              "  <tbody>\n",
              "    <tr>\n",
              "      <th>0</th>\n",
              "      <td>i didnt feel humiliated</td>\n",
              "      <td>0</td>\n",
              "    </tr>\n",
              "    <tr>\n",
              "      <th>1</th>\n",
              "      <td>i can go from feeling so hopeless to so damned...</td>\n",
              "      <td>0</td>\n",
              "    </tr>\n",
              "    <tr>\n",
              "      <th>2</th>\n",
              "      <td>im grabbing a minute to post i feel greedy wrong</td>\n",
              "      <td>3</td>\n",
              "    </tr>\n",
              "    <tr>\n",
              "      <th>3</th>\n",
              "      <td>i am ever feeling nostalgic about the fireplac...</td>\n",
              "      <td>2</td>\n",
              "    </tr>\n",
              "    <tr>\n",
              "      <th>4</th>\n",
              "      <td>i am feeling grouchy</td>\n",
              "      <td>3</td>\n",
              "    </tr>\n",
              "  </tbody>\n",
              "</table>\n",
              "</div>"
            ]
          },
          "metadata": {},
          "execution_count": 15
        }
      ]
    },
    {
      "cell_type": "markdown",
      "source": [
        "As you can see, the column headers have been preserved and the first few rows match our previous views of the data. However, the labels are represented as integers, so let's use the int2str() method of the label feature to create a new column in our DataFrame with the corresponding label names:"
      ],
      "metadata": {
        "id": "dYfg-moirN-w"
      }
    },
    {
      "cell_type": "code",
      "source": [
        "def label_int2str(row):\n",
        "    return emotions[\"train\"].features[\"label\"].int2str(row)\n",
        "\n",
        "df[\"label_name\"] = df[\"label\"].apply(label_int2str)\n",
        "df.head()"
      ],
      "metadata": {
        "colab": {
          "base_uri": "https://localhost:8080/",
          "height": 206
        },
        "id": "L-QSbwKurB5_",
        "outputId": "9579ea28-d33f-4779-f0b3-b2abbd5249ad"
      },
      "execution_count": 16,
      "outputs": [
        {
          "output_type": "execute_result",
          "data": {
            "text/plain": [
              "                                                text  label label_name\n",
              "0                            i didnt feel humiliated      0    sadness\n",
              "1  i can go from feeling so hopeless to so damned...      0    sadness\n",
              "2   im grabbing a minute to post i feel greedy wrong      3      anger\n",
              "3  i am ever feeling nostalgic about the fireplac...      2       love\n",
              "4                               i am feeling grouchy      3      anger"
            ],
            "text/html": [
              "<div>\n",
              "<style scoped>\n",
              "    .dataframe tbody tr th:only-of-type {\n",
              "        vertical-align: middle;\n",
              "    }\n",
              "\n",
              "    .dataframe tbody tr th {\n",
              "        vertical-align: top;\n",
              "    }\n",
              "\n",
              "    .dataframe thead th {\n",
              "        text-align: right;\n",
              "    }\n",
              "</style>\n",
              "<table border=\"1\" class=\"dataframe\">\n",
              "  <thead>\n",
              "    <tr style=\"text-align: right;\">\n",
              "      <th></th>\n",
              "      <th>text</th>\n",
              "      <th>label</th>\n",
              "      <th>label_name</th>\n",
              "    </tr>\n",
              "  </thead>\n",
              "  <tbody>\n",
              "    <tr>\n",
              "      <th>0</th>\n",
              "      <td>i didnt feel humiliated</td>\n",
              "      <td>0</td>\n",
              "      <td>sadness</td>\n",
              "    </tr>\n",
              "    <tr>\n",
              "      <th>1</th>\n",
              "      <td>i can go from feeling so hopeless to so damned...</td>\n",
              "      <td>0</td>\n",
              "      <td>sadness</td>\n",
              "    </tr>\n",
              "    <tr>\n",
              "      <th>2</th>\n",
              "      <td>im grabbing a minute to post i feel greedy wrong</td>\n",
              "      <td>3</td>\n",
              "      <td>anger</td>\n",
              "    </tr>\n",
              "    <tr>\n",
              "      <th>3</th>\n",
              "      <td>i am ever feeling nostalgic about the fireplac...</td>\n",
              "      <td>2</td>\n",
              "      <td>love</td>\n",
              "    </tr>\n",
              "    <tr>\n",
              "      <th>4</th>\n",
              "      <td>i am feeling grouchy</td>\n",
              "      <td>3</td>\n",
              "      <td>anger</td>\n",
              "    </tr>\n",
              "  </tbody>\n",
              "</table>\n",
              "</div>"
            ]
          },
          "metadata": {},
          "execution_count": 16
        }
      ]
    },
    {
      "cell_type": "markdown",
      "source": [
        "Before diving into building a classifier, let's take a closer look at the dataset. As Andrej Karpathy notes in his famous blog post \"A Recipe for Training Neural Networks\", becoming \"one with the data\" is an essential step for training great models!"
      ],
      "metadata": {
        "id": "WEVaYa7vsJ4o"
      }
    },
    {
      "cell_type": "markdown",
      "source": [
        "# Looking at the Class Distribution"
      ],
      "metadata": {
        "id": "A9q3ge1GwVs9"
      }
    },
    {
      "cell_type": "markdown",
      "source": [
        "Whenever you are working on text classification problems, it is a good idea to examine the distribution of examples across the classes. A dataset with a skewed class distribution might require a different treatment in terms of the training loss and evaluation metrics than a balanced one.\n",
        "\n",
        "With Pandas and Matplotlib, we can quickly visualize the class distribution as follows:"
      ],
      "metadata": {
        "id": "Fbo7epB6wdPE"
      }
    },
    {
      "cell_type": "code",
      "source": [
        "import matplotlib.pyplot as plt\n",
        "\n",
        "df[\"label_name\"].value_counts(ascending=True).plot.barh()\n",
        "plt.title(\"Frequency of Classes\")\n",
        "plt.show()"
      ],
      "metadata": {
        "colab": {
          "base_uri": "https://localhost:8080/",
          "height": 281
        },
        "id": "OEWjs5RZwXEB",
        "outputId": "06167588-935f-4e8c-d2ab-a486d4a6a15b"
      },
      "execution_count": 18,
      "outputs": [
        {
          "output_type": "display_data",
          "data": {
            "text/plain": [
              "<Figure size 432x288 with 1 Axes>"
            ],
            "image/png": "[encoded data removed]"
          },
          "metadata": {
            "needs_background": "light"
          }
        }
      ]
    },
    {
      "cell_type": "markdown",
      "source": [
        "In this case, we can see that the dataset is heavily imbalanced; the joy and sadness classes appear frequently, whereas love and surprise are about 5–10 times rarer. There are several ways to deal with imbalanced data, including:\n",
        "\n",
        "Randomly oversample the minority class.\n",
        "Randomly undersample the majority class.\n",
        "Gather more labeled data from the underrepresented classes.\n",
        "To keep things simple in this chapter, we'll work with the raw, unbalanced class frequencies. If you want to learn more about these sampling techniques, we recommend checking out the Imbalanced-learn library. Just make sure that you don't apply sampling methods before creating your train/test splits, or you'll get plenty of leakage between them!\n",
        "\n",
        "Now that we've looked at the classes, let's take a look at the tweets themselves."
      ],
      "metadata": {
        "id": "-UnkU2Isw9TR"
      }
    },
    {
      "cell_type": "markdown",
      "source": [
        "# How Long Are Our Tweets?"
      ],
      "metadata": {
        "id": "4ZrB-5TgxDVF"
      }
    },
    {
      "cell_type": "markdown",
      "source": [
        "Transformer models have a maximum input sequence length that is referred to as the maximum context size. For applications using DistilBERT, the maximum context size is 512 tokens, which amounts to a few paragraphs of text. As we'll see in the next section, a token is an atomic piece of text; for now, we'll treat a token as a single word. We can get a rough estimate of tweet lengths per emotion by looking at the distribution of words per tweet:"
      ],
      "metadata": {
        "id": "UrqS0Dg4xMo_"
      }
    },
    {
      "cell_type": "code",
      "source": [
        "df[\"Words Per Tweet\"] = df[\"text\"].str.split().apply(len)\n",
        "df.boxplot(\"Words Per Tweet\", by=\"label_name\", grid=False, showfliers=False,\n",
        "           color=\"green\")\n",
        "plt.suptitle(\"\")\n",
        "plt.xlabel(\"\")\n",
        "plt.show()"
      ],
      "metadata": {
        "colab": {
          "base_uri": "https://localhost:8080/",
          "height": 280
        },
        "id": "2Moml5a2xES4",
        "outputId": "6183921d-a41b-4e24-f5f8-ab7ca1e8eb69"
      },
      "execution_count": 20,
      "outputs": [
        {
          "output_type": "display_data",
          "data": {
            "text/plain": [
              "<Figure size 432x288 with 1 Axes>"
            ],
            "image/png": "[encoded data removed]"
          },
          "metadata": {
            "needs_background": "light"
          }
        }
      ]
    },
    {
      "cell_type": "markdown",
      "source": [
        "From the plot we see that for each emotion, most tweets are around 15 words long and the longest tweets are well below DistilBERT's maximum context size. Texts that are longer than a model's context size need to be truncated, which can lead to a loss in performance if the truncated text contains crucial information; in this case, it looks like that won't be an issue.\n",
        "\n",
        "Let's now figure out how we can convert these raw texts into a format suitable for huggingface Transformers! While we're at it, let's also reset the output format of our dataset since we don't need the DataFrame format anymore:"
      ],
      "metadata": {
        "id": "7MVnsfGcx45A"
      }
    },
    {
      "cell_type": "code",
      "source": [
        "emotions.reset_format()"
      ],
      "metadata": {
        "id": "JxG7Ee5WxPmC"
      },
      "execution_count": 22,
      "outputs": []
    },
    {
      "cell_type": "markdown",
      "source": [
        "# From Text to Tokens"
      ],
      "metadata": {
        "id": "3cR2jYsDyBNj"
      }
    },
    {
      "cell_type": "markdown",
      "source": [
        "Transformer models like DistilBERT cannot receive raw strings as input; instead, they assume the text has been tokenized and encoded as numerical vectors. Tokenization is the step of breaking down a string into the atomic units used in the model. There are several tokenization strategies one can adopt, and the optimal splitting of words into subunits is usually learned from the corpus. Before looking at the tokenizer used for DistilBERT, let's consider two extreme cases: character and word tokenization."
      ],
      "metadata": {
        "id": "m85x0uUOykx5"
      }
    },
    {
      "cell_type": "markdown",
      "source": [
        "## ***Character Tokenization***"
      ],
      "metadata": {
        "id": "_jqtiM6OyrQi"
      }
    },
    {
      "cell_type": "markdown",
      "source": [
        "The simplest tokenization scheme is to feed each character individually to the model. In Python, str objects are really arrays under the hood, which allows us to quickly implement character-level tokenization with just one line of code:"
      ],
      "metadata": {
        "id": "1OwWEfGNy2NI"
      }
    },
    {
      "cell_type": "code",
      "source": [
        "text = \"Tokenizing text is a core task of NLP.\"\n",
        "tokenized_text = list(text)\n",
        "print(tokenized_text)\n",
        "print(len(tokenized_text))"
      ],
      "metadata": {
        "colab": {
          "base_uri": "https://localhost:8080/"
        },
        "id": "RyMEPokWyDwq",
        "outputId": "521aa512-8b25-4d87-93d4-e06f99d5608c"
      },
      "execution_count": 36,
      "outputs": [
        {
          "output_type": "stream",
          "name": "stdout",
          "text": [
            "['T', 'o', 'k', 'e', 'n', 'i', 'z', 'i', 'n', 'g', ' ', 't', 'e', 'x', 't', ' ', 'i', 's', ' ', 'a', ' ', 'c', 'o', 'r', 'e', ' ', 't', 'a', 's', 'k', ' ', 'o', 'f', ' ', 'N', 'L', 'P', '.']\n",
            "38\n"
          ]
        }
      ]
    },
    {
      "cell_type": "markdown",
      "source": [
        "This is a good start, but we're not done yet. Our model expects each character to be converted to an integer, a process sometimes called numericalization. One simple way to do this is by encoding each unique token (which are characters in this case) with a unique integer:"
      ],
      "metadata": {
        "id": "ptJKoErpzEVQ"
      }
    },
    {
      "cell_type": "code",
      "source": [
        "token2idx = {ch: idx for idx, ch in enumerate(sorted(set(tokenized_text)))}\n",
        "print(token2idx)\n",
        "print(len(token2idx))"
      ],
      "metadata": {
        "colab": {
          "base_uri": "https://localhost:8080/"
        },
        "id": "Aj6RAfkmymxx",
        "outputId": "f70cb6d8-4294-42fc-e439-f1a937a2bbcc"
      },
      "execution_count": 37,
      "outputs": [
        {
          "output_type": "stream",
          "name": "stdout",
          "text": [
            "{' ': 0, '.': 1, 'L': 2, 'N': 3, 'P': 4, 'T': 5, 'a': 6, 'c': 7, 'e': 8, 'f': 9, 'g': 10, 'i': 11, 'k': 12, 'n': 13, 'o': 14, 'r': 15, 's': 16, 't': 17, 'x': 18, 'z': 19}\n",
            "20\n"
          ]
        }
      ]
    },
    {
      "cell_type": "markdown",
      "source": [
        "This gives us a mapping from each character in our vocabulary to a unique integer. We can now use token2idx to transform the tokenized text to a list of integers:"
      ],
      "metadata": {
        "id": "YsVRNscw1jIW"
      }
    },
    {
      "cell_type": "code",
      "source": [
        "input_ids = [token2idx[token] for token in tokenized_text]\n",
        "print(input_ids)\n",
        "print(len(input_ids))"
      ],
      "metadata": {
        "colab": {
          "base_uri": "https://localhost:8080/"
        },
        "id": "1LXYY0pxzt-u",
        "outputId": "1691596f-7afd-40dd-80eb-dc20c99c0733"
      },
      "execution_count": 32,
      "outputs": [
        {
          "output_type": "stream",
          "name": "stdout",
          "text": [
            "[5, 14, 12, 8, 13, 11, 19, 11, 13, 10, 0, 17, 8, 18, 17, 0, 11, 16, 0, 6, 0, 7, 14, 15, 8, 0, 17, 6, 16, 12, 0, 14, 9, 0, 3, 2, 4, 1]\n",
            "38\n"
          ]
        }
      ]
    },
    {
      "cell_type": "markdown",
      "source": [
        "Each token has now been mapped to a unique numerical identifier (hence the name input_ids). The last step is to convert input_ids to a 2D tensor of one-hot vectors. One-hot vectors are frequently used in machine learning to encode categorical data, which can be either ordinal or nominal. For example, suppose we wanted to encode the names of characters in the Transformers TV series. One way to do this would be to map each name to a unique ID, as follows:"
      ],
      "metadata": {
        "id": "sPmf-8rm1yMe"
      }
    },
    {
      "cell_type": "code",
      "source": [
        "categorical_df = pd.DataFrame({\"Name\": [\"Bumblebee\", \"Optimus Prime\", \"Megatron\"], \"Label ID\": [0,1,2]})\n",
        "categorical_df"
      ],
      "metadata": {
        "colab": {
          "base_uri": "https://localhost:8080/",
          "height": 143
        },
        "id": "vZmPE5kr1mbK",
        "outputId": "edbb335d-ba63-4092-904c-e1243aa44d0d"
      },
      "execution_count": 29,
      "outputs": [
        {
          "output_type": "execute_result",
          "data": {
            "text/plain": [
              "            Name  Label ID\n",
              "0      Bumblebee         0\n",
              "1  Optimus Prime         1\n",
              "2       Megatron         2"
            ],
            "text/html": [
              "<div>\n",
              "<style scoped>\n",
              "    .dataframe tbody tr th:only-of-type {\n",
              "        vertical-align: middle;\n",
              "    }\n",
              "\n",
              "    .dataframe tbody tr th {\n",
              "        vertical-align: top;\n",
              "    }\n",
              "\n",
              "    .dataframe thead th {\n",
              "        text-align: right;\n",
              "    }\n",
              "</style>\n",
              "<table border=\"1\" class=\"dataframe\">\n",
              "  <thead>\n",
              "    <tr style=\"text-align: right;\">\n",
              "      <th></th>\n",
              "      <th>Name</th>\n",
              "      <th>Label ID</th>\n",
              "    </tr>\n",
              "  </thead>\n",
              "  <tbody>\n",
              "    <tr>\n",
              "      <th>0</th>\n",
              "      <td>Bumblebee</td>\n",
              "      <td>0</td>\n",
              "    </tr>\n",
              "    <tr>\n",
              "      <th>1</th>\n",
              "      <td>Optimus Prime</td>\n",
              "      <td>1</td>\n",
              "    </tr>\n",
              "    <tr>\n",
              "      <th>2</th>\n",
              "      <td>Megatron</td>\n",
              "      <td>2</td>\n",
              "    </tr>\n",
              "  </tbody>\n",
              "</table>\n",
              "</div>"
            ]
          },
          "metadata": {},
          "execution_count": 29
        }
      ]
    },
    {
      "cell_type": "markdown",
      "source": [
        "The problem with this approach is that it creates a fictitious ordering between the names, and neural networks are really good at learning these kinds of relationships. So instead, we can create a new column for each category and assign a 1 where the category is true, and a 0 otherwise. In Pandas, this can be implemented with the get_dummies() function as follows:"
      ],
      "metadata": {
        "id": "zFOU41VO2SHz"
      }
    },
    {
      "cell_type": "code",
      "source": [
        "pd.get_dummies(categorical_df[\"Name\"])"
      ],
      "metadata": {
        "colab": {
          "base_uri": "https://localhost:8080/",
          "height": 143
        },
        "id": "0vFz0GqY146v",
        "outputId": "f0fd4bc3-e18a-4666-c953-28123c2da196"
      },
      "execution_count": 30,
      "outputs": [
        {
          "output_type": "execute_result",
          "data": {
            "text/plain": [
              "   Bumblebee  Megatron  Optimus Prime\n",
              "0          1         0              0\n",
              "1          0         0              1\n",
              "2          0         1              0"
            ],
            "text/html": [
              "<div>\n",
              "<style scoped>\n",
              "    .dataframe tbody tr th:only-of-type {\n",
              "        vertical-align: middle;\n",
              "    }\n",
              "\n",
              "    .dataframe tbody tr th {\n",
              "        vertical-align: top;\n",
              "    }\n",
              "\n",
              "    .dataframe thead th {\n",
              "        text-align: right;\n",
              "    }\n",
              "</style>\n",
              "<table border=\"1\" class=\"dataframe\">\n",
              "  <thead>\n",
              "    <tr style=\"text-align: right;\">\n",
              "      <th></th>\n",
              "      <th>Bumblebee</th>\n",
              "      <th>Megatron</th>\n",
              "      <th>Optimus Prime</th>\n",
              "    </tr>\n",
              "  </thead>\n",
              "  <tbody>\n",
              "    <tr>\n",
              "      <th>0</th>\n",
              "      <td>1</td>\n",
              "      <td>0</td>\n",
              "      <td>0</td>\n",
              "    </tr>\n",
              "    <tr>\n",
              "      <th>1</th>\n",
              "      <td>0</td>\n",
              "      <td>0</td>\n",
              "      <td>1</td>\n",
              "    </tr>\n",
              "    <tr>\n",
              "      <th>2</th>\n",
              "      <td>0</td>\n",
              "      <td>1</td>\n",
              "      <td>0</td>\n",
              "    </tr>\n",
              "  </tbody>\n",
              "</table>\n",
              "</div>"
            ]
          },
          "metadata": {},
          "execution_count": 30
        }
      ]
    },
    {
      "cell_type": "markdown",
      "source": [
        "The rows of this DataFrame are the one-hot vectors, which have a single \"hot\" entry with a 1 and 0s everywhere else. Now, looking at our input_ids, we have a similar problem: the elements create an ordinal scale. This means that adding or subtracting two IDs is a meaningless operation, since the result is a new ID that represents another random token.\n",
        "\n",
        "On the other hand, the result of adding two one-hot encodings can easily be interpreted: the two entries that are \"hot\" indicate that the corresponding tokens co-occur. We can create the one-hot encodings in PyTorch by converting input_ids to a tensor and applying the one_hot() function as follows:"
      ],
      "metadata": {
        "id": "PUrYGMSb3_bD"
      }
    },
    {
      "cell_type": "code",
      "source": [
        "import torch\n",
        "import torch.nn.functional as F\n",
        "\n",
        "input_ids = torch.tensor(input_ids)\n",
        "#print(input_ids)\n",
        "one_hot_encodings = F.one_hot(input_ids, num_classes=len(token2idx))\n",
        "#print(one_hot_encodings)\n",
        "one_hot_encodings.shape"
      ],
      "metadata": {
        "colab": {
          "base_uri": "https://localhost:8080/"
        },
        "id": "-wqt9als3OEL",
        "outputId": "4e6bbf85-b848-4e0f-9608-f2a618d1d973"
      },
      "execution_count": 47,
      "outputs": [
        {
          "output_type": "stream",
          "name": "stderr",
          "text": [
            "/tmp/ipykernel_2293891/3808366311.py:4: UserWarning: To copy construct from a tensor, it is recommended to use sourceTensor.clone().detach() or sourceTensor.clone().detach().requires_grad_(True), rather than torch.tensor(sourceTensor).\n",
            "  input_ids = torch.tensor(input_ids)\n"
          ]
        },
        {
          "output_type": "execute_result",
          "data": {
            "text/plain": [
              "torch.Size([38, 20])"
            ]
          },
          "metadata": {},
          "execution_count": 47
        }
      ]
    },
    {
      "cell_type": "markdown",
      "source": [
        "For each of the 38 input tokens we now have a one-hot vector with 20 dimensions, since our vocabulary consists of 20 unique characters.\n",
        "\n",
        "Warning: It's important to always set num_classes in the one_hot() function because otherwise the one-hot vectors may end up being shorter than the length of the vocabulary (and need to be padded with zeros manually). In TensorFlow, the equivalent function is tf.one_hot(), where the depth argument plays the role of num_classes.\n",
        "\n",
        "By examining the first vector, we can verify that a 1 appears in the location indicated by input_ids[0]:"
      ],
      "metadata": {
        "id": "PLLJF1qB4ewo"
      }
    },
    {
      "cell_type": "code",
      "source": [
        "print(f\"Token: {tokenized_text[0]}\")\n",
        "print(f\"Tensor index: {input_ids[0]}\")\n",
        "print(f\"One-hot: {one_hot_encodings[0]}\")"
      ],
      "metadata": {
        "colab": {
          "base_uri": "https://localhost:8080/"
        },
        "id": "h7N44ycO4LA7",
        "outputId": "3008d0f7-3aec-46a7-b09c-1f78edcc9553"
      },
      "execution_count": 48,
      "outputs": [
        {
          "output_type": "stream",
          "name": "stdout",
          "text": [
            "Token: T\n",
            "Tensor index: 5\n",
            "One-hot: tensor([0, 0, 0, 0, 0, 1, 0, 0, 0, 0, 0, 0, 0, 0, 0, 0, 0, 0, 0, 0])\n"
          ]
        }
      ]
    },
    {
      "cell_type": "markdown",
      "source": [
        "From our simple example we can see that character-level tokenization ignores any structure in the text and treats the whole string as a stream of characters. Although this helps deal with misspellings and rare words, the main drawback is that linguistic structures such as words need to be learned from the data. This requires significant compute, memory, and data. For this reason, character tokenization is rarely used in practice. Instead, some structure of the text is preserved during the tokenization step. Word tokenization is a straightforward approach to achieve this, so let's take a look at how it works."
      ],
      "metadata": {
        "id": "lV2zZKpG42hC"
      }
    },
    {
      "cell_type": "markdown",
      "source": [
        "# ***Word Tokenization***"
      ],
      "metadata": {
        "id": "NzyFR_cw46vT"
      }
    },
    {
      "cell_type": "markdown",
      "source": [
        "Instead of splitting the text into characters, we can split it into words and map each word to an integer. Using words from the outset enables the model to skip the step of learning words from characters, and thereby reduces the complexity of the training process.\n",
        "\n",
        "One simple class of word tokenizers uses whitespace to tokenize the text. We can do this by applying Python's split() function directly on the raw text (just like we did to measure the tweet lengths):"
      ],
      "metadata": {
        "id": "Gy4-WkXV5b0W"
      }
    },
    {
      "cell_type": "code",
      "source": [
        "tokenized_text = text.split()\n",
        "print(tokenized_text)"
      ],
      "metadata": {
        "colab": {
          "base_uri": "https://localhost:8080/"
        },
        "id": "Lpw6etTi4hlC",
        "outputId": "ed663571-0124-408d-a87e-a30399548122"
      },
      "execution_count": null,
      "outputs": [
        {
          "output_type": "stream",
          "name": "stdout",
          "text": [
            "['Tokenizing', 'text', 'is', 'a', 'core', 'task', 'of', 'NLP.']\n"
          ]
        }
      ]
    },
    {
      "cell_type": "markdown",
      "source": [
        "From here we can take the same steps we took for the character tokenizer to map each word to an ID. However, we can already see one potential problem with this tokenization scheme: punctuation is not accounted for, so NLP. is treated as a single token. Given that words can include declinations, conjugations, or misspellings, the size of the vocabulary can easily grow into the millions!\n",
        "\n",
        "note: Some word tokenizers have extra rules for punctuation. One can also apply stemming or lemmatization, which normalizes words to their stem (e.g., \"great\", \"greater\", and \"greatest\" all become \"great\"), at the expense of losing some information in the text.\n",
        "\n",
        "Having a large vocabulary is a problem because it requires neural networks to have an enormous number of parameters. To illustrate this, suppose we have 1 million unique words and want to compress the 1-million-dimensional input vectors to 1-thousand-dimensional vectors in the first layer of our neural network. This is a standard step in most NLP architectures, and the resulting weight matrix of this first layer would contain 1 million  1 thousand = 1 billion weights. This is already comparable to the largest GPT-2 model,footnote:[GPT-2 is the successor of GPT, and it captivated the public's attention with its impressive ability to generate realistic text. We'll explore GPT-2 in detail in <>.] which has around 1.5 billion parameters in total!\n",
        "\n",
        "Naturally, we want to avoid being so wasteful with our model parameters since models are expensive to train, and larger models are more difficult to maintain. A common approach is to limit the vocabulary and discard rare words by considering, say, the 100,000 most common words in the corpus. Words that are not part of the vocabulary are classified as \"unknown\" and mapped to a shared UNK token. This means that we lose some potentially important information in the process of word tokenization, since the model has no information about words associated with UNK.\n",
        "\n",
        "Wouldn't it be nice if there was a compromise between character and word tokenization that preserved all the input information and some of the input structure? There is: subword tokenization."
      ],
      "metadata": {
        "id": "folX_LIr6zMN"
      }
    },
    {
      "cell_type": "markdown",
      "source": [
        "## ***Subword Tokenization***"
      ],
      "metadata": {
        "id": "Uduw6Cxq77Q8"
      }
    },
    {
      "cell_type": "markdown",
      "source": [
        "The basic idea behind subword tokenization is to combine the best aspects of character and word tokenization. On the one hand, we want to split rare words into smaller units to allow the model to deal with complex words and misspellings. On the other hand, we want to keep frequent words as unique entities so that we can keep the length of our inputs to a manageable size. The main distinguishing feature of subword tokenization (as well as word tokenization) is that it is learned from the pretraining corpus using a mix of statistical rules and algorithms.\n",
        "\n",
        "There are several subword tokenization algorithms that are commonly used in NLP, but let's start with WordPiece,footnote:[M. Schuster and K. Nakajima, \"Japanese and Korean Voice Search,\" 2012 IEEE International Conference on Acoustics, Speech and Signal Processing (2012): 5149–5152, https://doi.org/10.1109/ICASSP.2012.6289079.] which is used by the BERT and DistilBERT tokenizers. The easiest way to understand how WordPiece works is to see it in action. huggingface Transformers provides a convenient AutoTokenizer class that allows you to quickly load the tokenizer associated with a pretrained model—we just call its from_pretrained() method, providing the ID of a model on the Hub or a local file path. Let's start by loading the tokenizer for DistilBERT:"
      ],
      "metadata": {
        "id": "wwxZoRVQ8Rzr"
      }
    },
    {
      "cell_type": "code",
      "source": [
        "# !pip install transformers\n",
        "from transformers import AutoTokenizer\n",
        "\n",
        "model_ckpt = \"distilbert-base-uncased\"\n",
        "tokenizer = AutoTokenizer.from_pretrained(model_ckpt)"
      ],
      "metadata": {
        "colab": {
          "base_uri": "https://localhost:8080/",
          "height": 145,
          "referenced_widgets": [
            "521244a8300944e4a587ac8d341e6c13",
            "2029736ad099489b87f5cfb33f6c4f07",
            "51021352440f4619b6cc764c14e78cd3",
            "1e9f4d77f4d743c09fe25635ff8af16b",
            "3881b81bfd75492a99f632d58bd5d008",
            "ace5fdfb5a2548c5b20f74f844ac7b57",
            "1443c2978e4c40ffa8c2fa7b25c896fb",
            "509f5e8de1d14fd283baf2db4121ed80",
            "46571fe032684e22ba4c715359d20efa",
            "d8d05ec8ab4240b69f9dbaac8b98bd9a",
            "8d1cfbb9fd004f21b7239735b056c750",
            "4a8d437a8b59438ca578812a35a50308",
            "b9c3c9323bda4cbcac6e08247abd900b",
            "f4e8fe7540594b2f92d2414e96e3ecc4",
            "074bd16b2c2c47b8bfd2366e52615788",
            "770dd90e6fb04c558e78b5307d90ffdb",
            "126cce6c0c20475e8bf630a45bd91251",
            "cfba1480710846b9b546766c778dc38e",
            "786d7382ebf44754b2015c6f1108b8d3",
            "364ad76dd9e849e4acdd33e9496b7907",
            "1ae868df0f2c49dda0f9cfad62c65af3",
            "7ad67fb242ce458ca8bd1ba489bc187b",
            "f756b5a393ad42c58a22462acfb8fc7e",
            "4eb388e9c81f443d8902664252ea0011",
            "4bb0c3767ca940779c5c29a5fcf03669",
            "94b2510de3d0486c8722f3b204fa7f65",
            "d257d1ac1f9f45ada6ce7b62fc79f9da",
            "53ea64b49a584eccacbba12c2fbe3af8",
            "f2ce196364c848a68a90292b9eac0101",
            "f013d78252684736922b30e51e9fe189",
            "9deeaeb0b9d848c3974984193e82ee11",
            "73eb94c538084b3c928b63dd61f52b13",
            "86957e92f6b74f0b97167e64148de663",
            "72c2c6853901456e8583a7a1a8e21dc7",
            "abdb3910f86f4f33b4ea0195ed2b618a",
            "801fe4aef8a94d19beb223d761133445",
            "f2845e26e5264274acde017190c475d7",
            "2c60ccaa995543af96a465b8c6eb3d1d",
            "6e0903d56bb34f4ca696f01d30b99abe",
            "9b0800bd91d84e8fb0b120ed55137ed0",
            "aa929bcd1d264b86a78fbe5833909de3",
            "63643081255d48aaa5d1cbb330e1ea92",
            "cefe27ee5742434183d7d02a15d55cb2",
            "3f0076d62106436ba202d18428591906"
          ]
        },
        "id": "ERmrIVkx8Ui6",
        "outputId": "cdbecc40-da7f-48bd-f66f-73e2da8b4719"
      },
      "execution_count": null,
      "outputs": [
        {
          "output_type": "display_data",
          "data": {
            "text/plain": [
              "Downloading:   0%|          | 0.00/28.0 [00:00<?, ?B/s]"
            ],
            "application/vnd.jupyter.widget-view+json": {
              "version_major": 2,
              "version_minor": 0,
              "model_id": "521244a8300944e4a587ac8d341e6c13"
            }
          },
          "metadata": {}
        },
        {
          "output_type": "display_data",
          "data": {
            "text/plain": [
              "Downloading:   0%|          | 0.00/483 [00:00<?, ?B/s]"
            ],
            "application/vnd.jupyter.widget-view+json": {
              "version_major": 2,
              "version_minor": 0,
              "model_id": "4a8d437a8b59438ca578812a35a50308"
            }
          },
          "metadata": {}
        },
        {
          "output_type": "display_data",
          "data": {
            "text/plain": [
              "Downloading:   0%|          | 0.00/226k [00:00<?, ?B/s]"
            ],
            "application/vnd.jupyter.widget-view+json": {
              "version_major": 2,
              "version_minor": 0,
              "model_id": "f756b5a393ad42c58a22462acfb8fc7e"
            }
          },
          "metadata": {}
        },
        {
          "output_type": "display_data",
          "data": {
            "text/plain": [
              "Downloading:   0%|          | 0.00/455k [00:00<?, ?B/s]"
            ],
            "application/vnd.jupyter.widget-view+json": {
              "version_major": 2,
              "version_minor": 0,
              "model_id": "72c2c6853901456e8583a7a1a8e21dc7"
            }
          },
          "metadata": {}
        }
      ]
    },
    {
      "cell_type": "markdown",
      "source": [
        "The AutoTokenizer class belongs to a larger set of \"auto\" classes whose job is to automatically retrieve the model's configuration, pretrained weights, or vocabulary from the name of the checkpoint. This allows you to quickly switch between models, but if you wish to load the specific class manually you can do so as well. For example, we could have loaded the DistilBERT tokenizer as follows:"
      ],
      "metadata": {
        "id": "eXOl5HIm82fI"
      }
    },
    {
      "cell_type": "code",
      "source": [
        "from transformers import DistilBertTokenizer\n",
        "\n",
        "distilbert_tokenizer = DistilBertTokenizer.from_pretrained(model_ckpt)"
      ],
      "metadata": {
        "id": "tIE0MSJW8dRy"
      },
      "execution_count": null,
      "outputs": []
    },
    {
      "cell_type": "markdown",
      "source": [
        "note: When you run the AutoTokenizer.from_pretrained() method for the first time you will see a progress bar that shows which parameters of the pretrained tokenizer are loaded from the Hugging Face Hub. When you run the code a second time, it will load the tokenizer from the cache, usually located at ~/.cache/huggingface/.\n",
        "\n",
        "Let's examine how this tokenizer works by feeding it our simple \"Tokenizing text is a core task of NLP.\" example text:"
      ],
      "metadata": {
        "id": "-VtSQdEjESuB"
      }
    },
    {
      "cell_type": "code",
      "source": [
        "encoded_text = tokenizer(text)\n",
        "print(encoded_text)"
      ],
      "metadata": {
        "colab": {
          "base_uri": "https://localhost:8080/"
        },
        "id": "hKWg1EIi8k1K",
        "outputId": "fb52d711-8250-4b66-e4b4-98da44077e3b"
      },
      "execution_count": null,
      "outputs": [
        {
          "output_type": "stream",
          "name": "stdout",
          "text": [
            "{'input_ids': [101, 19204, 6026, 3793, 2003, 1037, 4563, 4708, 1997, 17953, 2361, 1012, 102], 'attention_mask': [1, 1, 1, 1, 1, 1, 1, 1, 1, 1, 1, 1, 1]}\n"
          ]
        }
      ]
    },
    {
      "cell_type": "markdown",
      "source": [
        "Just like we saw with character tokenization, we can see that the words have been mapped to unique integers in the input_ids field. We'll discuss the role of the attention_mask field in the next section. Now that we have the input_ids, we can convert them back into tokens by using the tokenizer's convert_ids_to_tokens() method:"
      ],
      "metadata": {
        "id": "agngmkMMRAWz"
      }
    },
    {
      "cell_type": "code",
      "source": [
        "tokens = tokenizer.convert_ids_to_tokens(encoded_text.input_ids)\n",
        "print(tokens)"
      ],
      "metadata": {
        "colab": {
          "base_uri": "https://localhost:8080/"
        },
        "id": "EFtUHYBGEWlw",
        "outputId": "514631c4-2a71-4cdc-c293-7b78e14e8ae1"
      },
      "execution_count": null,
      "outputs": [
        {
          "output_type": "stream",
          "name": "stdout",
          "text": [
            "['[CLS]', 'token', '##izing', 'text', 'is', 'a', 'core', 'task', 'of', 'nl', '##p', '.', '[SEP]']\n"
          ]
        }
      ]
    },
    {
      "cell_type": "markdown",
      "source": [
        "We can observe three things here. First, some special [CLS] and [SEP] tokens have been added to the start and end of the sequence. These tokens differ from model to model, but their main role is to indicate the start and end of a sequence. Second, the tokens have each been lowercased, which is a feature of this particular checkpoint. Finally, we can see that \"tokenizing\" and \"NLP\" have been split into two tokens, which makes sense since they are not common words. The ## prefix in ##izing and ##p means that the preceding string is not whitespace; any token with this prefix should be merged with the previous token when you convert the tokens back to a string. The AutoTokenizer class has a convert_tokens_to_string() method for doing just that, so let's apply it to our tokens:"
      ],
      "metadata": {
        "id": "kZVj4PB4Rn6o"
      }
    },
    {
      "cell_type": "code",
      "source": [
        "print(tokenizer.convert_tokens_to_string(tokens))"
      ],
      "metadata": {
        "colab": {
          "base_uri": "https://localhost:8080/"
        },
        "id": "ldHbk_XrQwdy",
        "outputId": "6c307bae-2689-433f-adef-59496ea4c414"
      },
      "execution_count": null,
      "outputs": [
        {
          "output_type": "stream",
          "name": "stdout",
          "text": [
            "[CLS] tokenizing text is a core task of nlp. [SEP]\n"
          ]
        }
      ]
    },
    {
      "cell_type": "markdown",
      "source": [
        "The AutoTokenizer class also has several attributes that provide information about the tokenizer. For example, we can inspect the vocabulary size:"
      ],
      "metadata": {
        "id": "W5cLOEbOSC0p"
      }
    },
    {
      "cell_type": "code",
      "source": [
        "tokenizer.vocab_size"
      ],
      "metadata": {
        "colab": {
          "base_uri": "https://localhost:8080/"
        },
        "id": "laZnk8GVQ1Dn",
        "outputId": "1bee07a2-73a4-496f-d07b-317692a109c8"
      },
      "execution_count": null,
      "outputs": [
        {
          "output_type": "execute_result",
          "data": {
            "text/plain": [
              "30522"
            ]
          },
          "metadata": {},
          "execution_count": 67
        }
      ]
    },
    {
      "cell_type": "markdown",
      "source": [
        "and the corresponding model's maximum context size:"
      ],
      "metadata": {
        "id": "tp3m7f1tSSO1"
      }
    },
    {
      "cell_type": "code",
      "source": [
        "tokenizer.model_max_length"
      ],
      "metadata": {
        "colab": {
          "base_uri": "https://localhost:8080/"
        },
        "id": "9Wh5Af1CSGfp",
        "outputId": "4bac9361-198e-4522-d6ec-d2e06b5bac2c"
      },
      "execution_count": null,
      "outputs": [
        {
          "output_type": "execute_result",
          "data": {
            "text/plain": [
              "512"
            ]
          },
          "metadata": {},
          "execution_count": 68
        }
      ]
    },
    {
      "cell_type": "markdown",
      "source": [
        "Another interesting attribute to know about is the names of the fields that the model expects in its forward pass:"
      ],
      "metadata": {
        "id": "lkDrX5lxSZhG"
      }
    },
    {
      "cell_type": "code",
      "source": [
        "tokenizer.model_input_names"
      ],
      "metadata": {
        "colab": {
          "base_uri": "https://localhost:8080/"
        },
        "id": "qdht9ANySUix",
        "outputId": "e318917b-758b-407b-e663-bbccc047504f"
      },
      "execution_count": null,
      "outputs": [
        {
          "output_type": "execute_result",
          "data": {
            "text/plain": [
              "['input_ids', 'attention_mask']"
            ]
          },
          "metadata": {},
          "execution_count": 69
        }
      ]
    },
    {
      "cell_type": "markdown",
      "source": [
        "Now that we have a basic understanding of the tokenization process for a single string, let's see how we can tokenize the whole dataset!\n",
        "\n",
        "warning: When using pretrained models, it is really important to make sure that you use the same tokenizer that the model was trained with. From the model's perspective, switching the tokenizer is like shuffling the vocabulary. If everyone around you started swapping random words like \"house\" for \"cat,\" you'd have a hard time understanding what was going on too!"
      ],
      "metadata": {
        "id": "e3JUaOfFSr41"
      }
    },
    {
      "cell_type": "markdown",
      "source": [
        "# ***Tokenizing the Whole Dataset***"
      ],
      "metadata": {
        "id": "dxEQLSzNSurr"
      }
    },
    {
      "cell_type": "markdown",
      "source": [
        "To tokenize the whole corpus, we'll use the map() method of our DatasetDict object. We'll encounter this method many times throughout this book, as it provides a convenient way to apply a processing function to each element in a dataset. As we'll soon see, the map() method can also be used to create new rows and columns.\n",
        "\n",
        "To get started, the first thing we need is a processing function to tokenize our examples with:"
      ],
      "metadata": {
        "id": "4FNGToyITDC9"
      }
    },
    {
      "cell_type": "code",
      "source": [
        "def tokenize(batch):\n",
        "    return tokenizer(batch[\"text\"], padding=True, truncation=True)"
      ],
      "metadata": {
        "id": "83Y74Q9gSxY_"
      },
      "execution_count": null,
      "outputs": []
    },
    {
      "cell_type": "markdown",
      "source": [
        "This function applies the tokenizer to a batch of examples; padding=True will pad the examples with zeros to the size of the longest one in a batch, and truncation=True will truncate the examples to the model's maximum context size. To see tokenize() in action, let's pass a batch of two examples from the training set:"
      ],
      "metadata": {
        "id": "f8L7fOCaTabT"
      }
    },
    {
      "cell_type": "code",
      "source": [
        "print(tokenize(emotions[\"train\"][:2]))"
      ],
      "metadata": {
        "colab": {
          "base_uri": "https://localhost:8080/"
        },
        "id": "sboFNbcxTTJ8",
        "outputId": "3ff5b482-26b8-46f2-8603-c465755a7265"
      },
      "execution_count": null,
      "outputs": [
        {
          "output_type": "stream",
          "name": "stdout",
          "text": [
            "{'input_ids': [[101, 1045, 2134, 2102, 2514, 26608, 102, 0, 0, 0, 0, 0, 0, 0, 0, 0, 0, 0, 0, 0, 0, 0, 0], [101, 1045, 2064, 2175, 2013, 3110, 2061, 20625, 2000, 2061, 9636, 17772, 2074, 2013, 2108, 2105, 2619, 2040, 14977, 1998, 2003, 8300, 102]], 'attention_mask': [[1, 1, 1, 1, 1, 1, 1, 0, 0, 0, 0, 0, 0, 0, 0, 0, 0, 0, 0, 0, 0, 0, 0], [1, 1, 1, 1, 1, 1, 1, 1, 1, 1, 1, 1, 1, 1, 1, 1, 1, 1, 1, 1, 1, 1, 1]]}\n"
          ]
        }
      ]
    },
    {
      "cell_type": "markdown",
      "source": [
        "Here we can see the result of padding: the first element of input_ids is shorter than the second, so zeros have been added to that element to make them the same length. These zeros have a corresponding [PAD] token in the vocabulary, and the set of special tokens also includes the [CLS] and [SEP] tokens that we encountered earlier:"
      ],
      "metadata": {
        "id": "enIZlUtQUC_q"
      }
    },
    {
      "cell_type": "code",
      "source": [
        "#hide_input\n",
        "tokens2ids = list(zip(tokenizer.all_special_tokens, tokenizer.all_special_ids))\n",
        "data = sorted(tokens2ids, key=lambda x : x[-1])\n",
        "df = pd.DataFrame(data, columns=[\"Special Token\", \"Special Token ID\"])\n",
        "df.T"
      ],
      "metadata": {
        "colab": {
          "base_uri": "https://localhost:8080/",
          "height": 112
        },
        "id": "j4rVD23rTdWK",
        "outputId": "ee268c73-7eea-425a-bb22-a8c54429319d"
      },
      "execution_count": null,
      "outputs": [
        {
          "output_type": "execute_result",
          "data": {
            "text/plain": [
              "                      0      1      2      3       4\n",
              "Special Token     [PAD]  [UNK]  [CLS]  [SEP]  [MASK]\n",
              "Special Token ID      0    100    101    102     103"
            ],
            "text/html": [
              "\n",
              "  <div id=\"df-3a5f0e28-471e-42be-a7f9-f709a765d832\">\n",
              "    <div class=\"colab-df-container\">\n",
              "      <div>\n",
              "<style scoped>\n",
              "    .dataframe tbody tr th:only-of-type {\n",
              "        vertical-align: middle;\n",
              "    }\n",
              "\n",
              "    .dataframe tbody tr th {\n",
              "        vertical-align: top;\n",
              "    }\n",
              "\n",
              "    .dataframe thead th {\n",
              "        text-align: right;\n",
              "    }\n",
              "</style>\n",
              "<table border=\"1\" class=\"dataframe\">\n",
              "  <thead>\n",
              "    <tr style=\"text-align: right;\">\n",
              "      <th></th>\n",
              "      <th>0</th>\n",
              "      <th>1</th>\n",
              "      <th>2</th>\n",
              "      <th>3</th>\n",
              "      <th>4</th>\n",
              "    </tr>\n",
              "  </thead>\n",
              "  <tbody>\n",
              "    <tr>\n",
              "      <th>Special Token</th>\n",
              "      <td>[PAD]</td>\n",
              "      <td>[UNK]</td>\n",
              "      <td>[CLS]</td>\n",
              "      <td>[SEP]</td>\n",
              "      <td>[MASK]</td>\n",
              "    </tr>\n",
              "    <tr>\n",
              "      <th>Special Token ID</th>\n",
              "      <td>0</td>\n",
              "      <td>100</td>\n",
              "      <td>101</td>\n",
              "      <td>102</td>\n",
              "      <td>103</td>\n",
              "    </tr>\n",
              "  </tbody>\n",
              "</table>\n",
              "</div>\n",
              "      <button class=\"colab-df-convert\" onclick=\"convertToInteractive('df-3a5f0e28-471e-42be-a7f9-f709a765d832')\"\n",
              "              title=\"Convert this dataframe to an interactive table.\"\n",
              "              style=\"display:none;\">\n",
              "        \n",
              "  <svg xmlns=\"http://www.w3.org/2000/svg\" height=\"24px\"viewBox=\"0 0 24 24\"\n",
              "       width=\"24px\">\n",
              "    <path d=\"M0 0h24v24H0V0z\" fill=\"none\"/>\n",
              "    <path d=\"M18.56 5.44l.94 2.06.94-2.06 2.06-.94-2.06-.94-.94-2.06-.94 2.06-2.06.94zm-11 1L8.5 8.5l.94-2.06 2.06-.94-2.06-.94L8.5 2.5l-.94 2.06-2.06.94zm10 10l.94 2.06.94-2.06 2.06-.94-2.06-.94-.94-2.06-.94 2.06-2.06.94z\"/><path d=\"M17.41 7.96l-1.37-1.37c-.4-.4-.92-.59-1.43-.59-.52 0-1.04.2-1.43.59L10.3 9.45l-7.72 7.72c-.78.78-.78 2.05 0 2.83L4 21.41c.39.39.9.59 1.41.59.51 0 1.02-.2 1.41-.59l7.78-7.78 2.81-2.81c.8-.78.8-2.07 0-2.86zM5.41 20L4 18.59l7.72-7.72 1.47 1.35L5.41 20z\"/>\n",
              "  </svg>\n",
              "      </button>\n",
              "      \n",
              "  <style>\n",
              "    .colab-df-container {\n",
              "      display:flex;\n",
              "      flex-wrap:wrap;\n",
              "      gap: 12px;\n",
              "    }\n",
              "\n",
              "    .colab-df-convert {\n",
              "      background-color: #E8F0FE;\n",
              "      border: none;\n",
              "      border-radius: 50%;\n",
              "      cursor: pointer;\n",
              "      display: none;\n",
              "      fill: #1967D2;\n",
              "      height: 32px;\n",
              "      padding: 0 0 0 0;\n",
              "      width: 32px;\n",
              "    }\n",
              "\n",
              "    .colab-df-convert:hover {\n",
              "      background-color: #E2EBFA;\n",
              "      box-shadow: 0px 1px 2px rgba(60, 64, 67, 0.3), 0px 1px 3px 1px rgba(60, 64, 67, 0.15);\n",
              "      fill: #174EA6;\n",
              "    }\n",
              "\n",
              "    [theme=dark] .colab-df-convert {\n",
              "      background-color: #3B4455;\n",
              "      fill: #D2E3FC;\n",
              "    }\n",
              "\n",
              "    [theme=dark] .colab-df-convert:hover {\n",
              "      background-color: #434B5C;\n",
              "      box-shadow: 0px 1px 3px 1px rgba(0, 0, 0, 0.15);\n",
              "      filter: drop-shadow(0px 1px 2px rgba(0, 0, 0, 0.3));\n",
              "      fill: #FFFFFF;\n",
              "    }\n",
              "  </style>\n",
              "\n",
              "      <script>\n",
              "        const buttonEl =\n",
              "          document.querySelector('#df-3a5f0e28-471e-42be-a7f9-f709a765d832 button.colab-df-convert');\n",
              "        buttonEl.style.display =\n",
              "          google.colab.kernel.accessAllowed ? 'block' : 'none';\n",
              "\n",
              "        async function convertToInteractive(key) {\n",
              "          const element = document.querySelector('#df-3a5f0e28-471e-42be-a7f9-f709a765d832');\n",
              "          const dataTable =\n",
              "            await google.colab.kernel.invokeFunction('convertToInteractive',\n",
              "                                                     [key], {});\n",
              "          if (!dataTable) return;\n",
              "\n",
              "          const docLinkHtml = 'Like what you see? Visit the ' +\n",
              "            '<a target=\"_blank\" href=https://colab.research.google.com/notebooks/data_table.ipynb>data table notebook</a>'\n",
              "            + ' to learn more about interactive tables.';\n",
              "          element.innerHTML = '';\n",
              "          dataTable['output_type'] = 'display_data';\n",
              "          await google.colab.output.renderOutput(dataTable, element);\n",
              "          const docLink = document.createElement('div');\n",
              "          docLink.innerHTML = docLinkHtml;\n",
              "          element.appendChild(docLink);\n",
              "        }\n",
              "      </script>\n",
              "    </div>\n",
              "  </div>\n",
              "  "
            ]
          },
          "metadata": {},
          "execution_count": 86
        }
      ]
    },
    {
      "cell_type": "markdown",
      "source": [
        "Also note that in addition to returning the encoded tweets as input_ids, the tokenizer returns a list of attention_mask arrays. This is because we do not want the model to get confused by the additional padding tokens: the attention mask allows the model to ignore the padded parts of the input.Figure Below provides a visual explanation of how the input IDs and attention masks are padded.\n",
        "\n",
        "![image.png](data:image/png;base64,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)\n",
        "\n",
        "\n",
        "Once we've defined a processing function, we can apply it across all the splits in the corpus in a single line of code:"
      ],
      "metadata": {
        "id": "p7dOjoRWWGgn"
      }
    },
    {
      "cell_type": "code",
      "source": [
        "# hide_output\n",
        "emotions_encoded = emotions.map(tokenize, batched=True, batch_size=None)"
      ],
      "metadata": {
        "colab": {
          "base_uri": "https://localhost:8080/",
          "height": 151,
          "referenced_widgets": [
            "164d337014cf4109965fbf8392aae787",
            "dba79a116793464eb446c99ebaa97f73",
            "c36fd837796b47c380f2c3f624435581",
            "be78fc78e86c42b7815037d5b7e3c915",
            "db58bc92ff184f7396a6d34051fa5dcc",
            "a630cca5b2964ddabd9625efca090d7c",
            "1b245bc155bf4a388207a5cd8d0241a3",
            "07b54d44b56c49889231fcaed519374a",
            "d47682f5f2104dc0993cf738a013f414",
            "45b670b1ae5045a9a91fe514c82e82d8",
            "d6097f9e6607470ab88dd1d9acd28df2",
            "3b540e89f2aa457e83fd51425e3133b9",
            "c8c66b13f2e341ff8eb848a48f93fa4a",
            "0bce47e4b7ef42379008eb344b93c5f3",
            "5d1db3cbca5f4258862fa6cf21f875f3",
            "dd2ef4ba987c496789ca4fae81fc882b",
            "a47f7b33271c459092b6434000481af7",
            "755d7b95aaa5443cbf52674cafb428a6",
            "364375d0194442d09e36c5063210cd59",
            "776c07a50d3a491a9289a1a3e4e0a3de",
            "9f2ef1d1ae4f4bc59aa6627c7be4a324",
            "f0e2b22838e04ca296ddedcd8cc7a5fa",
            "efe6cdcbc38b4a7dbd5e82cc9bbb21ee",
            "317aa7f11ae74885b648ec39a3ee3227",
            "946d4cb6ddd8412faa57796c2d6353c4",
            "de83bc20baf04027a588bdb2dc742bb4",
            "b50272e242e24ed2990dd5ac219ed7a6",
            "739db3a8d7d44710b99ada629c8d1867",
            "571c9e48515843f3ade621214ce1c940",
            "e10d903fa41d47ec9d2e8997e373be37",
            "90bf06a9c58d4f68b51f99dc0ab771c5",
            "c8ff749c25184ba4b1547870fc0a0e92",
            "2379c638f1fa4f3f9787bf3a640ea9a4"
          ]
        },
        "id": "U0LFEgt3UF8g",
        "outputId": "a84d8208-fe3c-4a76-de5e-b96dc3347f0b"
      },
      "execution_count": null,
      "outputs": [
        {
          "output_type": "stream",
          "name": "stderr",
          "text": [
            "WARNING:datasets.fingerprint:Parameter 'function'=<function tokenize at 0x7f7d42bbcdd0> of the transform datasets.arrow_dataset.Dataset._map_single couldn't be hashed properly, a random hash was used instead. Make sure your transforms and parameters are serializable with pickle or dill for the dataset fingerprinting and caching to work. If you reuse this transform, the caching mechanism will consider it to be different from the previous calls and recompute everything. This warning is only showed once. Subsequent hashing failures won't be showed.\n"
          ]
        },
        {
          "output_type": "display_data",
          "data": {
            "text/plain": [
              "  0%|          | 0/1 [00:00<?, ?ba/s]"
            ],
            "application/vnd.jupyter.widget-view+json": {
              "version_major": 2,
              "version_minor": 0,
              "model_id": "164d337014cf4109965fbf8392aae787"
            }
          },
          "metadata": {}
        },
        {
          "output_type": "display_data",
          "data": {
            "text/plain": [
              "  0%|          | 0/1 [00:00<?, ?ba/s]"
            ],
            "application/vnd.jupyter.widget-view+json": {
              "version_major": 2,
              "version_minor": 0,
              "model_id": "3b540e89f2aa457e83fd51425e3133b9"
            }
          },
          "metadata": {}
        },
        {
          "output_type": "display_data",
          "data": {
            "text/plain": [
              "  0%|          | 0/1 [00:00<?, ?ba/s]"
            ],
            "application/vnd.jupyter.widget-view+json": {
              "version_major": 2,
              "version_minor": 0,
              "model_id": "efe6cdcbc38b4a7dbd5e82cc9bbb21ee"
            }
          },
          "metadata": {}
        }
      ]
    },
    {
      "cell_type": "markdown",
      "source": [
        "By default, the map() method operates individually on every example in the corpus, so setting batched=True will encode the tweets in batches. Because we've set batch_size=None, our tokenize() function will be applied on the full dataset as a single batch. This ensures that the input tensors and attention masks have the same shape globally, and we can see that this operation has added new input_ids and attention_mask columns to the dataset:"
      ],
      "metadata": {
        "id": "q0WKHQW0XFDC"
      }
    },
    {
      "cell_type": "code",
      "source": [
        "print(emotions_encoded[\"train\"].column_names)"
      ],
      "metadata": {
        "colab": {
          "base_uri": "https://localhost:8080/"
        },
        "id": "7aSRu_UlUsta",
        "outputId": "2faa1ee2-0c52-42b0-c615-cedaabd79dc9"
      },
      "execution_count": null,
      "outputs": [
        {
          "output_type": "stream",
          "name": "stdout",
          "text": [
            "['text', 'label', 'input_ids', 'attention_mask']\n"
          ]
        }
      ]
    },
    {
      "cell_type": "markdown",
      "source": [
        "Note: In later chapters, we'll see how data collators can be used to dynamically pad the tensors in each batch. Padding globally will come in handy in the next section, where we extract a feature matrix from the whole corpus."
      ],
      "metadata": {
        "id": "0iiA9KHNXR3W"
      }
    },
    {
      "cell_type": "markdown",
      "source": [
        "## ***Training a Text Classifier***"
      ],
      "metadata": {
        "id": "KAEyosfNXYFq"
      }
    },
    {
      "cell_type": "markdown",
      "source": [
        "As discussed in chapter 1, models like DistilBERT are pretrained to predict masked words in a sequence of text. However, we can't use these language models directly for text classification; we need to modify them slightly. To understand what modifications are necessary, let's take a look at the architecture of an encoder-based model like DistilBERT, which is depicted in figure below.\n",
        "\n",
        "![image.png](data:image/png;base64,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)\n",
        "\n",
        "First, the text is tokenized and represented as one-hot vectors called token encodings. The size of the tokenizer vocabulary determines the dimension of the token encodings, and it usually consists of 20k–200k unique tokens. Next, these token encodings are converted to token embeddings, which are vectors living in a lower-dimensional space. The token embeddings are then passed through the encoder block layers to yield a hidden state for each input token. For the pretraining objective of language modeling,⁠footnote:[In the case of DistilBERT, it's guessing the masked tokens.] each hidden state is fed to a layer that predicts the masked input tokens. For the classification task, we replace the language modeling layer with a classification layer.\n",
        "\n",
        "note: In practice, PyTorch skips the step of creating one-hot vectors for token encodings because multiplying a matrix with a one-hot vector is the same as selecting a column from the matrix. This can be done directly by getting the column with the token ID from the matrix. We'll see this in chapter 3 when we use the nn.Embedding class.\n",
        "\n",
        "We have two options to train such a model on our Twitter dataset:\n",
        "\n",
        "Feature extraction:: We use the hidden states as features and just train a classifier on them, without modifying the pretrained model.\n",
        "Fine-tuning:: We train the whole model end-to-end, which also updates the parameters of the pretrained model.\n",
        "In the following sections we explore both options for DistilBERT and examine their trade-offs."
      ],
      "metadata": {
        "id": "GHqxvgQmXpQt"
      }
    },
    {
      "cell_type": "markdown",
      "source": [
        "## ***Transformers as Feature Extractors***"
      ],
      "metadata": {
        "id": "CRSc90KiZGmr"
      }
    },
    {
      "cell_type": "code",
      "source": [
        ""
      ],
      "metadata": {
        "id": "BQ40CiWJZKyP"
      },
      "execution_count": null,
      "outputs": []
    },
    {
      "cell_type": "markdown",
      "source": [
        "Using a transformer as a feature extractor is fairly simple. As shown in figure below, we freeze the body's weights during training and use the hidden states as features for the classifier. The advantage of this approach is that we can quickly train a small or shallow model. Such a model could be a neural classification layer or a method that does not rely on gradients, such as a random forest. This method is especially convenient if GPUs are unavailable, since the hidden states only need to be precomputed once.\n",
        "\n",
        "![image.png](data:image/png;base64,iVBORw0KGgoAAAANSUhEUgAABEIAAAJkCAIAAACahRM/AAAMZGlDQ1BJQ0MgUHJvZmlsZQAASImVlwdUU8kagOeWVBJaIBQpoTdRpAaQEkKLICBVEJWQBBJKjAlBRWysiwquXUSxoqsiLu7qCshaELG7KPa+WFBR1sWCDZU3IQFd95Xz5px758s///wtc+feAUCngy+T5aG6AORLC+TxESGs8alpLNIjQAAMQAW2wJ4vUMg4cXHRALbB/u/tzVWAqPpLripb/xz/r01fKFIIAEDSIWcKFYJ8yM0A4CUCmbwAAGIolNtMK5CpWAzZQA4DhFys4mw1L1Nxppq3DegkxnMhNwJApvH58mwAtFuhnFUoyIZ2tB9CdpMKJVIAdAwgBwrEfCHkRMjD8/OnqHguZEeoL4O8EzI78yub2X+znzlkn8/PHmJ1XgONHCpRyPL4M/7P0vzvlp+nHPRhDy+aWB4Zr8of1vB67pQoFdMgd0szY2JVtYb8TiJU1x0AlCpWRiap9VEzgYIL6weYkN2E/NAoyGaQw6V5MdEaeWaWJJwHGa4WdLqkgJeombtQpAhL0NhcL58SHzvIWXIuRzO3ji8f8KvSb1XmJnE09q+LRbxB+6+LxIkpkKkAYNRCSXIMZG3IBorchCi1DmZdJObGDOrIlfGq+G0hs0XSiBC1fSw9Sx4er9GX5SsG88VKxRJejIYrC8SJker6YLsE/IH4jSHXi6ScpEE7IsX46MFchKLQMHXuWJtImqTJF7srKwiJ18ztkeXFafRxsigvQiW3hmyqKEzQzMVHF8DFqbaPR8sK4hLVceIZOfwxcep48EIQDbggFLCAEl6ZYArIAZK27oZu+Es9Eg74QA6ygQi4aiSDM1IGRqTwngCKwJ+QREAxNC9kYFQECqH805BUfXcFWQOjhQMzcsEjyPkgCuTB38qBWdIhb8ngIZRI/uFdAGPNg5dq7J8yDpREayTKQbssnUFNYhgxlBhJDCc64aZ4IO6PR8N7MLzccTbuOxjtF33CI0I74T7hCqGDcGOypET+TSxjQQe0H67JOPPrjHF7aNMLD8EDoHVoGWfipsAV94R+OHgQ9OwFpVxN3KrcWf8mz6EMvqq5Ro/iRkEpRpRgiuO3M7Wdtb2GrKgq+nV91LFmDlWVOzTyrX/uV3UWwj7qW01sIbYPO4kdxU5jB7EGwMKOYI3YOeyQiofW0MOBNTToLX4gnlxoR/IPf3yNT1UlFW61bl1uHzVjoEA0vUD1gHGnyGbIJdniAhYHvgVELJ5UMGI4y93N3R0A1TtFvU29Yg68KxDmmS8y6Qe4vcI9Flv5RcaHe3MD3CN0i7/I7OG7QdcIgCPmAqW8UC3DVTcC3A104BNlAiyADXCEGbkDb+APgkEYGANiQSJIBZNgncVwPcvBNFAM5oFSUA6WgdVgHdgEtoKd4CewFzSAg+AoOAHOggvgCrgF108neAZ6wBvQhyAICaEjDMQEsUTsEBfEHWEjgUgYEo3EI6lIBpKNSBElUox8h5QjK5B1yBakBvkFOYAcRU4j7cgN5B7ShbxEPqAYSkMNUHPUHh2JslEOGoUmohPRbHQqWoTOR5eglWg1uhutR4+iZ9EraAf6DO3FAKaFMTErzBVjY1wsFkvDsjA5NhsrwyqwaqwOa4L/9CWsA+vG3uNEnIGzcFe4hiPxJFyAT8Vn44vxdfhOvB5vxS/h9/Ae/DOBTjAjuBD8CDzCeEI2YRqhlFBB2E7YTzgOn6ZOwhsikcgkOhB94NOYSswhziQuJm4g7iE2E9uJD4i9JBLJhORCCiDFkvikAlIpaS1pN+kI6SKpk/SOrEW2JLuTw8lpZCm5hFxB3kU+TL5Ifkzuo+hS7Ch+lFiKkDKDspSyjdJEOU/ppPRR9agO1ABqIjWHOo9aSa2jHqfepr7S0tKy1vLVGqcl0ZqrVan1s9YprXta72n6NGcal5ZOU9KW0HbQmmk3aK/odLo9PZieRi+gL6HX0I/R79LfaTO0R2jztIXac7SrtOu1L2o/16Ho2OlwdCbpFOlU6OzTOa/TrUvRtdfl6vJ1Z+tW6R7Qvabbq8fQG6UXq5evt1hvl95pvSf6JH17/TB9of58/a36x/QfMDCGDYPLEDC+Y2xjHGd0GhANHAx4BjkG5QY/GbQZ9BjqG3oaJhtON6wyPGTYwcSY9kweM4+5lLmXeZX5wcjciGMkMlpkVGd00eit8TDjYGORcZnxHuMrxh9MWCZhJrkmy00aTO6Y4qbOpuNMp5luND1u2j3MYJj/MMGwsmF7h900Q82czeLNZpptNTtn1mtuYR5hLjNfa37MvNuCaRFskWOxyuKwRZclwzLQUmK5yvKI5VOWIYvDymNVslpZPVZmVpFWSqstVm1WfdYO1knWJdZ7rO/YUG3YNlk2q2xabHpsLW3H2hbb1tretKPYse3EdmvsTtq9tXewT7FfYN9g/8TB2IHnUORQ63Dbke4Y5DjVsdrxshPRie2U67TB6YIz6uzlLHaucj7vgrp4u0hcNri0DycM9x0uHV49/JorzZXjWuha63pvBHNE9IiSEQ0jno+0HZk2cvnIkyM/u3m55bltc7s1Sn/UmFElo5pGvXR3dhe4V7lf9qB7hHvM8Wj0eOHp4iny3Oh53YvhNdZrgVeL1ydvH2+5d513l4+tT4bPep9rbAN2HHsx+5QvwTfEd47vQd/3ft5+BX57/f7yd/XP9d/l/2S0w2jR6G2jHwRYB/ADtgR0BLICMwI3B3YEWQXxg6qD7gfbBAuDtwc/5jhxcji7Oc9D3ELkIftD3nL9uLO4zaFYaERoWWhbmH5YUti6sLvh1uHZ4bXhPRFeETMjmiMJkVGRyyOv8cx5Al4Nr2eMz5hZY1qjaFEJUeui7kc7R8ujm8aiY8eMXTn2doxdjDSmIRbE8mJXxt6Jc4ibGvfbOOK4uHFV4x7Fj4ovjj+ZwEiYnLAr4U1iSOLSxFtJjknKpJZkneT05JrktymhKStSOsaPHD9r/NlU01RJamMaKS05bXta74SwCasndKZ7pZemX53oMHH6xNOTTCflTTo0WWcyf/K+DEJGSsaujI/8WH41vzeTl7k+s0fAFawRPBMGC1cJu0QBohWix1kBWSuynmQHZK/M7hIHiSvE3RKuZJ3kRU5kzqact7mxuTty+/NS8vbkk/Mz8g9I9aW50tYpFlOmT2mXuchKZR1T/aauntojj5JvVyCKiYrGAgP48X5O6aj8XnmvMLCwqvDdtORp+6brTZdOPzfDecaiGY+Lwot+nInPFMxsKbYqnld8bxZn1pbZyOzM2S1zbObMn9M5N2LuznnUebnzfi9xK1lR8vq7lO+a5pvPnzv/wfcR39eWapfKS68t8F+waSG+ULKwbZHHorWLPpcJy86Uu5VXlH9cLFh85odRP1T+0L8ka0nbUu+lG5cRl0mXXV0etHznCr0VRSserBy7sn4Va1XZqterJ68+XeFZsWkNdY1yTUdldGXjWtu1y9Z+XCded6UqpGrPerP1i9a/3SDccHFj8Ma6Teabyjd92CzZfH1LxJb6avvqiq3ErYVbH21L3nbyR/aPNdtNt5dv/7RDuqNjZ/zO1hqfmppdZruW1qK1ytqu3em7L/wU+lNjnWvdlj3MPeU/g5+VPz/9JeOXq3uj9rbsY++r+9Xu1/X7GfvL6pH6GfU9DeKGjsbUxvYDYw60NPk37f9txG87DlodrDpkeGjpYerh+Yf7jxQd6W2WNXcfzT76oGVyy61j449dbh3X2nY86vipE+Enjp3knDxyKuDUwdN+pw+cYZ9pOOt9tv6c17n9v3v9vr/Nu63+vM/5xgu+F5raR7cfvhh08eil0EsnLvMun70Sc6X9atLV69fSr3VcF15/ciPvxoubhTf7bs29Tbhddkf3TsVds7vVfzj9safDu+PQvdB75+4n3L/1QPDg2UPFw4+d8x/RH1U8tnxc88T9ycGu8K4LTyc87Xwme9bXXfqn3p/rnzs+//Wv4L/O9Yzv6Xwhf9H/cvErk1c7Xnu+bumN6737Jv9N39uydybvdr5nvz/5IeXD475pH0kfKz85fWr6HPX5dn9+f7+ML+cPfApg8EKzsgB4uQMAeioAjAvwmDBBfeYbaIj6nDpA4D+x+lw40LwB2NoMQOJcAGJgvzkYfoNA1oG96lM9MRigHh5Dl6Ypsjzc1bZo8MRDeNff/8ocAFITAJ/k/f19G/r7P8EzKnYDgOap6rOmqhHh2WCz6kwErm5fMOh/qKnPoV/l+G0PVBF4gm/7fwEsSoY39ppXcwAAADhlWElmTU0AKgAAAAgAAYdpAAQAAAABAAAAGgAAAAAAAqACAAQAAAABAAAEQqADAAQAAAABAAACZAAAAADDhA+EAABAAElEQVR4AezdC3xV5Z3/e5NIlELCQKHQJChXk3ppUBsuMmADKjod6wUrbf8zB/krvcx08H9Gz/Gc+Q/pv2TqHGe0r+pM7cxYh9rpayxtEXvxr1aEFuoFMq1gW0uUm1yiGArNhYKBkPOFBx8We+/s7Mu6r09eecHK2s96Lu9nZ2f/9nNZJX19fWfxhQACCCCAAAIIIIAAAghER6A0OlWlpggggAACCCCAAAIIIIDACQHCGJ4HCCCAAAIIIIAAAgggEDEBwpiIdRjVRQABBBBAAAEEEEAAAcIYngMIIIAAAggggAACCCAQMQHCmIh1GNVFAAEEEEAAAQQQQAABwhieAwgggAACCCCAAAIIIBAxAcKYiHUY1UUAAQQQQAABBBBAAAHCGJ4DCCCAAAIIIIAAAgggEDEBwpiIdRjVRQABBBBAAAEEEEAAAcIYngMIIIAAAggggAACCCAQMQHCmIh1GNVFAAEEEEAAAQQQQAABwhieAwgggAACCCCAAAIIIBAxAcKYiHUY1UUAAQQQQAABBBBAAAHCGJ4DCCCAAAIIIIAAAgggEDEBwpiIdRjVRQABBBBAAAEE4iHw29d+/clP/Km+v7n83+LRIlrhp8DZfhZGWQgggAACCCCAAAJBCShs2LDhxW1b33jj9d+aOky+4EP19ZdedPGHP3Thxf7X6tChQ6bQ0R8YY0tXVKPjiorKR/79P+1JDhBIFyCMSTfhDAIIIIAAAgggECuBN9/c8Y1/e9hGL7ZtOqPv73/vP2/5xKdvufXT9rw/B+3v7DMFjfrAaHOgepqDSZNr/akDpURXgDAmun1HzRFAAAEEEEAAgYEFfvbTNd/+1je6ujpN0ksva/jwhy81x6+++sorv2zR8b59bw+ckdsptm/farIcMmSIOWh/5x1zMHHiZLdLy5afxqn08PuGDDn//PHZ0vFYmAQIY8LUG9QFAQQQQAABBBBwVUDjG1//2ldMlrNmz1nwyT8bOeoDtoTrPvbxP/zh0M/WPm/P+HnQ3d1lirNT2j7SMO073/uxn3VQWSL60hf/Hx3I5y//6q99Lp3iChbINYw5dKg7Sxnl5eWDBpVnScBDCCCAAAIIIIAAAj4LKET56lfuM4Ve+ycfv23RZ9Ir8L73DVEwk37ehzNmIOiDVTU+lJWliD+8t0RnwoRJWZLxUNgEsoUxCl0OHjzQ3d3d09OTS72HDh1aWTls+PARZWVluaQnDQIIIIAAAggggIB3Ahpmeattj/LXUv6MMYx3RQ+Ys0Isk2bMmA8OmNjTBDt3bDf5v2/IUE8LInN3BTKHMUeP9uzevUsBTF6FKb2+NLdy9OgxI0eOyutaEiOAAAIIIIAAAgi4K/DEyu+YDD/93xa6m3Pxub2589Rqfp+XwaTXfN87p9YFfeADp6fbpSfjTNgEMoQxGoTZuXNHb29vYXXVhW1te5VJTc15DMsUZshVCCCAAAIIIIBAkQJa2W+W9Wsoxi4+ySXP+/7+S2a6l5apaO37mud/sn7dmvQdkPe3v9Oy8WVtEvD2229pzEcJtL3Y6DEfHD9+0pUfnZNS0NNP/dCmdO4xoGRDHGMgZrdlVbj5y/+YkoOK++na1Zs3v6Kt1TQPbdKkC+bMvSa9XV/7p6+otrr23x9boX81HmW3MdDSl5RLTHG2ILNCRj/aRTKm0G3b3tj6RqswTbkXXzIlvYE2Ew58E0gNYxR+bNt2ateIYirR0dHR27uDKYbFGHItAggggAACCCBQsMCvf7XJXHvFFbPyykRv2ZVesYRij8e+eerGlCk7IDsfMpnrXb5d6+J8l68F9FqfY+a2mZRKZlKaH8eNn2AO7G7LWqdgzth/UzZbU276VriSvk+0Yipz1Wu/+fW/fv1BE8iZM0qv739++N/NJgcKUWz+KQfmHWxKoUpjy92xY2vYJumlNCEJP54RxmggReMwbjXbTjBzK0PyQQABBBBAAAEEEMhRYNMr/2VSNkydnuMlSqYlK+atv7mljM5o8ET/2j2adfzN5f/2zP/+oQ40OjFz5mzdPVPHv/n1q7r/jA6ca10Umfzdl/6nyVB7DFx8cb32VtZaFDtCovTnjzu1x7Fdau8sSwn+q2WD2WxNxV1zzZ8o7FEOmi+nbFViyr07VW1doq/7/6H5RPVmfdTcW/MnP/nfJpTSkI65Q462V/7il/6/d955x2SusM1OvRs16gMKcuwu1QqWxo2fqJorsQKYF9b/1Hm/TlMc//ovcEYY89ZbewueS5ax6lonM2LECDYxy4jDSQQQQAABBBBAwCMBxQ8meNBbeecOywMWZ5es6MIbb7rVOa5irv3+d//TxDAKS25d8N+00ZnN04QxziBE99w01VDAYCeA6UB7o/2fd37OxBU2h4xL7RVWaVBFRag+X/77B0xi5aDl+Cb82LDhRZuzHWDRDLc/+z/ucFZesdwX/uK/Kx/NEDMVVlYnLzxxxxh9aczK5qMfNdxkar7wts/Yndw+dOFZylOtthHXyUv5JxiBUluslvUfOHDA/ujWQSB3U3Kr8uSDAAIIIIAAAghEUWDnjlPza+qnXJZX/TXgYNJr3MMZBpiTWipjYhUN0WhWlY1A9KgNQmxxmpRlxkYUCTgjBJPAxDBmqMecybjUXotbTDjxmc9+wVmcrdu+92aRKZP29+aJzbv2T20Ck3l/sVx6tU16jReZAxvDmB/1r6rRX242DQc+CJwOY7SaxYvyPMrWi6qSJwIIIIAAAgggEA+B9vd238p3+tMf3rtV4KgPjE6n+OEPVpqTt9/x+ZRHbRBi17qsfu5ppdHAyJWNc1MSKxwyZ7QlgH3IBiTOmMdstqahGOdJe0nKgY1JnNsGmDR2oMY5WKSHtCzcJLDVTsnTXphynh8DFzg9qayz05MwRrPU9PxIfzIF3nIqgAACCCCAAAIIxFXATp1Kf3eesj2XBDQkcs//+0VDYUchRqXtPqw39GZpvjbySh+OsEGIWeuixGYoRqtTnKMoppRD791x0hllmcwV9thOUbRjhmK0AseeNAf2tjPO8+mhlH3UDtTYM+bAQtklOua8oh1Tnwe/+o93/o//K729Kfnwo/8Cp8OYw4cPe1S8ciaM8ciWbBFAAAEEEEAAgSwCWq3ufNTuBuY86Ryg0BZN5qHzzz+18t6m/M1vTg2haMdhe9IemP3NFISYoOV04ovrbRp70P7OPnNsoywblji3RHOOrtgBHHOhfSjjeE5KTKJLbHpbosknpdrmpP7VCJLZRUDBmBbVaCHQn/7pjQQz1icMB6fDGHcX9zvb5l3OzlI4RgABBBBAAAEEEDACdkfjlHfeQ943RCtVTBq7XZjz7vVmCEXbdqVLapMuc/Kiiy5OedTub2aDEDurbdx7G5E5L9m+/VRWNsqyWws474Zpk9l9n52ZmGPneE5/MYlS2oEaW6JOplfb5q9g7G+/+GW7VbR2NdB3+v7ONj0H/gucDmP8L5sSEUAAAQQQQAABBPwUUFRj16zbd/b27vV2rMa5abKtnp02lhIaKUF6EGIna6UnVnp7dxf7qB0tcU7h6e7usqX3d2BHV7LEJLo2Y+XTq+0sReNR2htNewyYYRk9pO0N1C47Ac+ZmGP/BQhj/DenRAQQQAABBBBAIHgB+87erp63+whnvIO5iT2ce4vZNqQHIWZyWsbEuirLmI8NS5TMjCk5l+7YEtMPbEzinGZmk5mBmpT6pFfbpjcHGpNR1KcJZgpmzIiQqqQd2FK2QUu5ih/9ETi9U5k/5VEKAggggAACCCCAgNcC2trLFJFloy0TJNiUSm/f1junmdmqmi2S7Y/Og/T9vkyg4kxjjzOO+ZzeWuDMxTz2qgEPbOWd08zMVXagZujQioz5OGOn9AQmmLGT8X79q03paTjjvwBhjP/mlIgAAggggAACCHgrMGnSBaYAu9Q+pTwb3jjnj6VPM0u5qr8f7RQy58qT/hK3v3drGueYT/o0s/4uH/B8ekxiB2qcJSqfvGInOxkvl6luA1aSBMULEMYUb0gOCCCAAAIIIIBAuATsZmLm5i3pldu589T9MZ3blKVPM3NeaLZCNrPFnOd1bKZs6cCudTEJMia225Q5b02TfjdM5WB2GrDbFZg8+/s3S0xiB2pSRpnyip1s4Jdx0lp/teK8dwKEMd7ZkjMCCCCAAAIIIBCMQMPUaSbq0OSuby7/N82qSqmHjSWc7+zTp5k5rzK7kClDOyvMPPpfLRvM3V2cK0/McXpi1eTFF9ebC4cMGWIO7GbKKRHCFVfMMgmefuqH5sD5r+IKG1rofJaYxM55s5sZmHwyTpNT67T6xVmQOf7xj580B+PHT0p/lDP+C7DE339zSkQAAQQQQAABBLwV0HKOz37+zvv/oVnFaKfgF9b/dMqlH7FTqjRwYcdP7Dt7G+o4p5k5azl9xiwT5/zdl/7nzfM/qblb77zzzssvrbejJc4gJGNibdmsytg87dYCGe+GqWQNU6ebXcK0vF6bL2uISbVVYsVgioUUI33nez+2uWUczzGP2jlvtkRzXuuCzFVf+6evzJl7jamGMldx3/7WN3TjTrPMRlHQCy+sMyl1Cev7rXmwB4QxwfpTOgIIIIAAAggg4InARxqm3f1/L/3Xrz+ooRJ9r1+3Rt8pJWnExr6ztwtInNPMnOn19l2r25WJcnPeyEV3U9FOxErpXFvfX2LdR3Lb1jcUgTi3FrBDQynLWjRF7a/v/puv3H9vxvo7B3/seE7GRfz2fjLO5uj4mmv+xDTE4mgdvxmeUonOiMtcqDr/j7++JyUTfgxKgDAmKHnKRQABBBBAAAEEvBVQJHPhRY9os2Az/KK35ipPoYumh+kuk+PGT1QCWwO7gMSeST/4y7/6aw3pKDeNwGjhysRJk8297U0YkxKEKLHGT8xwjUk8bdoVipru+/svKWfnmI+9zeX73ptmZotW+gf/+YwmKCtdq5ydoyJ2PMeOONkc7DZl9tac9iGt2lfQouVDJqyqn3KZxn8UO+n+nj9du3rz5ld0XomNmKI77bysYS57OQfBCpT09fWZGrz6qlebx40ePUbfwbaT0hFAAAEEEEAAAQQQQCA2Aizxj01X0hAEEEAAAQQQQAABBJIiQBiTlJ6mnQgggAACCCCAAAIIxEaAMCY2XUlDEEAAAQQQQAABBBBIigBhTFJ6mnYigAACCCCAAAIIIBAbAcKY2HQlDUEAAQQQQAABBBBAICkChDFJ6WnaiQACCCCAAAIIIIBAbAQIY2LTlTQEAQQQQAABBBBAAIGkCBDGJKWnaScCCCCAAAIIIIAAArERIIyJTVfSEAQQQAABBBBAAAEEkiJAGJOUnqadCCCAAAIIIIAAAgjERoAwJjZdSUMQQAABBBBAAAEEEEiKAGFMUnqadiKAAAIIIIAAAgggEBsBwpjYdCUNQQABBBBAAAEEEEAgKQKEMUnpadqJAAIIIICARwItLS1z5syprq5+7LHHPCrCmW1XV9dDDz3kPMMxAggkUIAwJoGdTpMRQAABBBBwU+C+++5bu3ZtW1vbbbfdpn/dzDotL8UwN9xww7p169Ie4QQCCCRLgDAmWf1NaxFAAAEEEHBdYOvWra7nmTFDxUiKYRQyZXyUkwggkCgBwphEdTeNRQABBBBAwH2BL37xi1VVVcr3rrvuMgful3HWWa2trQ0NDcQwXtiSJwJRFDg7ipWmzggggAACCCAQHoGbbrrpqquu0nQvT2MYLb/xesZaeEipCQIIDChAGDMgEQkQQAABBBBAYACBipNfAyQq9GGNwxDDFIrHdQjEVoBJZbHtWhqGAAIIIIBADARWrVpVV1fHOEwMupImIOCugDujMcOGDausHDZ48OBzzx3sbv3IDQEEEEAAAQQSK6AY5uabb05s82k4AghkESg2jBkxYsTo0WMGDSrPUgYPIYAAAggggAAC+QoQw+QrRnoEEiVQ+KSysrKyiRMn1dScRwyTqGcMjUUAAQQQQMAHgebmZsZhfHCmCASiK1DgaIzmj02YMEmRjG35wYMHOjs7uru7e3t77cn+DnT5kCFDNZLDJLT+iDiPAAIIIIBAYgXuvvvuBx54ILHNp+EIIJCLQCFhTHl5uTOGUfTS1ra3p6cnl/JMmsMnv/bvb9eimqqqasZzcqcjJQIIIIAAAvEWIIaJd//SOgTcEihkUtm4cePtOMyePbt27tyRVwzjrHpHR8frr7ceOXLYeZJjBBBAAAEEEIiQgLYRU+xxxx13tLS0FFNt3XmGGKYYQK5FIFECeY/GaEG/nQmmGObAgQNFemkS2rZtW7XMxmZbZIZcjgACCCCAAAJ+CixZsmTlypUq8dFHH927d29hN8FUDHPDDTesXbvWz5pTFgIIRFcgvzBGgzAjR44yrdWUsOJjGJOViWTq6i60gzzRBaXmCCCAAAIIJE3AxDCm1YWFMfnGMFu3bn3ooYeS5kx7EUDAKVDS19dnfn711U3OBzIeayhG33ro6NEeTQbLZTV/xnwyntSKf+17lvEhTiKAAAIIIIBAaAVuueUWE8loHGbLli0VFRV5VTXfGCavzEmMAAJxFchvbYwiDQPR3t7ubgyjbDW2o+gortC0CwEEEEAAgbgKLF++/Jvf/OaDDz6otTH5xjAy0SWXXXZZXHFoFwIIeCSQx6QybVBmtxTT9speVEgr/u2kNS/yJ0//BRSaKkA9dKhbu9NlD301pdDuxG2faf5XmBIRQAABK6BXMP1h0oac2slmwM1shg4dqkWeybyXgOKQhQsXWrcCDu6//35dlfsmy42Njffdd18BBXEJAgjERiC/MMY0WxuLZX8/WrCO/lQQxhSsF7YL9ed/3763c19ApSeV7jukL12l9wGavkgwE7Y+pT4IJEdAr0h6LdIq0NybbF7BdIniGd1LgH1rcqczKRXJXHLJJbfddlsuF+rPRENDQy4pSYMAAnEVyGNSmX1F1sfqHnF4l7NHFSbb/gQUkWr1VO4xTEo+ulCXK5OU8/yIAAII+CCgT+veeKM1rxjGWSvFM3oF82jagrOg+B1rSOeJJ56IX7toEQIIeCGQRxhjtxEbcGC94Ip6NMhTcH24sDAB/fHW3YSK7E1drkx4H1BYF3AVAggULKAYRrcBKP4v3e7du3gFK6AXbrrpJiKZAty4BIEECuQRxiRQhyYXIKB3AG1tewu4MOMlykoZZnyIkwgggIDrAvoARTFMkZ/C2FopkmFU2WrkfqBIZvXq1YXdfCb3UkiJAAJRFyCMiXoPhq7+CjzcegegtikrF4Oi0GFRIQQQCJnAW2+5+QqmximScfElMWRaHlZn7ty5a9asIZLxkJisEYi+AGFM9PswTC3QjmT6crdGylDZupsnuSGAAALpAmZnxfTzxZxRDMPUssIAa2triWQKo+MqBBIiQBiTkI72qZkFr4jNXj+Pss1eKI8igEDSBHRLNC+anJBXMN0xRl+6kaWLhkQyLmKSFQLxEyCMiV+fBtki14diTGM8yjZIKcpGAIHwCXi0Ek+7BWicJ3zNdbNGzc3NU09+3XDDDa5HMlu2bNFdYtysLnkhgEAsBAhjYtGN4WiE/k57NAVc2cb+TUA4+pBaIJBoAe8+MSl+37OQd0xTU5Op4dq1axV1uFtb3VvzBz/4AZGMu6rkhkAMBAhjYtCJYWmCp3+nPc08LILUAwEEYirg0Uc84dGqr6+3lamsrLTHbh0QybglST4IxEmAMCZOvUlbEEAAAQTCKBD7mzuvWLFCoyUKZnTLFy1o8aIPTCRz1113eZE5eSKAQBQFzo5ipakzAggggAACCIRHwKzF97o+imTuv/9+lfLAAw94XRb5I4BA+AUIY8LfR9QQAQQQQAABBE4JmEhm586diCCAQMIFCGMS/gSg+QgggAACCERMQJHM888/H7FKU10EEHBbgLUxbouSHwIIIIAAAgh4LDB37lyPSyB7BBAIuwBhTNh7iPohgAACCCCAAAIIIIBAigBhTAoIPyKAAAIIIIAAAggggEDYBQhjwt5D1A8BBBBAAAEEEEAAAQRSBAhjUkD4EQEEEEAAAQQQQAABBMIuQBgT9h6ifggggAACCIRcYNWqVdXV1SUlJc3NzSGvKtVDAIHYCBDGxKYraQgCCCCAAALBCHzhC19oa2tT2U1NTa2trcFUglIRQCBhAoQxCetwmosAAggggICXAp2dnV5mT94IIIDAKQHCGJ4KCCCAAAIIIFCUwL333muub2xsbGhoKCovLkYAAQRyEyCMyc2JVAgggAACCCDQj8DChQv37t27cePGNWvW9JOE0wgggIDLAme7nB/ZIYAAAggggEDyBKpOfiWv3bQYAQQCE2A0JjB6CkYAAQQQQAABBBBAAIHCBAhjCnPjKgQQQAABBBBAAAEEEAhMgDAmMHoKRgABBBBAAAEEEEAAgcIECGMKc+MqBBBAAAEEEEAAAQQQCEyAMCYwegpGAAEEEEAAAQQQQACBwgQIYwpz4yoEEEAAAQQQQAABBBAITIAwJjB6CkYAAQQQQCAeAl1dXXffffcdd9zR0tISjxbRCgQQCL8A940Jfx9RQwQQQAABBEItsGjRopUrV6qKjz76qO6DqVvIhLq6VA4BBGIh4HcYU1ZWNmzYsMrKYeXl5eeeOzgWhjQCAQQQQACBRAuYGMYQEMYk+qlA4xHwUcC/SWUKYEaPHlNXd2FNzXkKY4hhfOxlikIAAQQQQMBDgfnz55vcNQ5TV1fnYUlkjQACCLwn4NNojEZgFL0oknmvXP5HAAEEEEAAgZgILF++/Prrr+/o6LjlllsqKipi0iqagQAC4RbwI4wZMWKEYhjrcPRoj17pOjs7uru77cn+DjT3bOjQoUOGDB0+fER/aTiPAAIIIIAAAgEKKHRZuHBhgBWgaAQQSKCA52GMM4bp7e3dt+/t/fvbc4fu6ek5cPJLF1ZVVWs2Wu7XkhIBBBBAAAEEEEAAAQRiKeDt2hgNpNhxmCNHDm/fvjWvGMYprnhm584de/bscp7kGAEEEEAAAQQQQAABBBIo4OFojFbCjB17ai6ZYpht27ZqNKZIYg3MKAcbGhWZG5cjgAACCCCAAAIIIIBAFAU8DGNGjhw1aFC5UBS97N69q/gYxvgqklG22vQsitzUOYvA4MGDtQhKXwqAtZEdG0JkseIhBBAIm4BWcmraM69gYesX6oMAAjEW8DaMMXCaSHb48GEXEbVORktuTIzkYrZkFZSA/vArLlUME1QFKBcBBBAoWIBXsILpuBABBBAoRsCrMEY7LJtP0zUIU/B6mCwNUyTD1LIsPlF5SE+ScePGE8BEpb+oJwIIOAX0CqaPYDT1wHmSYwQQQAABfwS8CmPsG1NtrOzWdDKniLZsrqlxnuA4egKaRTZhwiTn5LFDh7rVs1pJpR0d9NVfkzR5Q1+aeKYPQdm8rj8lziOAgKcCeu2aOHGS81bOeu3SK5hex7K/gulCvfrpRUx/KON0L4GWlhaB696X3DfG0ycemSOAgBXwKozRa7QpQ2GMLczFA4VG+lNhgyUXcyYrfwRSYhg9T9ra9mYJXZy1Mm8RdN8hDfTprQA7cTtxOEYAAR8EUmIY/T3SHIFcboamuunvl0mppZ563YvHeE5zc3NTU5Na19jYuGbNGh+6gCIQQAABrzZc1ptLg+vFUIzJOcc/GPRxCAX0DkBzyfSvqZv20dZu2jnGMCnN0VVmJ27vnmkpJfIjAggg4ByHUQCjrTgL+5OkFy5FMrobQdRfwUwMoyfG2rVrzbAMTxIEEEDAawGvwhi7/r6wV3avm03+wQpo/MQ+QxTDmH20i6mSctD7gGJy4FoEEEAgRwGNn9i5ZHoFUxiT44X9JdMfyqhHMvX19bZ1lZWV9pgDBBBAwDsBr8IY72pMzlEX0IIWOx1cH0MWH8MYEO2Gp9yijkP9EUAg5AIaRrZr+g8e1AvYibuZFf+lV7A339xRfD5B5bBixQpNJ1Mw88QTT9TW1gZVDcpFAIFECXi1NiZRiDQ2LwEbw2g2ubu72Ck3bZHHiqm8uoPECCCQl4BiGDMh9ujRHnc/OtGYjF7EbIyUV60CT6zQhSUxgfcCFUAgaQKMxiStxwNur/782zCm+JkY6Y3xIs/0UjiDAAKJFdBdy0zb9Wrj+oIWXsES+7yi4QggUIAAYUwBaFxSuIBmlJmL9UGmF+umlKf2PC28flyJAAII9C+g3Wvsuj7trdx/wgIfUVykiWoFXsxlCCCAQMIECGMS1uFBN9eui/XiHYBpnBfRUdBslI8AAqEQsPcS0JxY14diTAuVcyiaSiUQQACB0AsQxoS+i+JVQfsmoLDtlXPBYDQmFyXSIIBAAQL2gxjvPi7x7rWxgPZyCQIIIBBmAcKYMPdODOtm7xXjXbDBm4AYPm9oEgKJEdCWZYlpKw1FAAEEihIgjCmKj4sRQAABBBBwUcCjuWou1pCsEEAAgZAIEMaEpCOoBgIIIIAAAggggAACCOQqQBiTqxTpEEAAAQQQQCCjwKpVq6qrq0tKSpqbmzMm4CQCCCDgugBhjOukZIgAAggggECyBL7whS+0tbWpzU1NTa2trclqPK1FAIGABAhjAoKnWAQQQAABBOIo0NnZGcdm0SYEEAidAGFM6LqECiGAAAIIIBAtgXvvvddUuLGxsaGhIVqVp7YIIBBRgbMjWm+qjQACCCCAAAIhEVi4cOH06dM1DkMME5IeoRoIJEGAMCYJvUwbEUAAAQQQ8FagtrbW2wLIHQEEEDhTgEllZ3rwEwIIIIAAAggggAACCIRegDAm9F1EBRFAAAEEEEAAAQQQQOBMAcKYMz34CQEEEEAAAQQQQAABBEIvQBgT+i6igggggAACCCCAAAIIIHCmAGHMmR78hAACCCCAAAIIIIAAAqEXIIwJfRdRQQQQQAABBBBAAAEEEDhTgDDmTA9+QgABBBBAAIE8Bbq6uu6+++477rijpaUlz0tJjgACCBQowH1jCoTjMgQQQAABBBAwAosWLVq5cqWOH3300b1791ZVVSGDAAIIeC3AaIzXwuSPAAIIIIBAzAVMDGMaqTAm5q2leQggEA4Bwphw9AO1QAABBBBAILIC8+fPN3XXOExdXV1k20HFEUAgSgJMKotSb1FXBBBAAAEEQiiwfPny66+/vqOjY968eRUVFSGsIVVCAIH4CRDGxK9PaRECCCCAAAK+Cih0Wbhwoa9FUhgCCCRegElliX8KAIAAAggggAACCCCAQNQECGOi1mPUFwEEEEAAAQQQQACBxAsQxiT+KQAAAggggAACCCCAAAJREwj12pjy8vLKymFDhw7VwbnnDo6aLfVFAAEEEEAAAQQQQAABTwRCGsYodBk9esyQIUM9aTSZIoAAAggggAACCCCAQJQFwhjGVFVVjxw5Ksqq1B0BBBBAAAEEEEAAAQQ8FAhXGFNWVjZx4iTn/LEjRw4fOHBA/3Z3d2dn0MQzfWkSmr4GDSrPnphHEUAAAQQQQMBFgdbW1s7OTt37kvvGuKhKVgggkEUgRGFMSgyj0KWtbe+A0YttW8/JL6XXVRrM0Zw0ZWgf5QABBBBAAAEEPBJobm5uampS5o2NjWvWrPGoFLJFAAEEnAIh2qls7Njz7DjMwYMHXn+9NfcYxtkkHe/f3/7GG60KhFLO8yMCCCCAAAIIuC5gYhhlu3bt2paWFtfzJ0MEEEAgXSAsYcyIESM0H8zUTzHM7t270uua1xmNzWzbtpVIJi80EiOAAAIIIFCAQH19vb2qsrLSHnOAAAIIeCcQlkllmgNmGtnZ2VF8DGOy6u3tVSRTV3chs8u8ewIFlbP2stNGdvpKrwDdnW7CGQQQCJXA4MGD9cmd/o3N69WKFSs+//nPa3nMvffeW1tbGyptKoMAAnEVCEUYo6EYsyhfgYdbMYzpMGX41lt7a2rOi2v/Ja1d+pOvhU/2CZO05tNeBBCIuoBevvSxXfz2oVHowpKYqD85qT8CkRMIRRjjnE6mwMNdRG10Fsu/Ge4qRSI37UGnzbjj9+c/EvhUEgEEihTQ2ItzCWiRuXE5AggggEC4whgtzfeiS0wk40XO5OmbgGJRO/NQhSrc1fzDQ4e6tQhqwDpoJ27NQFO0HJv5GwM2mQQIIBAqAQ3CpMwL0CuYtrHJZQGnXrj0Csa9BELVoVQGAQTCIBB8GGOXNxw9emLLZC9Q9GbXi2zJ0zcB5x1RFcAo3NV3XgN3CmX1VmD48BPTOQhmfOs4CkIAAQmkxDB6+dq37+28XsE6Ojp0L4G4TkjjSYIAAggUJhB8GGPr7VEMo/wL3rjZ1o2DAAX0l1vrYUwF9Mnlzp07CnuqmPhH++Cl3GI1wKZRNAIIxF5Ac8nsOIxehbZv33r4cIE3A9DHMYpn9LGOPpGJvRsNRAABBAYUCH7DZY2Vm1oW9t50wBaSINICmg/2wQ9WmyYohtHWc0U+T/Q2gp24I/2UoPIIREhAY7/jxo03FS4yhrGZaCMcfRwTIQSqigACCHgkEHwYYxtW5NtTmw8HcRKwc8BM+KF/i2+dyUqTGIvPihwQQACBLAIaSba7khQzDpNShCIZJkunmPAjAggkUCBEYUwC9WlydgENxdi5E9o425UYxpSorNzd2jt7Q3gUAQSSKWAnxGoxTMFzyTLS6RXMxZfEjEVwEgEEEAi5AGFMyDso0dWzO3FrOpkmhbtroRVTfJzpLim5IYCAU0B7i5kNRRRvuL4Pp+YvhGpq2apVq6qrq0tKSpqbm50IHCOAAALeCRDGeGdLzsUK6E2AycL1dwCeZltss7keAQRiIWA/iFG84cXIiUcvjIXZf+ELX2hra9O1TU1Nra2thWXCVQgggEBeAoQxeXGR2FcBu/2DR3vNeZStr0YUhgACYRXQHmWmah4N/GpAJpxr/Do7O8PaJ9QLAQRiJUAYE6vujFNjtDDGNsej7R/0+Wgu956z1eAAAQQQyF3g3HNPhTHefWLi0Wtj7m20Ke+55x5z3NjY2NDQYM9zgAACCHgnEKL7xnjXSHKOooANYzz6INOYeDHTI4ra1BkBBLwT8O51RgGSHbX2rv655LxkyZJ58+ZpHIYYJhcu0iCAgCsChDGuMJIJAggggAACiRaora1NdPtpPAII+C7ApDLfySkQAQQQQAABBBBAAAEEihMgjCnOj6sRQAABBBBAAAEEEEDAdwHCGN/JKRABBBBAAAEEEEAAAQSKEyCMKc6PqxFAAAEEEEAAAQQQQMB3AcIY38kpEAEEEEAAAQQQQAABBIoTIIwpzo+rEUAAAQQQQAABBBBAwHcBwhjfySkQAQQQQACBeAl0dXU1NzffcccdLS0t8WoZrUEAgfAKcN+Y8PYNNUMAAQQQQCASAosWLVq5cqWq+vTTTyuSqaqqikS1qSQCCERagNGYSHcflUcAAQQQQCB4ARPDqB5tbW179+4NvkLUAAEEEiBAGJOATqaJCCCAAAIIeCkwf/58k73GYerq6rwsirwRQACBUwJMKuOpgAACCCCAAAJFCSxfvvz666/v6OiYN29eRUVFUXlxMQIIIJCbAGFMbk6kQgABBBBAAIF+BBS6LFy4sJ8HOY0AAgh4IsCkMk9YyRQBBBBAAAEEEEAAAQS8EyCM8c6WnBFAAAEEEEAAAQQQQMATAcIYT1jJFAEEEEAAAQQQQAABBLwTIIzxzpacEUAAAQQQQAABBBBAwBMBwhhPWMkUAQQQQAABBBBAAAEEvBMgjPHOlpwRQAABBBBAAAEEEEDAEwHCGE9YyRQBBBBAAIFECbS2tra0tHR1dSWq1TQWAQQCFCCMCRCfohFAAAEEEIiDQHNzc11d3dSpU2+44YY4tIc2IIBAFAQIY6LQS9QRAQQQQACBEAs0NTWZ2q1du1ZjMiGuKVVDAIH4CBDGxKcvaQkCCCCAAAKBCNTX19tyKysr7TEHCCCAgHcCZ3uXtc85Dx48uLJy2NChQ8vKys49d7DPpVMcAggggAACiRVYsWLFggUL2tvb77333tra2sQ60HAEEPBTIA5hzIgRI0aPHjNoULmfcJSFAAIIIIAAAkZAocumTZvQQAABBPwUiHYYoxGYsWPPY+zFz2cMZSGAAAIIIIAAAgggELhAhMMYDcJ88IPVmkJmEQ8ePHDoUHdPT093d7c9mX6gSxT/KPhRDoRA6T6cQQABBBBAAAEEEEAg5AJRDWMUgdTUnGdx9+9v37fv7d7eXnsmy4GSKc7Rl67SWhpNSBsyZGiW9DyEAAIIIIAAAggggAACoRKIZBijsRSNwxhHxSRvvrlDMUlhrCfDma0jR46qqjqVYWH5cBUCCCCAAAIIIIAAAgj4JhDJMEbrYcxcMsUw27dvPXz4cJFeGpY5frzXObxTZIZcjgACCCCAAAIIIIAAAt4JRC+McS5o0ThM8TGMwT1w4IDWyWhYxvy4b9++0aNHe+dOzr4JKOLV1EF1rv5NL5TFUekmnEEAgVAJDBs2rL9XMLboDFVPURkEEPBZIHphjJayGCMt6C94LllG5ba2vfprYf4qPPvss1/5yleuuuqqmTNn6t+KioqMl3AyzALl5eV6tgwfPiLMlaRuCCCAQEYBvYLpkzW9gjl3ssmYkpMIIIBAMgVKo9VsrYqxHz5pTb/rlbd53nzzzZs3b37ggQd0oBsSz5kzp7m5+fnnn+/q6nK9UDL0QkCLnerqLiSG8cKWPBFAwGsBBTCTJ9fq36jEMPr7WF1dXVJSor+VXuOQPwIIIGAEIjYaU1k5zNS7s7NDGyu73ouaWmY2cdYEJIUua9asMUWsPflljufPnz979uwZM2Y0NDS4XgEyLF5Af/UnTpzknC129GhPR0fHkSOHB3zO6FptW2cH5YqvDDkggAACeQnoVUjrP+0fO12rVaD6k2duJzBgVuYVzPkCOOAlriS466672tralFVTU9Ott96qu2G6ki2ZIIAAAlkEIhbGaDTGNMbd6WROIP2pMH8/Pv3pT9swxplg5ckvc0YhzfXXXz99+nResp1EAR6nxDAKYDRXUDFM7lVSYl3CTty5i5ESAQRcFHB+CqNXMM0R0OdrueevP466RBPSNCLtjIVyz6GwlO3t7fbCzs5Oe8wBAggg4J1AxCaV6U2qsdAn6x6h2D0Dbr/9dr0Wr169etmyZfX19RmLU0Rz22231dXVaTD9jjvueOyxx1pbWzOm5KQ/As53ANqA7re/fS2vGMZWUm8Ftm3bqnjGnuEAAQQQ8FpA4zB2IEUjMK+/3ppXDGOrp5HnnTt3aBccjeTYk54e3HPPPSb/xsZGpip4Sk3mCCBgBSI2GmPr7c+BVvbPPfm1dOlSDZdv2LDhhRdeUGCjZTMpFdCjj5780nnFPGZvgGnTplVVVaWk5EfvBLSg374D2LNnV2F//p3VYydupwbHCCDgqYCms9rlfNrDZvfuXUUWpw9xenq2TpgwyX4CWGSGWS5fsmTJvHnz9NkfMUwWJR5CAAF3BQhjcvVUQHLTyS9doCGXl19+ef369U8//bSZDezMRUGOvrQ9gE4qpNHEsyuuuGLq1Klsd+ZUcv3Y7EtmstU7gOJjGJOV8iktLePuqK73FxkigECKgH2d0dzm4mMYk7nmF2hMRpFMSlle/Mjkai9UyRMBBLIIEMZkwen3Ib1Y62vhwoVKYUKaH/3oR5pgln6BCWnMeQ2160shjQZ40lNypkgBbeljcjDrYYrMzXm5xmT0KakWzjpPcowAAgi4KKBbopl9ODUNzK0YxlRPU2T1ImZfIV2sM1khgAACwQoQxhTr7wxpWlpaXnrppSeffFIbm6Xny3Zn6SYunrGTMbS81fXp4MrTn48zXQQhKwQQiJCADTMUcgy4p2K+7dIrmM0/32tJjwACCIRWgDDGza5pOPmlKcK6vczGjRtffPFFZ+jiLMlud6a5atddd92sWbPY7szpk++xNhYzk78VwLg1ncxZB32cqV0l7MIb50McI4AAAkUK6OXLvrxoTmyRuaVfrhdGZWs/60lPwBkEEEAgigIR26ksKsRmbwBtDKAtm7Xk8YknntCe+hm3OzN7Azi3O1u1alX6epuoNDyoetoZX5pT7lEdCtvxzKPKkC0CCMRJwN5LIJfbWxXWcO9eGwurD1chgAACxQswGlO84QA5KKSxewMoPjHbnT3++OPpsYoJabThmXJku7MBWPt52O6X3c/jhZ/2bo/vwuvElQggEAsBOxTj3SuYdznHogdoBAIIRFKAMMbXbrPbnd1///25b3dm9wZgu7P+ekuTysxDWt/fX5oiz7u+3qbI+nA5AgjERsBuiOz6qhhLRBhjKThAAIHYCBDGBNaV6XsDrFu3LuN2Z84FNgppbrzxxhkzZmgZTmBVD3HB3r0JCHGjqRoCCCAQsIBWhH71q1998803P/vZz/LnKeDOoHgEEiNAGBOKrrZ7A6g22u7smWeecYYuzio6z+uONLNnz9YdxxQROdNwjAACCCCAgJ8CixYtMh/D6XZq+ivGrZ/9xKcsBBIrQBgTuq43IY22B2C7s9D1DRVCAAEEEMgkYKcSaJHn3r17CWMyIXEOAQRcFmCnMpdBXczOud2Z/irkvt3Z3XffzXZnLnYEWSGAAAIIZBfQ7ACTQAFMXV1d9sQ8igACCLgiwGiMK4yeZ2L3BlBJ+qzrueeeW79+vcbuM2539sDJL6U0253pvjTsDeB5D1EAAgggkGCB5cuXa5KzADTPWZ/BJViCpiOAgH8ChDH+WbtVkkKahSe/lKHd7sxs05xSxOaTXwpqdJ7tzlJw+BEBBBBAwC0BhS669bNbuZEPAgggkIsAYUwuSuFNY7c7+8Y3vqFVlS+99FIu252ZvQHY7iy8/UrNEEAAAQQQQAABBLIKEMZk5YnUg3a7s9z3BlD7br/99lmzZk2fPp3tziLV21QWAQQQQAABBBBItABhTAy73+wNMHfuXLvdmVbRrF69WlPM0lur2WhmQprmqmkVjUKaq6++WsfpKTmDAAIIIIAAAggggEBIBAhjQtIRXlXDhjQqQPsBbNiw4YUXXsgY0uhRG9KYvQFmzpw5bdo0Qhqv+oZ8EUAAAQQQQAABBAoVIIwpVC6C1ykguenkl+pu9wbIuN2Zc28AhTRaS3PFFVew3VkE+5wqI4AAAggggAAC8RQgjIlnvw7YKrs3gFIqpHn22Wf72xvAhDQmQ7Pd2bXXXqt1OAMWQQIEEEAAAQQQQAABBDwSIIzxCDZK2ZqQxuyVabY7e/LJJ9euXZveBp3UV1NTkx5iu7N0H84ggAACiRXQJ2KdnZ269yX3jUnsc4CGI+CzAGGMz+BhL66A7c7s3gAf/vAlZWWlYW8h9UMAAQQQcFugubnZfMKlQfs1a9a4nT35IYAAAhkECGMyoHBKAnZvALPdmXYFyGVvgFGjRv3xH8+cPXvWJZdcomMkEUAAAQSSIGBiGLVUI/Ya1WficRI6nTYiELgAYUzgXRCBCiiksXsDmO3OnnrqqYx7A7S3t69a9aS+1aoLLrhg+vRpl146RdudDRkyJALtpIoIIIAAAgUJaDMYu6d/ZWVlQXlwEQIIIJCfAGFMfl6kzn27s9dPfn3rW/8hNH0yN3Vqg/7OjR49ZsiQoTAigAACCMRJYMWKFQsWLNAnWffccw83U45Tz9IWBMIsQBgT5t4Je92c251pFsHPfvazZ599ZvXq59PrrUf1pfOf+cxnNXP6xhtvPO+8mgkTJqSn5AwCCCCAQOQE9Odg06ZNkas2FUYAgUgLEMZEuvtCVHmNt1x44YeuueYq1WnDho2aXbBx46nQJaWWJ3c7O7UN2lVXzb388suvuGLGuHHjUpLxIwIIIIAAAggggAAC/QkQxvQnw/nCBaZNm6rvz3xm8aFDh379698opHnuudWaYpaeo4ZuzOiN2Rvgsssu03ZnhDTpUJxBAAEEEEAAAQQQcAoQxjg1OHZZQCv7bUijOdO/+tWvdux4U3PP7EpQW1763gAzZsz4+Mffp6U4Ng0HCCCAAAIIIIAAAggYAcIYngk+CWi8Zc6cORMnTtISf2139p//+e0XX3zp5z9/QQFMSg3s3gCf//xfaFeAK6+88uKLL9I3252lQPEjAggggAACCCCQWAHCmMR2fZAN1xjLzTfffM0116gSO3fufPXVX2mIJuPeABq3sUM3drszjfAEWXvKRgABBBBAAAEEEAhagDAm6B5IfPlaCaOvj3/8ekn85jdaSPPqL37xi4whzYkdA05ud6aUZm+A+voPX3TRRYknBAABBBBAAAEEEEicAGFM4ro8zA1WTKKvT3/6U9obYNu27Tt27HRua+asud0bQCdvuunGa6+99sorP8rNCpxE/h93dnZ0d3cfOXK45+SXFxUoKysbPHhwaWnZ0KFDKyuHlZeXe1FKDPKkL2LQiTQBAQQQQCC7AGFMdh8eDUZAy2C0C/Of/dmfL126dN++t3/4wx/+/Oc/f/nlDRm3O1u16kl9q6Kaq/bHfzzzkksumTFjupbiBFP15JXa29u7f3+7vnXgdetVhCIllaK36W1te88+e1B1dfWwYX/kdblRyZ++iEpPxa+eGipfvHix5gAvW7ZMr9vxayAtQgCBEAoQxoSwU6JaJX1S7kXV9bm72e5MmZvtzl55ZdPTTz+TvjeAdg747ne/p2+lvOCCC6ZPn3bppVMU1RDSeNEvJs89e3b//vcHjx8/nlKEei3ljCs/pozzHDt29M03d2rTCG0d4Ur+kc6Evoh090W98iaGUSuamppuvfVWxsaj3qHUH4FICBDGRKKbolHJc88d7HVFzXZn2vHsrrv+2uwN8Mtf/jL7dmeqkt0b4GK2O3O1h/bu3XPgwO9slprlNWLECAUVHgW0tqBDh7oPHjygL3NGP/76169OmjTZh2egrUPYDugLV3pEUxYPHz7sSlZJy8T5uVJnZ2fSmk97EUAgEAHCmEDYY1uoPoM3c358aKFzb4De3uPr1/983bp1K1euTC/6xM4A7+0NYEKamTOv0CKc9JScyV1Ak/1+97v9Nv2gQYMUZCqGsWe8O1Ap+v7AB8bs3Ln9yJEjKkjDQW+88frYsef90R8N967c0OZMX7jVNYQxBUt+7nOf0ziMLm9sbNTLbMH5cCECCCCQuwBhTO5WpBxYYPjwEb6FMc7aaArZpZdetmTJku3bt27YsEHbna1Zs9aGLs6UJyOalq997WGdZLszp0xex1qaorfOzkuOHj26bdvWkSNHjR49xuvRGFOu1vdfcEHd22+/9c47+3Smr69v1643u7q6qqqq/amAs/kBHtMXLuLrFcyO8rmYbRKy0noYzSXTOAwxTBK6mzYiEBIBwpiQdERMqmE2j9IChgDbc3K3s1Pbnf3619rBefPGjadHY5wVs9udaRhBewNcdtllWk5TV1enuUn6cqbUcaLeGae0PeVHrSPfvXuXOam3fdLTj2Yqjhb6a4qXRkV8m981ZswHKysrt259w9RHk81MBfwZF0qR8f9H+sJdcz1t/BxSdrfyyk0vU8OGDRs0qNyjxWnZK8x6mOw+PIoAAq4LEMa4TproDPVHVJ+F79y5IwwK2u7M7A3wmc8stnsDZNzuTI9qjfgnPsGy1Jz6zW5KprdKilh0zeTJtRqcMeMzimdef71VYzL6Ts9OMYYS6M13+kPFnKmoqOzqOjUdX1G0xoX6q0AxpYTwWvrC9U7RK5iewK5n63WG+mXUWKg+SPK6IPJHAAEEwiNAGBOevohJTfR3VH9N9e4qVO2xewOoViakWbduvdkbQBsGPPzww3yOmGN/mS19TeKamhMxjPlS2KCPgRXBmrE4hTSa7GSHZTRI0tHRoTPvJff8f1VA2w+MHz/Bt3Ehz5uUVgB9kUbiwgk9YfS8teONLuTocRb68EgVjlkA07tzXe9vn+hrf7Wvc5v8Sionloz6cGn19NLqy0vfP9ljUbJHAIHICBDGRKarIlRRfZyp2oYtkrGAzpDm+PG+D33ownPOOcc+qrs36g23/h1wxEDzTzT3LGbvHqxDfwcKRYyMppOl3H1S7//MsIzpeo26aFRk+PDhmi4fyDxDLdfRx+oKrs4/f3x/zYn0efrCo+7Tc1s5RyKS0UvQhAmTnFNe9dpl70Kb3ce8gulf5+XZL/Hh0b6ut48+/zfH9zzvLEvBjL6Pb1t14uQ5I0prrlRIUzb+oyUVGYZ8nRdyjAAC8RYgjIl3/wbWOkUymuSgGxQG8v41x2Zrd2DneIJGDPQRfu4VNpsZ6B2ARp/0Haq3AjkKFJDMbuGg8CD9ciGo6/WQ3gJK8uRwwendzBT2mHdO6UuP0rMq7IwKVfikCWbvvvuuyUFB6fbt284/f1z8Ooi+KOxJkstVimT0LLWLvnK5xP80KTGMZmzqFcw+Kwasj30FU2M1mhqGXxDFMO9+57qz3j21l3rmJrx7QPGMvo+tOzFKU1ozq7R6amnV5YQ0mbk4i0CsBQhjYt29gTZOwxT6Vmyg79z/svpWZUVZNobRu+0339xRWCV1rd46qI3jxo2P8fwl2y9Hj57avyHLMJRiFQ3LaCTEJlYAo/dJ5kNum5UXB0OGnDX8xJbL1Ypk9B702LFj+qG7u0tb2KV8aO1F6T7naXnpCy/kzeiifrU16qUvL4ooJk/9TtmntF6F3nprb2F7rJ38rKHdvILpN7eYKhV/rcZhBohhzixDQzS9r+n7mzpNSHOmDT8hkAgBwphEdHOAjdQ7V/Pm1UzTCskbfX3uaNamS0Z/xfUeVx/hF6OkQQBNoNI+ASFpYDFtyX6tCfZSppOlX6J5ZfZNtoaqzDzD9GTendGi/wsvvFjjgXp/pi5W/ypS1ds+70r0P2f6wgdz+wqm57O+Bnzm+1AlU4Rewcz4iSuvYMpEr2DK04fPGvoj6m19KmUuWX8pM57PENJMmFtadVlJecCxWcbachIBBFwRIIxxhZFMBhYI1ft7vbHWnqSqtCvvAEzjzfuACy6oNTkPLBLlFNnfzJnJLaZ9wb4xUvikqYN6f6be0Zt+jZtpUCjK8BnqTl9kQPHglH6vw/OrrWe1HTnZs+fUdufFN1oDmJqoVthrtW7Z9NWvflXDVosXLy5sx5Te7c8V3wSTwxkhzajLS2tmllY3ENK4xUs+CIRHgDAmPH1BTXwS0EeYCmNMYRo0KHIcxllpvVfW+4CYfeTvbGCOx0IwKeUc4Ie7pg56T6ZQymwCrjBG9cn+vj/HNkYlGX0RlZ7Kq542Gtdgo7sT3vSbohmhBayTWbRo0cqVK9WKxx9/XDfqqqqqyqtFSnxqBX++lw2Uvq/9F736fuVEuhJCmoG4eByBaAmURqu61BaB4gW0AN38kdYsEb2vLT5DZw76yF9jEc4zSTvW+yrNvVGrFS34P5cso7aWjthoyvUez1hiSE7SFyHpCHeroQETOy7k+vNZv7x62hRQYRPD6MI2TeXcuzffHLS4P99LCkh/IqR55aGjP/7zd//tondX3Hzsvx453nYyvikgLy5BAIEQCDAaE4JOoAr+Ctj10O5+imkboREeO9/DnkzOgVUNSQxj5PXptXlz5ue9awLvdPoi8C7wogL2FUxPZvORgbul6BXMjlfnnvP8+fNNJKNxmOrqE3vu5/XV1/VWXumLT6yQ5lj7L0w+pTVzS2tmlFZ9pLTq0uJzJgcEEPBNgDDGN2oKCouAjTEK+9BxwGbY944DpoxfAk2rM3GChmLsm60wNFP10YCMetzUMFR188iHvvAINvBstcuiqYNHMblCI+3Iku8KmeXLl8+ePVsVmzdvXgEzyoJV1dYCdncBQppg+4LSEchLgDAmLy4Sx0HATvt2cVVMiovmldlgKeWheP+odz+mgSGME/TmzwSu6vcQVs/1JwZ94TppSDK0i7u8ewVTzvmGMRUVFUuWLAkJUTHVOB3SvHefzdLqy0vfP7mYPLkWAQQ8EiCM8QiWbBFIooB9X6Xp+2FrSc7U3QAAQABJREFUv62SrWTYauhufWwzbcPdzb+Y3GyVbCWLyS1p19qFMd7peTFXLXrd9N59Nk/UnJAmev1HjRMhQBiTiG6mkQj4I6CJTKYg+4GxP+XmUor9dPn48VOVzOWq6KahL6Lbd9Q8dAKZQpqy8R8tqYjbBu6hk6dCCGQVIIzJysODCCCAAAIIIICAFXgvpDm27qySyomlNbNKq6eWVl1OSGOFOEDANwHCGN+oKQgBBBBAAAEE4iNwxn02CWni07G0JDIChDGR6SoqigACCCCAAALhFMgQ0kyYW1p1WUn5qZ3lwlltaoVApAUIYyLdfVQeAQQQQAABBMIlcEZIM+ry0pqZpdUNhDTh6iRqEwsBwphYdCONQAABBBBAIFCB1tbWzs7OhoaGQGsRusJ1n81efb9yomIlhDSh6x8qFG0Bwpho9x+1RwABBBBAIHCB5ubmpqYmVaOxsXHNmjWB1yecFUgPacrGzymtujSctaVWCIRfgDAm/H1EDRFAAAEEEAi1gIlhVMW1a9e2tLQwJjNgb70X0jyklKU1c0trZpRWfYSQZkA3EiDgFCCMcWpwjAACCCCAAAJ5C9TX12/evNlcVllZmff1yb7g+J7n9W0MCGmS/Vyg9fkJEMbk50VqBBBAAAEEEEgRWLFixYIFC9rb2++5557a2tqUR/kxd4EzQpqJN5VWTy+tvrz0/ZNzz4GUCCRHgDAmOX1NSxFAAAEEEPBEQKHLpk2bPMk6wZke37ZK3ycAzhlRWnMlIU2Cnws0PbMAYUxmF84igAACCCCAAAKhEHj3ACFNKDqCSoRMgDAmZB1CdRBAAAEEEEAAgf4EHCFNSeXE0ppZpdVTS6suL6kY098VnEcgrgKEMXHtWdqFAAIIIIAAAnEWOOM+m4Q0ce5q2pZZgDAmswtnEUAAAQQQQACBqAhkDmnGX1lSPjQqTaCeCOQrQBiTrxjpEUAAAQQQQACB8AqcEdKMury0ZmZpdUNp1WWENOHtM2pWkABhTEFsXIQAAggggAACCIRe4L37bJ6oaAkhTej7iwrmJUAYkxcXiRFAAAEEEEAAgUgKpIc0ZePnlFZdGsnGUGkEzjqrFAQEEEAAAQQQQKAYgZaWlilTppSUlDQ3NxeTD9f6JnAipHnloZ4nbjzyz+f3PPnfj736nb6ebt9KpyAEXBEgjHGFkUwQQAABBBBIrsDixYs3b96s9jc1NbW2tiYXIpotP77n+WPr7nn3sVnH/usRgplo9mFCa82ksoR2PM1GAAEEEEDALQETw5jcOjs73cqWfHwVePfAsZf/rnfb04Ouuq/0/ZN9LTq4wvq63j7W8vXje9ZrX4ScanHOiNKaK8+e+pfJIcqJJaBEjMYEBE+xCCCAAAIIxEVg2bJlpimNjY0NDQ1xaVYS26HJZj1P3Hr8d28kofFq5rvfua73tW/mGsMI5eTtR3sev+p42ytJIAp5GwljQt5BVA8BBBBAAIGwCyxdunTLli0bN25cs2ZN2OtK/QYUePdAQiKZYxu/prBkQI+MCY6uvivjeU76KUAY46c2ZSGAAAIIIBBPgdraWsZh4tO1JyOZ2K+TOb5tVcFdpgEcTUgr+HIudEWAMMYVRjJBAAEEEEAAAQRiJPDugaPP/22M2uN+U/q63nI/U3LMR4Al/vlokRYBBBBAAAEEEEiGgAYrjrct5MYygfd2vutwktNlhDGBPzkTWoGysrKEtpxmI4AAAgggEBGBYxv/qfzGf49IZWNYTW1CcPSpz+axA8FJg5LKiYM+9q9J2EuNSWUxfNJHoknnnjs4EvWkkggggEC6wODBvIKlq3AmhgK6pUxCdi0LYedpbZL2Wsg3hlFDdMmJCxNwP1PCmBA+bxNRpaFDhyainTQSAQTiKDBkCK9gcexX2pRJ4PiOn2Y6zTnPBY7v+FnBG6npwt4tP/a8ikEXQBgTdA8ktXy9CSgvL09q62k3AghEW0DTYvksJtpdSO1zFji+56Wc05LQTYG+rrZisuvb/9tiLo/EtYQxkeimeFZy+PAR8WwYrUIAgQQIjB49JgGtzLWJXV1dzc3Nd999d2tra67XkC4iAn2dOyNSU6p5hkBf5+4zfo7jDyzxj2OvRqRNehPQ2dlx+PDhiNSXaiKAAAKnBTSkPGzYsI6OjtOnEny0aNGilStXCuDxxx9vaWmpqqpKMEbcml7A2oy4EdCesAowGhPWnklGvcaOPY8ty5LR1bQSgRgK1NScx1p/068mhtFxW1vb3r17Y9jZNAkBBMInQBgTvj5JUo20X9nEiZOIZJLU57QVgfgI6LVrwoRJRDLq0fnz55t+1ThMdXV1fPqYliCAQIgFTk8q02rF7u7uEFeVqsVTQJFMXd2Fe/bsYm5GPDuYViEQawETyezb9/b+/e2xbugAjVu+fPns2bOVaN68ecwoGwCLhxEIVKC39ane356YAprjV0nl2LL6PwvnXWhOhzF6N0kYk2OPksxdAb0POP/88YcOdR88eEDBTG9vr7v5kxsCCCDgnYBewTQCMWrUKAUz+jPa09PjXVmhzbmiomLJkiWhrR4VQwABI/Duipv72n+Rr0bva98cdPXDZbUfy/dCr9OfDmNGjBiR8A+TvLYm/+wCWi+r75qas44cOaxIRu8MsqfnUQQQQCA8AoMGlWupjOpz9KgCmSRGMuHpC2qCAAIZBY69+p0CYhiT1dF1f1s6/sqS8nDdMuv02hiNxrALfsZe56TPAnoqKp7Rvz6XS3EIIIBA8QKKZ8yHMsVnRQ4IIICAiwLHt/+k8NzePdC3/43CL/fmytNhjPLXsLg3pZArAggggAACCCCAAAIIIOCawBlhjD7/1ga4ruVNRggggAACCCCAAAIIIICABwJnhDHKXzdW587EHjiTJQIIIIAAAggggAACCLgmkBrGKGOFMePGjWeBtWvGZIQAAggggAACCCCAAAKuCmQIY5R/ZeUw3cpD8Ux5ebmrxZEZAggggAACCMRQoLW1taWlJYYNo0kIIBBWgdMbLqfUUKMxCmP0bfaOPHz4MDcqTiHiRwQQQAABBBCQQHNzc1NTkw4aGxvXrFmDCQIIIOCDQObRGGfBZu/IkSNHaQdJ53mOEUAAAQQQQAABCZgYRgdr165lTIanBAII+CMwcBjjTz0oBQEEEEAAAQQiKlBfX29rXllZaY85QAABBLwTIIzxzpacEUAAAQQQSITAihUrFMlUVVU9+OCDtbW1iWgzjUQAgaAF+l0bE3TFKB8BBBBAAAEEoiGg0GXTpk3RqCu1RACBuAgwGhOXnqQdCCCAAAIIIIAAAggkRoAwJjFdTUMRQAABBBBAAAEEEIiLAGFMXHqSdiCAAAIIIIAAAgggkBgBwpjEdDUNRQABBBBAAAEEEEAgLgIs8Y9LT9IOBBBAAAEEEEAAgaAF+nq6+/a/kWstzhla+v7JuSYm3ZkChDFnevATAggggAACCCCAAAIFCRx94YHeVx7K69KSyolnz/5fZeNm53UViSXApDKeBggggAACCCCAAAIIFCtQQAyjIvs6tx398Z8f/13OAzjFVjM+1xPGxKcvaQkCCCCAAAKBCLS0tEyZMqWkpKS5uTmQClAoAoEL9HW9ne84jLPOxzZ+zfkjx7kIEMbkokQaBBBAAAEEEOhXYPHixZs3b9bDTU1Nra2t/abjAQTiK9DX9VYxjTu+52fFXJ7MawljktnvtBoBBBBAAAHXBEwMY7Lr7Ox0LV8yQiA5Au8eSE5b3WopYYxbkuSDAAIIIIBAQgWWLVtmWt7Y2NjQ0JBQBZqNAAL+CrBTmb/elIYAAggggEDsBJYuXXrrrbdqHIYYJnZ9S4MQCK8AozHh7RtqhkDuAqtWrWI+eu5cpEymAL8mnvZ7bW0tMYynwknInC0iktDLLraRMMZFTLJCIDCB3bt3z5kzh0gmsA6g4CgI8GsShV6ijokW0BYRd999d6IJaHw+AoQx+WiRFoEQC7S1tRHJhLh/qFooBPg1CUU3UAkE+hd44IEHiGT65+GRMwQIY87g4AcEIi1g3qJp5kykW0HlEfBUgF8TT3nJHIHiBRTJ3HHHHV1dXcVnRQ7xFiCMiXf/0rrECegt2s0330wkk7iOp8H5CPBrko8WaREIQODRRx+94YYbiGQCoI9UkYQxkeouKotAbgJEMrk5kSrRAvyaJLr7aXzoBdauXUskE/peCriChDEBdwDFI+CRgN6iPfTQQx5lTrYIxENAvyaPPfZYPNpCKxCIn4CJZDR8Gr+m0SJXBAhjXGEkEwTCKHDnnXeyUDKMHUOdwiRw22238WtSfIdo8o8+N5Ek+yUWj0kOTgFFMtrIm+eV04RjK8DtLy0FBwjEUEALJdWq+++/P4Zto0kIuCTAr0nxkIsWLVq5cqXyefzxx1taWqqqqorPkxwQMAJmW441a9bo3kSYIOAUYDTGqcExAjEUMJtXslCymK7ds2fPyy+/rH9zyeS1117LPXFeOedSOmkKEzC/JoVdy1USMDGMDvSOc+/evZgg4K6AiWQYk3FXNQa5EcbEoBNj3oTy8vKYt9D75uktGgslC2NWTPKpT31q7NixM2bM0L861pn+stJD8+bNu+iii0ziv/iLv+js7MySOCXnHMOk/jLkfJEC+jXRnZcI+AtjnD9/vrlQ4zDV1dWFZcJVCGQRUCRTV1fHPpxZiBL4EGFMAjs9Yk0eNIgwxoUuY8uXAhAVhFx77bXf+c537LU61pmMwYmCED30k5/8xCb++te//olPfML+6DwwiVNyvuKKKzLm7LyQY08FPPo1GTx4sKfVDkPmy5cvf/Dkl2b+MKMsDD0S1zqwwWBce7awdhHGFObGVb4KDB061NfyYlqYR2/RYqp1oln33Xff7t27UxqoMzqfclI/KmhJT6yo5rvf/W6OifvLOf1yzngn4MWvyZAh8X8Fq6ioWHLyi9UL3j05ydkIEMnwTLAChDGWgoPwCgwfPiK8lYtUzfQWTYPyTC/OsdOeeeaZjCkznv+P//iPjIl/+tOfpp/PmIOS9Xc+PQfOeCegX5NZs2a5+GsybNgw72pLzggkUIA7CiSw0zM2mZ3KMrJwMlwClZXDysrKent7w1Utz2pTwP1e1q1bl2N12PIlRygl++Uvf5kxccbz6UMx5tqDBw+mZ5IxhywlpufAGU9/TTZv3qx1Mm7tjKTRGH11d3fTawgkR0Ab1r300kvetVd3FNi1axf7cHonHImcCWMi0U1Jr6RimLFjz9u5c0dCIPTq7GlLiWRy5L3mmmuca13sVTpvj+1Bf4kvu+wym8Ye9Jc4Y872Kg6cAtH6NdG699dfb3XWn2ME4i2gGMbrX1JtyyFDIpl4P5Gyt45JZdl9eDQsAhqQGTGCqWWudQfz13OhvP322zMmy3j+lltuyZhY05PSz2fMQcn6O5+eA2d8ENCviZZ8uFLQuecO1mcxrmRFJgggYAUuueQSe8xBAgUKGY3RR+MJlKLJgQvU1Jx4E3DgwIHAa+J1BTZu3JhvEStWrDCfS+VyYWNj4w9+8AO33p/lUmJE09x6662aXHTvvfc66/83f/M3Ou88Y44XL178/e9/P2X05h/+4R+mT5+enlg5aM2MdgVwPtRfzs40HFuByP2amDV+u3fvsk3gAIEYC+iTHW09n28Dp06dmvslTzzxxE033ZR7elLGT6CQMCYJe0fGr6fj0SJFMvpQc9++t+O9TqahoSHf/sp9CjIxTF62X/7yl+vr6x999FHFJ5rxpdGSjDGMyfN73/ue4kkTzHzyk5+87bbbdBuZ/op7+OGHL730UpN4wJz7yyTJ56P4a6JIRp8D6v6QPT09Se472p4EAe277enW28QwSXgWDdjGQsIYvY8cMF8SIOCRwMiRo/RWYP/+9oMHD/BWIF9k3aJOt3dgHCYvN8UtWUIXZ1aVlZUak9GX82SW47wSZ8mHh9wV8PTXRPNjteJfL1/6Pnz4sLs1DzY37e2mGx8VEF4GW21Kj5yAoqNvfetbc+fOjVzNqbDrAoWEMfowSdtHdnR0uF4bMkQgFwE9A0ePHqPvo0cVyJz4UJPQOhe3u+66i6WQuUCRJskCPvya6BVMH8foW6PKR46ciGTKyyN/k9/m5uampia1ReO92uEtyU8h2u6pgGIYt7YQ9LSeZO6PQIFL/PX660/9KAWBLAKDBpXrc019621BlmQ8JAEf3pzhjEDUBXz+NdELl3kF00tZ1OlMDKNW6K472mk36s2h/uEUIIYJZ78EWKtCRmNUXb3ysgt+gN1G0QjkJeDzm7O86kZiBEIiwK9JMR2hJWTaD8PkoNmVxWTFtQhkFNBzTIsP2WYzI06wJ/u63j7e9ou+rrZcqlFSUVUy8oLS90/OJfGAaQoMY5Tv+eePf+ONVhYnDEhMAgSCFWAdZLD+lB4JAX5NiuymRx55RGu92tvbP/e5z/FGs0hMLk8XYHOadJOQnDn6wgO9rzyUb2XKLrxt0Jwv5XtVevrCwxiNho8bN37btq3x3jMqnYwzCERIgDdnEeosqhqUAL8mxctrZf+mTZuKz4ccEEgXIIZJNwnJmWP/9UgBMYwq3/vaN886p3LQzLuKbEiBa2NMqVpXXVd3oWaXFVkJLkcAAS8EeHPmhSp5xkyAX5OYdSjNiZkAMUyYO/TYKw8XXL3e175d8LX2wqLCGOWiMZkJEyZNnDiJYMaacoBA4AJaB7l69WruCxZ4R1CBMAvo10T30OTXJMx9RN0SLqAVa9qXjJsEhPdp8G4RdyQv5tr3RAqfVPZeDif+14p/BTNm78ju7m7nQxwjgIDPAuzl4jM4xUVRgF+TKPYadU6UALtuJKq7C2usO2GMKdvuHVlYVbgKAQSKF+DNWfGG5BB7AX5NYt/FNDDqAsQwUe9Bf+pf7KQyf2pJKQggkIuA9qPkvmC5QJEmyQLm/ozsppXk5wBtD7nAgw8+yM2aQ95HIamem6MxIWkS1UAgmQKsg0xmv9PqvAT4NcmLi8QI+C/Arhv+m0e3REZjott31ByB0wIzZsz4wQ9+wDrI0yIcIZAmwK9JGgknEAiXAJvThKs/Ql8bwpjQdxEVRCAHAd20gRgmByeSJFqAXxPvur+lpWXKlCnV1dUPPZT3jfC8qxU5R05g7ty5kaszFQ5QgDAmQHyKRgABBBBAIA4Cixcv3rx5c1tb25133tna2hqHJtEGBBAIvQBhTOi7iAoigAACCCAQbgHFMLaCnZ2d9pgDBBBAwDsBwhjvbMkZAQQQQACBRAgsW7bMtFObKGjyXiLaTCMRQCBoAXYqC7oHKB8BBBBAAIGICyxduvTWW2/VOAwxTMR7kuojECUBwpgo9RZ1RQABBBBAIJwC3IonnP1CrRCIsQCTymLcuTQNAQQQQAABBBBAAIF4ChDGxLNfaRUCCCCAAAIIIIAAAjEWIIyJcefSNAQQQAABBBBAAAEE4ilAGBPPfqVVCCCAAAIIIIAAAgjEWIAwJsadS9MQQAABBBBAAAEEEIinAGFMPPuVViGAAAIIIIAAAgggEGMBNlyOcefSNAQQQAABBPwQ6OrqWr58uUqaN28eOy/7IU4ZCCBw1lmEMTwLEEAAAQQQQKAogUWLFq1cuVJZVFVVtbS06N+isuNiBBBAIAcBJpXlgEQSBBBAAAEEEOhfwMQwerytrW3v3r39J+QRBBBAwDUBwhjXKMkIAQQQQACBZArMnz/fNFzjMNXV1clEoNUIIOCzAJPKfAanOAQQQAABBOImoIUx9fX1HR0dixcvZkZZ3HqX9iAQVgHCmLD2DPVCAAEEEEAgIgIVFRVLly6NSGWpJgIIxESASWUx6UiagQACCCCAAAIIIIBAcgQIY5LT17QUAQQQQAABBBBAAIGYCBDGxKQjaQYCCCCAAAIIIIAAAskRIIxJTl/TUgQQQAABBBBAAAEEYiJAGBOTjqQZRuDccwdDgQACCCCAAAIIIBB7AcKY2HdxshpYVlaWrAbTWgQQiJHA0KFDY9QamoIAAgh4K0AY460vufsswJsAn8EpDgEEXBSI9Hhya2trS0uLixpkhQACCGQXIIzJ7sOjERMYMmRoeXl5xCpNdRFAAIGTAhpPjuhnMc3NzXV1dVOnTp0zZw6diQACCPgjQBjjjzOl+CcwfPgI/wqjJAQQQMBVgdGjx7ian0+ZNTU1mZLWrl3LmIxP6BSDQOIFCGMS/xSIHYDeBAwezEL/2PUrDUIgGQIaUh42bFjk2lpfX2/rXFlZaY85QAABBLwTIIzxzpacAxMYO/Y81voHpk/BCCBQnEBNzXmRmxz7yCOPmEhm2bJltbW1xQFwNQIIIJCTwNk5pSoikV6Le3p6isiASxHIW0DLZCdOnLRt29be3t68L+YCBBBAIFABfQozbtz4nTt3ROivZ0NDw6ZNmwJlo3AEEEicgOejMZH7SClxT4GYNliRzAUX1EZ0sWxM+4RmIYBArgJ6BZs8uTaKs8tybSHpEEAAgaIFPA9jIr19ZNG8ZBCkwKBB5RMmTNIEM4KZILuBshFAoCABjcmcf/54DSwTzBTkx0UIIBB/Ac8nlY0YMWL//vb4Q9LCsApo4zJ9a3bZkSOH9cU0s7B2FPVCAIEMAlrxr289cOhQt+aYRWiaWYbGcAoBBBBwVcDzMEajMfosvLu729VqkxkC+Qnoc037biC/K0mNAAIIhEDg5CtYCOpBFRIocA63MUhgr0ejyZ5PKhNDRHfBj0YHUksEEEAAAQQQQMAzgdJRl3qWNxkjUJSAH2GMPkMikimql7gYAQQQQAABBBAIQqBk1EVBFEuZCAws4EcYo1oojNEimYGrQwoEEEAAAQQQQACB0AiU1X08NHWhIgicIeBTGKMydT+vqqpqbkp4Bj8/IIAAAgggEH2B1tbWKVOmVFdXP/TQQ9FvDS04LVBSObH0/ZNP/8wRAmES8C+MUatHjhylW3loWIZgJkzPAeqCAAIIIIBAUQILFizYvHlzW1vbnXfeqZCmqLy4OEwCZ0+7K0zVoS4InCHg+U5lZ5R21lm6lYeGZWpqTuwdabYv454eKUT8iAACCCCAQLQEFMPYCnd2dtpjDiItUDLq8rLaj0W6CVQ+3gK+jsY4Kc26f62Z0YHzPMcIIIAAAgggEC2BZcuWmQo3NjY2NDREq/LUNrPAOSMGXXVf5oc4i0A4BPwejQlHq6kFAggggAACCLgmsHTp0ltvvVXjMMQwrpkGndGg2X8X8lUxLS0tL730UjFOx9Z3FXN52e8fL6lcb3Po69zTu7moDM8+fsbSsuO7Xzq+s/AMS/7otbJdZ2TY+6vX+n5feIYp7VXDiwRMaa+VzPFgxowZhDE5WpEMAQQQQAABBPoVqK2t7fcxHoiawKCrHw7/dDLFMFqLFSTt9//R5dK/725zNpx1lr7d+wpZex988EHCGPd6l5wQQAABBBBAAIFIC2gu2dUPlo2bHelGUPmECBDGJKSjaSYCCCCAAAIIIJBNoLRm7qC595ZUjMmWKDSP3XLLLZpWFJrqUBG/BbTDO2GM3+iUhwACCCCAAAIIhEjgnBFlEz9eVndjadWlIarVQFWpOvk1UCoej7MAYUyce5e2IYAAAggggAACGQVKJ95UWj29tPrykC/lz1h5TiIgAcIYngYIIJCHgO5d29vbe/jw4TyuIak3AvSFN67kikCcBTRtrLRmRmnVR6I18BLnLqFtRQgQxhSBx6UIJE9g8ODBunGtIhl96W108gBC1GL6IkSdQVUQCLEAoUuIO4eqFSVAGFMUHxcjkDSBc889Ecao1Z2dHcOHj0ha80PVXvoiVN2R8Mp0dXUtX75cCPPmzWPn5TA8GUpGXV5aM7Ns/BxGXcLQHdTBIwHCGI9gyRaBeAoMHTp0//52te3gwQOEMcH2MX0RrD+lOwUWLVq0cuVKndGi6y1btlRUVDgf5dgfARO6lFY3lFZdVlI+1J9CKQWBAAUIYwLEp2gEoidQWTmsvLy8p6dHYzKHDnUPGcJfysA6kb4IjJ6C0wRMDKPTbW1tCmMaGhrSknDCEwFCF09YyTQiAoQxEekoqolAaARGjx6ze/cuVUf/Tp5cywqZAHuGvggQn6KdAvPnz7ejMbqZg/Mhjl0XKKmcWFozq7R6aun4Kxl1cZ2XDCMkQBgToc6iqgiEQkBzyTSvTJuVaUxm+/atEyZMIpIJqmPoi6DkKTdFQAtj6uvrOzo6Fi9erHllKY/yY/ECp0OXqsujcnvK4ltNDghkFyCMye7DowggkEFg7Njztm3bqs3KFMxs3fr6+PETNdMsQzpOeS9AX3hvTAkDC2gxzNKlSwdOR4p8BAhd8tEibRIFCGOS2Ou0GYEiBbRHVlVVtZla9u67727Z8toHPjB6zJgP2mBGK2fCtmxGK3lMqwcNilXERV8U+WTmcgTCJXDOiNKaK7krZbg6hdqEVYAwJqw9Q70QCLeApjMpaNm+fVtfX59q+s47+373u/0VFZWm1iG8P6atkm63Em7avGtHX+RNxgUIhEqA0CVU3UFloiNAGBOdvqKmCIRMQOMt48aNf/PNncePH1fVNMfs978/aOqou8qE7f6Y2iHa1E37FIcM0oXq0BcuIJIFAn4KELr4qU1ZMRUgjIlpx9IsBHwR0PDLxRd/eM+eXQcOnAoSbLHaBkD7aNkfgz3QjDIzGqMRJM3CCrYyHpVOX3gES7YIuChQWjO3tGZGadVHuCuli6pklVgBwpjEdj0NR8A1gZqa8zSvadeuN48ePWozVRhjJjvZMwEetLXtNaWHJ7LySIO+8AiWbBEoWIDQpWA6LkQguwBhTHYfHkUAgZwENKnpggvqtOhf08nMBZpUpu2Yw3BjGdXKDsUossqpPVFORF9Eufeoe0wEdFfKsonXMeoSk+6kGWEVIIwJa89QLwSiJqC7x2ipjMIYhQ2KYVR93VimtfW3kyZdYHcw879NqoxdFaO9if2vQCAl0heBsCe80NbW1s7OzoaGhsQ6KHQprZlZWt1QWnUZd6VM7NOAhvspQBjjpzZlIRB/gcrKYRqB2bVr5x/+8Ae19tixY4pkampqhg9/v8+NVxClRTva+tmUqx2iNUzhcx2CLY6+CNY/UaU3Nzc3NTWpyY2NjWvWrElO2wldktPXtDSEAoQxIewUqoRAtAU09qIRmDff3KFbeqsl2pF59+7dv/vd73RvGb2x9qFtR44c1pYDGoQxg0IqUUtiRo4c5UPRYSuCvghbj8S1PiaGUevWrl3b0tIS7zGZU3elnDCXUZe4Pp9pV1QECGOi0lPUE4GICZx//viOjt9r3b+5sYwGZ3bu3KHJTl7ftkWDMPqyWCpR4zBJWBJjm5x+QF+km3DGXYH6+vrNmzebPCsrT90/yt0igs3tVOhSPbW06vKSirDswRisCaUjELgAYUzgXUAFEIitwLBhf1Rb+z5FMocP/8EEMxoesbO8fGi2oheNwwS4MseHNuZYBH2RIxTJChN45JFHFi9erEhm2bJltbW1hWUStqsIXcLWI9QHgRQBwpgUEH5EAAE3BU5Oapqs6EVL//Wl+7fYiV5uFnNmXrrBpWav6ZsAxglDXzg1OHZXQLPINm3a5G6eweT23l0py8Z/lFGXYLqAUhHIWYAwJmcqEiKQs4AmMuWcNhEJBaKBkYTP7ApJT9MXIemI4quhcN2jsU2vZ34W33aXc3gvdCmtvrz0/ZNdzpzsEEDAMwHCGM9oyTj0AsOGDTNr0N2tqd4mxvU+8e5CkRsCCBQjoNcZj8KYAPb0O8f3XQQJXYp58nEtAuEQIIwJRz9QiyAENOnIizBG0VEQraFMBBBIlsCIESP27293vc0a5PF/PNm3MZDSmrmlNTO4K6XrTxsyRCAQAcKYQNgpNBQCCmP019r1pRpaUx6K5lEJBBCItYBGY7yYVxbU1uS6AUtf+y+86DFCFy9UyROBMAgQxoShF6hDMAKKYbQVr+7y7mLxegcwaFC5ixmSFQIIINCfgD406e7e2t+jBZw322MUcGHxl5w95fajz7kWxigoKpt4HaMuxfcLOSAQZgHCmDD3DnXzXECLzrV3lm6V6EpJWhfLUIwrkmSCAAK5CGgRi15z9u17O5fEA6bRJzu6xdCAyTxKUFb7sWMbJvZ1bis4f4UupTUzS6sbuCtlwYZciEC0BEIUxiRua5RoPVPiW9uamvPUuOIjGT2BJ0yY5P+c8vj2DC1DAIGBBRTGHD3aU/wrmF67Jk4M+BVs0Mf+teeJW896N4/PlQhdBn6KkAKB+AqEKIzh/V98n2Zhb5kiGc0EK+YTTc0l05sJnsNh72nqh0AcBfQKpmGZtra9Ba/001wyjcMU8wrW2tq6YMGC9vb2e+65Z8mSJYUxa6F/+c3fHTCSOXVXyglzGXUpzJmrEIiNQIm5tXZI2vPqqwPcPEufFZmNILdv3+rRRpN6M6rvkIBQDT8F9ImmIhntXZbXWwHtS6YYJoD9Sf2koSwEEAi9gF64tHHZwYMHenp6cq+sAhj9ySv+FWzKlCmbN2825W7ZsqW2tjb3OqSk7Ovp7n318d7XHndOMDsVulRPLa26nLtSpojxIwKJFQhXGPPmmzuyb4BLGJPYZ6rrDW9ra9uwYcNvfvObT37yk5MmTXLmr9Uyeh+Q/a2APrbULDLtFFTM55fOQjlGAAEEXBE4cuSwvrK/gqkgBTAuvoKVlJTYym/cuLGhocH+WMzB8bZXdHlp1aXFZMK1CCAQV4EQTSoTsT7Vzh7GxLUbaJc/AiZ0eeGFF1avXm0/OPyXf/kXzYL4q7/6K1sHfTA5ZIj9iQMEEEAgSgIKTvTtc42XLVvW1NSkQhsbG92KYZQbAYzP/UhxCERLIFyjMbLLPluM0ZhoPb3CUNuuri59NPjiiy+uPfnVX5U0I+Lzn//8Jz7xieHDh/eXhvMIIIAAAv0JaHlMZ2enizFMfwVxHgEEEDAC4RqNUZ3Gjj3v9ddb81qcQF8ikC7Q0tLyzDPPZA9dzFXz58+fPXv2vHnzipnMnV4BziCAAAKJEuAlNFHdTWMRCINA6MIYbRilIZdt27YSyYTh+RGtOuizwGeffXbdunUrV67MXnNNe9DXtddeyweH2aF4FAEEEEAAAQQQCKdA6MIYMWlS7wUX1O7cuUOLFMOpRq3CI6DQ5eWXX16/fv3TTz+tpS9ZKmZClyuuuGLq1KkVFRVZUvIQAggggAACCCCAQMgFwhjGiExjMpMn12rjSG2AO+B2KyEnpnquC9iV+o8//nj20KW+vv6qq66aOXPmtGnTqqqqXK8JGSKAAAIIIIAAAggEIhDSMMZYDB8+Qt/aO1K3iDFzzBTeBMJEoYELmJX6GnJxbjKWsVYKV6677rpZs2ZdffXVhC4ZiTiJAAIIIIAAAghEXSDUYYzBDWTvyKj3azzqn+MmY6axt99+u0KX6dOns8w0Hr1PKxBAAAEEEEAAgSwCEQhjstSeh2IpoE3GXnrppVxW6ptNxmbMmMFK/Vg+E2gUAggggAACCCDQnwBhTH8ynPdVwKzU/9GPfpTjJmNaqT937lxfq0hhCCCAAAL9CGjw/IknntANrNm8vh8hTiOAgPsChDHum5JjjgJanf/cc8/lssmYWamvFS9sMpajLckQQAABPwUWLVpkPoTSisQtW7awG6Sf+JSFQGIFCGMS2/XBNNxuMjbgSn02GQumhygVAQQQyF/ADqTrRV5hDBN98yfkCgQQyFuAMCZvMi7IV8Cu1Nffuc2bN2e53G4yxkr9LEo8hAACCIRNQCsV7WhMdXV12KpHfRBAIJYChDGx7NZQNOr5559/8cUX1578yl4h/f27/vrrCV2yK/EoAgggEFqB5cuXawhda2MWLFjATveh7SYqhkDMBEr6+vqi2KTt27fqZjJe1Hz06DH69iLnJOSZ+yZjjY2NN954I5uMJeFZQRsRQAABBBBAAAHXBRiNcZ00cRmaTcZyWamv0EVf2mSMlfqJe5bQYAQQQAABBBBAwFUBwhhXOROTmVmp/9RTTz399NM6ztJuu1L/qquuYu+aLFA8hAACCCCAAAIIIJC7AGFM7lZJT5n7JmOaGP2pT31q5syZ06ZNY5J00p83tB8BBBBAAAEEEPBAgDDGA9QYZWk3GRtwpT6bjMWo22kKAggggAACCCAQdgHCmLD3UCD1Myv1n3zySUUv2SugTcZmz57NSv3sSjyKAAIIIIAAAggg4K4AYYy7nhHOTSv1n3322XXr1tm7mPXXGLNS/9prr+UGZ/0RcR4BBBBAAAEEEEDAUwHCGE95w5557puMaaW+Bl7YZCzsPUr9EEAAgYAE9Aels7OTj7cC4qdYBJIoQBiTuF7PfaW+3WSMlfqJe5bQYAQQQCAfgebm5qamJl2h4fo1a9bkcylpEUAAgQIFuP1lKlwsb39pVuprc+TVq1dv3rw5tc2On+1K/auvvppNxhwwHCKAAAII9CtQUlJiH9u4cSNjMlaDAwQQ8E6A0RjvbAPOOfdNxlTR22+/fdasWdOnT6+trQ243hSPAAIIIBA1AY3e28/IKisro1Z96osAApEUIIyJZLdlqbTZZCyXlfpsMpaFkYcQQAABBHIXeOSRR2688UZNWl62bBkfh+XuRkoEEChGgDCmGL2wXGtX6j/66KPZ62Q2GWOlfnYlHkUAAQQQyEtAs8j27t2b1yUkRgABBIoUIIwpEjCwy/Wh13PPPbd+/XqteNFxlnqYlfrXXXfd1KlTKyoqsqTkIQQQQAABBBBAAAEEIiFAGBOJbjpVSTYZi1JvUVcEEEAAAQQQQAABzwQIYzyjdSlju1Jfd6W0Cygz5m03GWOlfkYfTiKAAAIIIIAAAgjERoAwJqRdqZX6zzzzzNqTX9mraFbqz5s3j1WV2aF4FAEEEEAAAQQQQCA2AoQxIerK3DcZ00p97QkzY8YM9uYPUf9RFQQQQAABBBBAAAG/BAhj/JLupxy7ydiAK/XZZKwfQk4jgAACCCCAAAIIJE6AMCaALjcr9Z966qkBQxezydjMmTOvuuoqNhkLoKsoEgEEEEAAAQQQQCCUAoQxPnWLVuqvXr36hRde0L+5rNT/2Mc+Nm3aNK3a96l+FIMAAggggEChAppZsGDBgvb29nvuuWfJkiWFZsN1CCCAQB4CJX19fXkkD03S7du3dnd3e1Gd0aPH6NuVnO0mYwOu1GeTMVfAyQQBBBBAIBCBKVOm2E/otmzZwpYzgfQChSKQNAFGY9zvcbNS/8knn1T0kj13s8kYK/WzK/EoAggggEDIBWwMo3p2dnaGvLZUDwEE4iFAGONOP5qV+j/60Y90d5fsOZqV+tdeey2bjGWH4lEEEEAAgagILFu2rKmpSbXV3zj+ukWl16gnAlEXYFJZag/mPqks903GtFJfAy9XXHHF1KlTWamfKs7PCCCAAALRF9DfRI3D1NXV8Wcu+p1JCxCIhgCjMfn1k9lkLJeV+naTMVbq50dMagQQQACBCAqwHiaCnUaVEYi2AGHMwP1nVuprc+QcNxmbNWvW1VdfzSZjA8uSAgEEEEAAAQQQQACBggQIY/pl27Fjx7e//e0BNxnT9Zowdv3110+fPp3PovrV5AEEEEAAAQQQQAABBNwTiGoYM2TIUI82XB46dKjhffjhh++///7+qNlkrD8ZziOAAAIIIIAAAggg4LVAVMOYYcOG7dv3tus6ZWVlCpBMtppClpK/2WSMlfopLPyIAAIIIIAAAggggIDPAlENY849d7CGTVwfkBk5cpTpgLfeemvTpk06Niv1r7vuOjYZ8/mpSXEIIIAAAggggAACCPQnENUNl9WeQ4e6t23b2l/DCjivoZi6ugv1r6596qmnenp62GSsAEYuQQABBBBAAAEEEEDAa4EIhzGiaWvbu39/u1tGEydOsjPK3MqTfBBAAAEEEIi9gLb0fOKJJzo6OubNm8duN7HvbhqIQEgEoh3GCHHPnl0HDhwoXnPs2POGDx9RfD7kgAACCCCAQNIEbrnllpUrV6rVutnAli1buANm0p4AtBeBQAQiH8ZITWv9i1nur1lk48aNZxwmkOcfhSKAAAIIxECg5P9v79yD9qjqO950lBkhpDNOE5BUIRLkFkxwfAFhohAcSmkGEBC8jSJSqReMRVpqLcaAqaUCFfBSkaJxvFVJrQ4VVFSE4ZY4QiCglEtQO4jQUQsJ9R8n/cYf+ea4u8++Z/d9n3efy4fJPJx395zf5XN2zzm/c87uzpplL9atWzcxMeE/SUAAAhDoE4E/7JPcmRS7226777//Ac99buO1FAUwKqvnYYhhZrK+0AUBCEAAAiNGQB8hCI+0GjN//vwR8w53IACBwSQwCqsxJvvb3/72ySf/V4/m/+Y3/6e0jxcSO+2007OfvdNznvOcOXP+qHCKPyEAAQhAAAIQaEpAz8asWrXq17/+9VlnncVSTFN65IcABNoRGKkwph0CSkEAAhCAAAQgAAEIQAACw0VgFDaVDRdxrIUABCAAAQhAAAIQgAAEpkiAMGaKACkOAQhAAAIQgAAEIAABCMw0AcKYmSaOPghAAAIQgAAEIAABCEBgigQIY6YIkOIQgAAEIAABCEAAAhCAwEwTIIyZaeLogwAEIAABCEAAAhCAAASmSIAwZooAKQ4BCEAAAhCAAAQgAAEIzDQBwpiZJo4+CEAAAhCAwOgRuP/++9evXz96fuERBCAwsAQIYwa2ajAMAhCAAAQgMBwELr/88v322++QQw5ZtmzZcFiMlRCAwPAT4POXw1+HeAABCEAAAhDolMD8+fMfffTRMGHdunUTExOdmoNyCEBgLAiwGjMW1YyTEIAABCAAgf4RmDt3roXPmTPHaRIQgAAE+keAMKZ/bJEMAQhAAAIQGAsCl1xyyR577CFXL7jggn333XcsfMZJCECgawJsKuu6BtAPAQhAAAIQgAAEIAABCDQkwGpMQ2BkhwAEIAABCEAAAhCAAAS6JkAY03UNoB8CEIAABCAAAQhAAAIQaEiAMKYhMLJDAAIQgAAEIAABCEAAAl0TIIzpugbQDwEIQAACEIAABCAAAQg0JEAY0xAY2SEAAQhAAAIQgAAEIACBrgkQxnRdA+iHAAQgAAEIQAACEIAABBoSIIxpCIzsEIAABCAAAQhAAAIQgEDXBAhjuq4B9EMAAhCAAASGnMD999+/bNmy+fPnr1mzZshdwXwIQGBoCPD5y6GpKgyFAAQgAAEIDCaBJUuWbNiwIWz78Y9/vO+++w6mnVgFAQiMEoFnjZIz+DLsBL761a9+/vOflxerV6+mFxz22sR+CEBguAhceOGFEYpcc801TS13DKOCTz75ZNPiyn/KKafod/Hixeeff36L4hSBAATGh4CHi4Qx41PpQ+Dpz372s7Vr18rQ8847bwjMxUQIQAACI0RAoUi0wC18uuCCC97//ver4FFHHTUxMdFCQmvVLXRRBAIQGGoCHi4Sxgx1PWI8BCAAAQhAoHsCWkI59dRTtQ6z3377dW8NFkAAAuNBgDBmPOoZLyEAAQhAAAL9JMBO4H7SRTYEIFBBgDeVVUDhEAQgAAEIQAACEIAABCAwyAQIYwa5drANAhCAAAQgAAEIQAACEKggQBhTAYVDEIAABCAAAQhAAAIQgMAgEyCMGeTawTYIQAACEIAABCAAAQhAoIIAYUwFFA5BAAIQgAAEIAABCEAAAoNMgDBmkGsH2yAAAQhAAAIQgAAEIACBCgKEMRVQOAQBCEAAAhCAQCMC+q72mjVrnnrqqUalyAwBCECgNQHCmNboKAgBCEAAAhCAwDYC55577kknnXT66acvXboUIhCAAARmhgBhzMxwRgsEIAABCEBgZAl88YtfDN82bNiwfv36kfUTxyAAgUEiQBgzSLWBLRCAAAQgAIEhJPDa1742rN5jjz0mJiaG0ANMhgAEho/As4bPZCweAwL33XffGHiJixCAAAQGiMAvf/nL1tasXLnyoIMOuueee84555zWQlTwV7/6FYs5UwFIWQiMA4Gf/vSn4easrVu3joPD+DgUBC6//PIVK1YMhakYCQEIQGBUCXQyMJg1a9ao8sQvCECgTwTYVNYnsIiFAAQgAAEIQAACEIAABPpFgE1l/SKL3KkQeM973vOCF7xgKhIoCwEIQAACjQhcffXVekC/UZFpz7x48eIzzjhj2sUiEAIQGCUCN91009q1a+URYcwoVevo+HLaaafxkOjoVCeeQAACw0BAI4POw5iFCxe+613vGgZa2AgBCHRJIMIYNpV1WQfohgAEIAABCEAAAhCAAARaECCMaQGNIhCAAAQgAAEIQAACEIBAlwQIY7qkj24IQAACEIAABCAAAQhAoAUBwpgW0CgCAQhAAAIQgAAEIAABCHRJgDCmS/rohgAEIAABCEAAAhCAAARaECCMaQGNIhCAAAQgAAEIQAACEIBAlwQIY7qkj24IQAACEIAABCAAAQhAoAUBwpgW0CgCAQhAAAIQgAAEIAABCHRJgDCmS/rohgAEIAABCEAAAhCAAARaECCMaQGNIhCAAAQgAAEIQAACEIBAlwQIY7qkj24IQAACEIAABCAAAQhAoAUBwpgW0CgCAQhAAAIQgAAEIAABCHRJ4FldKkc3BH6fwPOf//yTTz5Zx+bMmfP7Z/gLAhCAAAT6S2Dx4sX9VVArPRr/bm2oNZCTEIDAoBDwcHHW1q1bB8Uo7IAABCAAAQhAAAIQgAAEIJBBgE1lGZDIAgEIQAACEIAABCAAAQgMEgHCmEGqDWyBAAQgAAEIQAACEIAABDIIEMZkQCILBCAAAQhAAAIQgAAEIDBIBAhjBqk2sAUCEIAABCAAAQhAAAIQyCBAGJMBiSwQgAAEIAABCEAAAhCAwCAR4IXLg1Qb2AKB6SPwo/s2rlr5t5J37HHHn/7mt7YQ/JpXL1ep5+3xJ/982b+0KE4RCDQl8PTTW77/ve/cffedd/5w/a67zlly8EuXH/+qPfdc0FQO+SEAAQhUErjuP7++5jNX6tS5f3P+SycOrcyTHqQfTGkMYJowZgArBZOGkoDDhrB+5ap/3P+ARZWeaKy24p1/8dRTT8bZpS9f9o6zz6nMOZWDW7ZsieK7zdu9hZyf/GRTlNp99+e1KE4RCDQloPviQ6s/8MB//SgK6ga5+abvLjpoCWFMU5Lkh0A+AQ/rJy2imYVPXf2FSbPlZ4gIYdrF1hugWZLIMHfevPqcOks/OCmizjMQxnReBRgwIgQef/zx1JNHNj3cK4xZv+4OxzAq8sIXLkwLTlf6icd/EaLmztuthcynt0dBe++9T4viFIFAUwJXXHZxxDAHv2Ti6Fceu8suu+gm2msBSzFNQZIfAg0IbNmyOTP3wn32zcyZk80RwvSKnVT15s3P+JszP0I/OCnPzjMQxnReBRgwIgSezu4Mbvj2danPO+8yO/1zutIPP/xgiNJwsIVMjSC3F++LeS1MGtIiWqaT5TvvsktOrzmkPk7dbI1ptJFMchTDnPfelSGw10TA1NUhAQIQCAJz5+3+ptN/b9dx7LnSIslJJ78mpTS9XdUT2yf+ZnimLOZKtFk6da1Xmn6wF5nBOU4YMzh1gSXDTcBL1fVuaLjmZvTnj/63Ms/LWNqul1l5dvPmp+J4u7HgLx5/LIrvteCFlfI5mENA1R1PKPVp62CODUOR576N94Sdh71s6VAYjJEQGA0CrzhyWepIukjyZ39+fHpqetN6LuVLX7l2emVOKs3eZW6Wph+cFGnnGXhTWedVgAEjQiCWqjWXHP70imrW33GbMmiiy81ouzBjUmoxt50551SW9ovHfh4H586dfANxuThHgoD3JPRp6+DIcPb9cuCB1U+UjYynOAKBQSbQ1SLJzDCxdy9+8cE5GukHcyh1m4cwplv+aB8dArHGMnv2rvu8aP8ar755/bb5pyOWHvngA/cr0TrMqFGhU3paOjI4WKrPXz4b5un4HxPGlOlkH/GehOndj5Gtf2gyPrY9bOZ6G5o6w9BRJOCHKnfpz27nbpnZu0wz6AczQXWYjTCmQ/ioHh0CXqrWpPvs2T0fJvn+jd+Nh/sPPfTwSLQOM+rZ/eSRZ94z1m7bsaKgMM+LS/XqONuLgPck9GnrYC+9Q3c8NlhyvQ1dxWHwiBFwkzWS24kbeUc/OBTXNs/GDEU1YeSgE/DeIU+6x56ugt2333azjqQrMJVhhlrP9OsZepGLVsBfcdTRO+9c/bC+3pipPTmaz9ZYUAPBdLm8PKP2P088fuP3btiw4U4tH8mShQtftOzoYwob2xwF7TbZ25Yv+tCq8FS7nFPJWpI6/PClNTYr8/p1t9ts7bKTm1K3YMFC79VOhetB+e9+51t6A2/57ZxNRQnvN6792i233CRcInDMMcd5C7jizI333HXXnT9QFCcXTjjxlMoPC6Se9mIY7xL1BRBPyOjPwkMyOaIm5RBCHnroAc0dyvIwSa8qNkmbUZnIAaiCk5qhPDnupDYI+Cc+dqmP6Foyt6vX/Ftc8Dl6c26Z+hfLVl5Xk94pH7viUl2Tsl/W6te3rdKq6PKdZU9JQGAwCXgbld5KUrYw52ZUqZwmJe50NbMXrv6wFbW+oXI0Sou902bptLGq7LDq+8G0eK9ewH6R6B8Bwpj+sUXyGBHw3iFNuvca+qvVixG/xs3OXw4zNLD73GevisUQEVRCpfTv1ltvXvHuvy5sudEq0EcuvShmsgN3ZDb6woxaQbgK6p/GYae8+nWnnPo6l/LLoyf95kzsBVIfcM2Xv3DNV3Z8UkAxkv7J5rSLsvzygDLcVAb1Bx58x4K+hKf5C2/nTE+F/EpRQV6iygTitTwHLDqoQFL2X/xPF1508RWFN4yVJZQZqq7tbCGRPiSTI0rF6zkUhCi/q3XTpgcn/fJpJsBJzVCGgiU2o3B1Kaf/6/V+PwUVDtrr3Zeogt5et4zf3WftaaJwXRVk9vLFe+Huu3fjJz9xmVRbpm4r/fvox68u3LPOQAICA0ggmkoZVmj3wtRJb0Zly2lSvH+hsHmh3Q2VozHst3eaoajssN77vg+45anpBzPbh1DKb18JEMb0FS/Cx4WAl6r33GuBQ5SC82o344jWKDRrG+lCmPGD9Xd4clqDvwMXvVhfsfzODder8dWo+rKPfDiNCtQTfHDV+2LkdOxxxy9atDg+taElDjfWssdmWLhCBYVSUi1T/33tlyRBDbp0eU3Gg8uCeRblhIZ3SkfQIhu0lqJAzmJ1XB2M1zqi1Gc+feX13/i60jLjiCNeLr1K37vx7uhUvMvOC/ohXHlix1G61pQvKlSHKOn902OXK4DUuDam0gUhghnNoEeY8a1vfSNc0ysZ0u48k6EmMvX9U/WCUZsKn173+jeFDX5lQqaoeg6Klxz06oLZa8HeugakVwHMLTffOGkUmglQlteboQyZ7gQE/yp6FKg77rg1Lgm9+DUuOc8E5+uVzPpbZvnxr9LyiFUroZvLscfxJ5zsU/m+6IqKUop4t13PS48M5r5+dNenEwRWQQICA0hAt1tYpSarbN6kN6OKZDYp3r+Qtucq3uKGytQo4enskrqbyg5LXbM7rF79YH77UGbIkWknQBgz7UgROI4EvFTtiRxR0D4oBwb6U7uY9KuBsvIo0ghMHtTqT3USGlQpoanov1+52qNn7WuKpXY18WpAvc3pqis/HjGMBoJWpIRa4b9a8ZcxCrc9Fq7B1uoPXRLHlVm74GKoraGkhdg8jybD2sJvfBFFBxVgvOXMt3nWWXI0GI1tVBLlXkE5tWgTA1Z1Iaee9nqbt+3U7xZz3Kt5QV8Gn/iqU71EYxvaiXrrWe+0mxKlyT9RFUbZs3z5iXZBoeYZbzpNGbRTyxrzGcqv32nZ9sUY/af9dalSHckXVc9BG/PiGlAAYM77H/AHwiW8Hiv8zoriTz5Alaw3I9+dghFxkWu7YBxXVOPLPo5k6s25ZQqSJV8Egp7iHygdbe8AABMaSURBVFdQvi8eFUn7G954ZnqJThxy2DvffoZUpNdPeMQvBAaWgG+3wiJJGOyzU2+TPdnnbdhS0eKGatSIPbF9kbzcYanlOe/cs2VD2mFV9oP57cPA1vKIGcYj/iNWobjTDYFYao/lgkoLFH5EXHHoYUcog5fOPW7WQc0DxaBKHx0rDLk0kRxiH9n0UCS0qB0TVxq/egQWp/QbulJ7LFzj+DR48NjLkZiK27yCGZYfCa+5K/ZIHdFZmaSuTgmvCymtsCdiFRmmzU6pGe7VQrJ+LVwLRzbSZxuJsnCJKrByby17UhdS26y0EUOVsl5LcCJfVD0Hd7SOYaxCLqQe+XgkGgFUkXoz8t0pmBF/1lxvmXpzbpmCahPQxPNxy0/w2XxfPCrS4l7hEq0hb0UkIDBoBHy7eToptdBnp94me/9C+u6TpjeUb+GcDkWOuEEud1jq6WIBKu2wKtul/PYhRUe6fwQIY/rHFsnjQkDTMxF+xFMxlRux7rj9FuHQyD7WUsphhs5qa1PkKQ9JHU54cveGb1+nzJoG1rqBEul/atzjz/QpHQsvjOPTgk6HeZX7CpxHiV5r7pHH28Nc5OtfWxtpLd34YCTcq5mehc+dt1shs/5sJGrLls0hwcItMDqqNN6LU54XTLvzRgwlp0Zvvqh6DnbEBvtIfaIRQImqNyPfnUqrIiCvvN4y9ebcMqlq3bNXfvKjceTMt749jVrzffGoqPyEm6sjvX5SA0hDYAAJ+HZLF0lsp89OvU32rFnaHzW9oZo2YjUNsnz0lJb9rewH89sHyyHRVwKEMX3Fi/CxIOCl9sKjCG6UNaaJZzA0iSUiydONuxqQYo+IhfS4iA/2SkhgjPy0Fz8dgUV+7fiPhO2pEa7xXEGLzSvHIYWcfma6fu9ZlJLNMdGlbXXluWr3an6Yx+sMc+cVv7/ZVJRjv3QLX1gVHZW+9lNwzfOCPt6IYZSyXjsVxxuJquEgaR4l67kpYbG19YmmACWtxoxG7pQNs9nlYURrvWUthSOf/tdPRtVrMdNzBMrTyJdy7G0t5evHp0hAYGAJ+DZPF0lsrc9OvU2OvkDTcBauRKMbqkUj5ga53BGkZkS6sh9s1D6UZXKkHwR4NqYfVJE5XgS81B5zVOUxvR5gCCLaMa+En1hIX1rlmEdPaU+K7957n1lv0WP95cz+wpcXHyxc08ZqiNMiPuWlG3/nODUvLeJ05Zq7z0bCHdUOmw9aUsijP2NXnjI7Ktu8+ZkllHSUGQWbirKdhfDJKMqeGks7hmFn2ak4buE51VHDQdK0FqfZQQXACmv1MEbhCZ9QV/5tClASasxo5E7ZGI/4HZKleXL05twyqUzt8IxpBa3/FJZxGvlSjr2txXJ8/fgUCQgMLIEdt1vybhhbu+PsnjveHBNn73WXlNG8e+6s8HrARjdUI41hZDTIShc6gjgb3UTshdaRyn7Q93VO0x1i+e03AcKYfhNG/ugTSJbat60blIfdem2RjnsVwk1hujTvia4DDlxURuYBdwz1nnj8scizV1Vn40USzzn5SLyPqyxfR7x04ygoNa+ySM1eIOWP+TZ3VHp3Vgg5sOSgd+U5s3LWCG8qqnJvgFR42arsqecFvZDSiKGEVzoVBBqJquEgaYr69DYIvypar0/QPz2wXv92rKYApajGjEbuBIH017dD5T6WGr2NbhlrVL34RRp6g7mPR6KRL73CVIny9eN7sKCIPyEwgATidpNhnk5Kjay5GRs1Kd6/UPhsWqMbqpHG8CL2O5S3EMfZ6Ca8B6GyH2zUPqToSPePAJvK+scWyeNCwMOpQgATxxWBRPsYD/cLioc4ejeuGXmiq7L/8IA78ntxvGZWSTl9dvPmp6yoV8LTxjavvHMgLeu9QG73K896kcczbbbK+cu9WuWCvvM3EuUIsGynO6q0IkKLVbg6GjGUkLJTtj9fVD2HEKirTq+e0+YoL3zpPQr6Sp3VlRP2LqcuVLzejHx3ypboiDesl/exTKb3mfU611Eqv3DL+NQVl10coxm9FaDsfr4vNWGqdNUQtiUkIDBQBHy7VQ70fbbckMqLmgu+3BJ65iJ9qKzpDdVIoyx0R1DeQqyz9m5Hh7V9rjDtB/Pbh4Gq2dE2htWY0a5fvJsJAhGBeDFaKjWgjKGS0nqRcRzxi5Ld/qZPN8ZEV2X/oeIecEewERp7ZS7PmcXCiPKf996Vklb/n80rRGWFUt4LVN6RpZyPPLIp8nuRp9fD9Nsyb3o4MrtXq9x3F3n020iUt/yV7fTUWloRocXErNRHchiqVNmpFqLqOVigxvHaHBXfI4oFN1mrd9kVXp/l/I0AqlS9GU3J2IxIOCb3wpcz1OttdMuETH3FyNYWtpNFBp+dtJY9OPO4x2YrEfPKve7QNCdpCAwIAd9ulZe0z5YbUtnftEkJlz13pj+b3lBNNdZ0BNL+yKZih1XZD+a3D+EgvzNAgNWYGYCMihEnEMOpdI4q3RylrxDKf72S1RRiiJOGPT7VK3HrrTfHqRhwh8bKzJ5VSu2pzNnrYLTUk5rnYXp5R5Ykb9y4IeTrffyRiCWpSqWej3evZuGVG40aiUq2/BXfeBYdoRcxbJsZVs7bOVtmwk5l5k+z1XNIcyodwYyWZeL4xnvuKmTwn40AqlQjM6wlM1Gzk2Qqegu3jIzR+mG8ZUg1fvaKczPN65XNtjlQd07PK0/L9WOxJCDQVwI1l7T0+uzU22TvX0i3XFp+5g3VtBGr6QjknVtLd1iZ/WBfawThOQQIY3IokQcCPQl4b1XlA8p6mDiWZY486pUhwkOc/DBDKiJu0dM1Pe3YfqLywcTtJyf/v92Z1DzvPSvvyJKaCN4UC9Uv6YRBno93r2bh5Y1G9T6URXnJJd0bEEKCahpzxvEpMgwhlV11vfHlsy04eJEhZ/9DWWMZoPK0MKMsudeRuEHKtTAVvZW3jF7mFrrOetuKyn1ovSysP14OUz2vXDlvXS+NsxDoioCnkypnplo3AuUmJeaP5GZ5V6cOTv2GKmuU2B0NcunVl+qU450f7rDy+8GuKgu9JkAYYxQkINCGgPdWpYVjFlbTzLEoob0lbq89xCk83RgfzYiZ6VSU0tde+x9xZNnRx6Sn/DhNetDbz9KuKITH9FKauZy2O5VRWZrfa+7lHVnauhPjxXjBdJSKRY9Km+21KdUIl7RGotxlFgIqL7mUd1BMkWH4a712yvTyq6OegwWmCXfAZb+crRFAlao3I98dG+CEN6xXWpuj1xePZSpRvmV0TXouwNs70yKRzvdlx6hobvGF4J5Xrpy3LivlCAQGgcCO0X9poC/z6m/GRk1KLKQUtlw2vaEaaZT97noKHYFO6YuWwd8dVq9+ML99CIH8zgABwpgZgIyKUSbgIUs6hxSzsBrKx6LEYS9bagTeoevnQOLU4sUHK6EiGm85sxJ6wkHvnlJCjb4DhugANCzzWDyKaFbJe2nSRZLDD3/GgILwKKWBr8e+didO1fzG8LG890wmeetO+mnOmG4v2+wFq7RXq1/QbyQqBq9lO73Vu7yHwQs47RgGtJo9D/nVUcNBnHVtlCvII/gFCxaWz8aRRgBVpMYMnc13p2yPb4dyLUyqN/+WEat4ZEiXwZvfclbZDB/J96UmTPWsdtO1RJtBAgIzT8AzAuWBvoypbwTym5ReMxdNb6h8jUEyOoKIQ1K2akXdOLjD6tUP5rcPqQrSfSXAI/59xYvw0SfgIUv5AWU5r7BEk0bpk9beoZuGPcqpXWffvP5a5VeTquX7Qw89XK9a0mJOxDAS8pbky/eKi6JT+eCq9+mFSxKl4aBeQBmZA7pjHv2p79XE10UkXGP0RQct0QBL8rXsoLBH7fuXvnJtlLI7BfPirH+9NW7zU09e8+Uv6MMdMeK/d+Pdek1WZCts3am0+fbbbg5HVMTz8RIeEnptbMsX5fCsLModVbpsFXrdobZjGEI0Yo5I5mNXXKpltHhxVqwDZFZHPYf7Nt6j2vzcZ6/SJ1AjBlDd3XLLTaFU2tOrLkzybz5AFak3Qxky3bH2NNHrdsjRm3nLyP6rrvx4KNVsq5dDbYY+9ORxW74vlTPKIdOz2un1Y3UkIDCYBNT7yLDyjI8OTtoI5DcpfoVgYeai6Q2Vr1H2e75PW201lxe9W6GHffc553mvaa9+ML99GMwqHkmrCGNGslpxauYIeMjiFrCgO324X6d6LZ1r69E55/7dpRf/g/oSRSNpQKJ+RS1sujdJI1Q9kqjtvBH2WKO+fvjQgw8oLCl0RalwlYp9wC6VLoPYncqozEU8FpQBjlt8VkHXG954ZmHrTi+b9ZGTkOBezcJ7bWzLF9Vrb4BM9VbvXs/MxKYFO5XPMIpoxByTfAbuh+8zRdVziA1LcbXYyEjEBVM4mP6ZD1Cl6s1Qhkx3UgOc9sJX+aOxjfTW3DKSExOxUho1Yu2RUL04jMn0xTPKlQ/xx6x24fopKOVPCAwUAV/S5Rkf2TnpzZjfpHjLbjpTZu35N1S+Rtnvxx0VLJUbgWgw3Qgof69+MLN9GKiaHXljCGNGvopxsL8EYsiSRgLSlzbQE4e+LLXAO3TVIKbHldbc7Ycu+siN37tBbajWKNS2Llz4Iu1P80Pbaf53nH2OFlViNUML5Xsv3EcLOJIQHwwpd0U6ddlHP6VNwIqjZLOGvyqlbBKi/sCSvRDRKyqLnN4LpMBJRzbc9cOYS5NMbfU5bvkJlcVls9yRAfIubF6+/ERxiDDG0LxOYqvKiaaiyk8peKt32ntJkeftYtNCqjqTYRRRrUnpDd++LqLKxUteopk8S8sRVc9BtaYPiepq2bDhzhima9wsmxX7aWtEJX9rVyIToHLWmxEyc9xJtTvt661QC/l6J71lJrW/sByX44tnlMsP8WveWjeX7C9fP/aaBAQGjYCb9MrJo0lvIrmT2aRUzly0u6EyNco2zalddPEV6++4TX1rdH866Aaz3MO6XSo3pDntw6BV7mjbM2vr1q2j7SHeQQAC005A6/Ixp7Vy1T+qWZ92+QgcEwKvefW2F5Erpr1w9YfHxGXchAAEIACB6SLAI/7TRRI5EBgjAt4aV7/3bIyI4GpzAn5yafbs2c1LUwICEIAABMadAGHMuF8B+A+BFgRq1txbSKPIeBKoeXJpPIHgNQQgAAEINCJAGNMIF5khAIFtBGreKgMgCGQS8Ib78pNLmRLIBgEIQAAC40yAMGacax/fIdCGgB+Cr3yrTBuJlBlLAn6rKd9XGcv6x2kIQAACUyVAGDNVgpSHwLgR8Msry69pGjcU+DsVAr3eajoVmZSFAAQgAIHxIUAYMz51jacQmB4CfvF/4U210yMdKWNDwN9XKb/VdGwY4CgEIAABCLQnwAuX27OjJAQgAAEIQAACEIAABCDQCQFWYzrBjlIIQAACEIAABCAAAQhAoD0Bwpj27CgJAQhAAAIQgAAEIAABCHRCgDCmE+wohQAEIAABCEAAAhCAAATaEyCMac+OkhCAAAQgAAEIQAACEIBAJwQIYzrBjlIIQAACEIAABCAAAQhAoD0Bwpj27CgJAQhAAAIQgAAEIAABCHRCgDCmE+wohQAEIAABCEAAAhCAAATaEyCMac+OkhCAAAQgAAEIQAACEIBAJwQIYzrBjlIIQAACEIAABCAAAQhAoD0Bwpj27CgJAQhAAAIQgAAEIAABCHRCgDCmE+wohQAEIAABCEAAAhCAAATaEyCMac+OkhCAAAQgAAEIQAACEIBAJwQIYzrBjlIIQAACEIAABCAAAQhAoD0Bwpj27CgJAQhAAAIQgAAEIAABCHRCgDCmE+wohQAEIAABCEAAAhCAAATaEyCMac+OkhCAAAQgAAEIQAACEIBAJwQIYzrBjlIIQAACEIAABCAAAQhAoD0Bwpj27CgJAQhAAAIQgAAEIAABCHRCgDCmE+wohQAEIAABCEAAAhCAAATaEyCMac+OkhCAAAQgAAEIQAACEIBAJwQIYzrBjlIIQAACEIAABCAAAQhAoD0Bwpj27CgJAQhAAAIQgAAEIAABCHRCgDCmE+wohQAEIAABCEAAAhCAAATaEyCMac+OkhCAAAQgAAEIQAACEIBAJwQIYzrBjlIIQAACEIAABCAAAQhAoD0Bwpj27CgJAQhAAAIQgAAEIAABCHRCgDCmE+wohQAEIAABCEAAAhCAAATaEyCMac+OkhCAAAQgAAEIQAACEIBAJwQIYzrBjlIIQAACEIAABCAAAQhAoD0Bwpj27CgJAQhAAAIQgAAEIAABCHRCgDCmE+wohQAEIAABCEAAAhCAAATaEyCMac+OkhCAAAQgAAEIQAACEIBAJwQIYzrBjlIIQAACEIAABCAAAQhAoD0Bwpj27CgJAQhAAAIQgAAEIAABCHRCgDCmE+wohQAEIAABCEAAAhCAAATaEyCMac+OkhCAAAQgAAEIQAACEIBAJwQIYzrBjlIIQAACEIAABCAAAQhAoD0Bwpj27CgJAQhAAAIQgAAEIAABCHRCgDCmE+wohQAEIAABCEAAAhCAAATaE/h/A+f/dUcMRuQAAAAASUVORK5CYII=)\n",
        "\n",
        "**Using pretrained models**\n",
        "\n",
        "We will use another convenient auto class from huggingface Transformers called AutoModel. Similar to the AutoTokenizer class, AutoModel has a from_pretrained() method to load the weights of a pretrained model. Let's use this method to load the DistilBERT checkpoint:"
      ],
      "metadata": {
        "id": "vbP68PsYZWkS"
      }
    },
    {
      "cell_type": "code",
      "source": [
        "# hide_output\n",
        "from transformers import AutoModel\n",
        "\n",
        "model_ckpt = \"distilbert-base-uncased\"\n",
        "device = torch.device(\"cuda\" if torch.cuda.is_available() else \"cpu\")\n",
        "model = AutoModel.from_pretrained(model_ckpt).to(device)"
      ],
      "metadata": {
        "colab": {
          "base_uri": "https://localhost:8080/",
          "height": 123,
          "referenced_widgets": [
            "0aab28915d2e4b0c8da3380e2f23b001",
            "34f93914c8f547dd93b33f8113cccad7",
            "5a440b033ad449fbbbc22e8028c5b7c0",
            "b8755258b6b9474bb4082265e3643d4c",
            "9c46c47da93d4bd0bcb85e5216cf9f05",
            "bca539cf9ff34d769c3a8724ea811d47",
            "f4f9c76f020c4893ace343606cb89848",
            "4e14abe820894d688f16a66715e7db6d",
            "aea1b845684d4c41b734830c62013233",
            "f3eb7eb084f3440ab100224c4d3e26e8",
            "1bd2360f72e04a9297053a0e110b4c6c"
          ]
        },
        "id": "LcLZ0KEbZms3",
        "outputId": "95ada8cd-091a-4698-9877-bbd115ccd0b5"
      },
      "execution_count": null,
      "outputs": [
        {
          "output_type": "display_data",
          "data": {
            "text/plain": [
              "Downloading:   0%|          | 0.00/256M [00:00<?, ?B/s]"
            ],
            "application/vnd.jupyter.widget-view+json": {
              "version_major": 2,
              "version_minor": 0,
              "model_id": "0aab28915d2e4b0c8da3380e2f23b001"
            }
          },
          "metadata": {}
        },
        {
          "output_type": "stream",
          "name": "stderr",
          "text": [
            "Some weights of the model checkpoint at distilbert-base-uncased were not used when initializing DistilBertModel: ['vocab_layer_norm.weight', 'vocab_transform.bias', 'vocab_projector.bias', 'vocab_projector.weight', 'vocab_transform.weight', 'vocab_layer_norm.bias']\n",
            "- This IS expected if you are initializing DistilBertModel from the checkpoint of a model trained on another task or with another architecture (e.g. initializing a BertForSequenceClassification model from a BertForPreTraining model).\n",
            "- This IS NOT expected if you are initializing DistilBertModel from the checkpoint of a model that you expect to be exactly identical (initializing a BertForSequenceClassification model from a BertForSequenceClassification model).\n"
          ]
        }
      ]
    },
    {
      "cell_type": "markdown",
      "source": [
        "Here we've used PyTorch to check whether a GPU is available or not, and then chained the PyTorch nn.Module.to() method to the model loader. This ensures that the model will run on the GPU if we have one. If not, the model will run on the CPU, which can be considerably slower.\n",
        "\n",
        "The AutoModel class converts the token encodings to embeddings, and then feeds them through the encoder stack to return the hidden states. Let's take a look at how we can extract these states from our corpus."
      ],
      "metadata": {
        "id": "hZrJpyskaB02"
      }
    },
    {
      "cell_type": "markdown",
      "source": [
        " **Interoperability Between Frameworks**\n",
        "\n",
        "Although the code in this book is mostly written in PyTorch, huggingface Transformers provides tight interoperability with TensorFlow and JAX. This means that you only need to change a few lines of code to load a pretrained model in your favorite deep learning framework! For example, we can load DistilBERT in TensorFlow by using the TFAutoModel class as follows:\n",
        "\n",
        "\n",
        "from transformers import TFAutoModel\n",
        "\n",
        "tf_model = TFAutoModel.from_pretrained(model_ckpt)\n",
        "\n",
        "This interoperability is especially useful when a model is only released in one framework, but you'd like to use it in another. For example, the XLM-RoBERTa model that we'll encounter in chapter 4 only has PyTorch weights, so if you try to load it in TensorFlow as we did before:\n",
        "\n",
        "tf_xlmr = TFAutoModel.from_pretrained(\"xlm-roberta-base\")\n",
        "you'll get an error. In these cases, you can specify a from_pt=True argument to the TfAutoModel.from_pretrained() function, and the library will automatically download and convert the PyTorch weights for you:\n",
        "\n",
        "tf_xlmr = TFAutoModel.from_pretrained(\"xlm-roberta-base\", from_pt=True)\n",
        "\n",
        "As you can see, it is very simple to switch between frameworks in huggingface Transformers! In most cases, you can just add a \"TF\" prefix to the classes and you'll get the equivalent TensorFlow 2.0 classes. When we use the \"pt\" string (e.g., in the following section), which is short for PyTorch, just replace it with \"tf\", which is short for TensorFlow.\n",
        "\n"
      ],
      "metadata": {
        "id": "QTslbbH8aQrm"
      }
    },
    {
      "cell_type": "markdown",
      "source": [
        "## ***Extracting the last hidden states***"
      ],
      "metadata": {
        "id": "skERQz_XbbUG"
      }
    },
    {
      "cell_type": "markdown",
      "source": [
        "To warm up, let's retrieve the last hidden states for a single string. The first thing we need to do is encode the string and convert the tokens to PyTorch tensors. This can be done by providing the return_tensors=\"pt\" argument to the tokenizer as follows:"
      ],
      "metadata": {
        "id": "h0lh5Hb7bkCK"
      }
    },
    {
      "cell_type": "code",
      "source": [
        "text = \"this is a test\"\n",
        "inputs = tokenizer(text, return_tensors=\"pt\")\n",
        "print(f\"Input tensor shape: {inputs['input_ids'].size()}\")"
      ],
      "metadata": {
        "colab": {
          "base_uri": "https://localhost:8080/"
        },
        "id": "YB-snxH5Z-Pb",
        "outputId": "ceeacdfc-570f-4ace-be51-f0d6d92d1975"
      },
      "execution_count": null,
      "outputs": [
        {
          "output_type": "stream",
          "name": "stdout",
          "text": [
            "Input tensor shape: torch.Size([1, 6])\n"
          ]
        }
      ]
    },
    {
      "cell_type": "code",
      "source": [
        "inputs"
      ],
      "metadata": {
        "colab": {
          "base_uri": "https://localhost:8080/"
        },
        "id": "WSIyGp8fbqp4",
        "outputId": "4ed42750-6e07-448e-dd29-d70f1613b4f3"
      },
      "execution_count": null,
      "outputs": [
        {
          "output_type": "execute_result",
          "data": {
            "text/plain": [
              "{'input_ids': tensor([[ 101, 2023, 2003, 1037, 3231,  102]]), 'attention_mask': tensor([[1, 1, 1, 1, 1, 1]])}"
            ]
          },
          "metadata": {},
          "execution_count": 94
        }
      ]
    },
    {
      "cell_type": "markdown",
      "source": [
        "As we can see, the resulting tensor has the shape [batch_size, n_tokens]. Now that we have the encodings as a tensor, the final step is to place them on the same device as the model and pass the inputs as follows:"
      ],
      "metadata": {
        "id": "f3_QdoeBb70-"
      }
    },
    {
      "cell_type": "code",
      "source": [
        "inputs = {k:v.to(device) for k,v in inputs.items()}\n",
        "with torch.no_grad():\n",
        "    outputs = model(**inputs)\n",
        "print(outputs)"
      ],
      "metadata": {
        "colab": {
          "base_uri": "https://localhost:8080/"
        },
        "id": "VXOFKdmnbxQn",
        "outputId": "3b6b764f-5316-4672-8757-3c91c7f26b43"
      },
      "execution_count": null,
      "outputs": [
        {
          "output_type": "stream",
          "name": "stdout",
          "text": [
            "BaseModelOutput(last_hidden_state=tensor([[[-0.1565, -0.1862,  0.0528,  ..., -0.1188,  0.0662,  0.5470],\n",
            "         [-0.3575, -0.6484, -0.0618,  ..., -0.3040,  0.3508,  0.5221],\n",
            "         [-0.2772, -0.4459,  0.1818,  ..., -0.0948, -0.0076,  0.9958],\n",
            "         [-0.2841, -0.3917,  0.3753,  ..., -0.2151, -0.1173,  1.0526],\n",
            "         [ 0.2661, -0.5094, -0.3180,  ..., -0.4203,  0.0144, -0.2149],\n",
            "         [ 0.9441,  0.0112, -0.4714,  ...,  0.1439, -0.7288, -0.1619]]]), hidden_states=None, attentions=None)\n"
          ]
        }
      ]
    },
    {
      "cell_type": "markdown",
      "source": [
        "Here we've used the torch.no_grad() context manager to disable the automatic calculation of the gradient. This is useful for inference since it reduces the memory footprint of the computations. Depending on the model configuration, the output can contain several objects, such as the hidden states, losses, or attentions, arranged in a class similar to a namedtuple in Python. In our example, the model output is an instance of BaseModelOutput, and we can simply access its attributes by name. The current model returns only one attribute, which is the last hidden state, so let's examine its shape:"
      ],
      "metadata": {
        "id": "Qb3M4J-3cmXp"
      }
    },
    {
      "cell_type": "code",
      "source": [
        "outputs.last_hidden_state.size()"
      ],
      "metadata": {
        "colab": {
          "base_uri": "https://localhost:8080/"
        },
        "id": "f0c8Kmz-b_At",
        "outputId": "816c5511-ecf6-4bf9-f6db-ff4742b0767c"
      },
      "execution_count": null,
      "outputs": [
        {
          "output_type": "execute_result",
          "data": {
            "text/plain": [
              "torch.Size([1, 6, 768])"
            ]
          },
          "metadata": {},
          "execution_count": 99
        }
      ]
    },
    {
      "cell_type": "code",
      "source": [
        ""
      ],
      "metadata": {
        "id": "B337RZtZcO0V"
      },
      "execution_count": null,
      "outputs": []
    }
  ]
}